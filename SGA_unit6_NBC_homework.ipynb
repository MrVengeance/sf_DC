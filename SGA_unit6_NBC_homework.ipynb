{
  "cells": [
    {
      "attachments": {},
      "cell_type": "markdown",
      "id": "00009cca",
      "metadata": {
        "id": "00009cca"
      },
      "source": [
        "# Классификация текстов с использованием Наивного Байесовского Классификатора"
      ]
    },
    {
      "cell_type": "code",
      "execution_count": 78,
      "id": "10696144",
      "metadata": {},
      "outputs": [],
      "source": [
        "import numpy as np\n",
        "import pandas as pd\n",
        "import plotly\n",
        "import plotly.express as px\n",
        "import matplotlib.pyplot as plt\n",
        "%matplotlib inline\n",
        "from sklearn.model_selection import train_test_split\n",
        "from sklearn.naive_bayes import MultinomialNB\n",
        "from sklearn.naive_bayes import ComplementNB\n",
        "from sklearn.metrics import accuracy_score\n",
        "from sklearn.metrics import precision_score\n",
        "from sklearn.metrics import recall_score\n",
        "from sklearn.metrics import \\\n",
        "    classification_report, roc_auc_score, roc_curve, auc"
      ]
    },
    {
      "attachments": {},
      "cell_type": "markdown",
      "id": "a52414b8",
      "metadata": {
        "id": "a52414b8"
      },
      "source": [
        "## Задание 1 (1 балл)"
      ]
    },
    {
      "attachments": {},
      "cell_type": "markdown",
      "id": "f5f27b43",
      "metadata": {
        "id": "f5f27b43"
      },
      "source": [
        "Откройте данные. Узнайте, сколько в них спам- и не спам-писем. Визуализируйте полученные соотношение подходящим образом."
      ]
    },
    {
      "cell_type": "code",
      "execution_count": 54,
      "id": "ac369274",
      "metadata": {
        "id": "ac369274"
      },
      "outputs": [
        {
          "data": {
            "text/html": [
              "<div>\n",
              "<style scoped>\n",
              "    .dataframe tbody tr th:only-of-type {\n",
              "        vertical-align: middle;\n",
              "    }\n",
              "\n",
              "    .dataframe tbody tr th {\n",
              "        vertical-align: top;\n",
              "    }\n",
              "\n",
              "    .dataframe thead th {\n",
              "        text-align: right;\n",
              "    }\n",
              "</style>\n",
              "<table border=\"1\" class=\"dataframe\">\n",
              "  <thead>\n",
              "    <tr style=\"text-align: right;\">\n",
              "      <th></th>\n",
              "      <th>email</th>\n",
              "      <th>label</th>\n",
              "    </tr>\n",
              "  </thead>\n",
              "  <tbody>\n",
              "    <tr>\n",
              "      <th>0</th>\n",
              "      <td>date wed NUMBER aug NUMBER NUMBER NUMBER NUMB...</td>\n",
              "      <td>0</td>\n",
              "    </tr>\n",
              "    <tr>\n",
              "      <th>1</th>\n",
              "      <td>martin a posted tassos papadopoulos the greek ...</td>\n",
              "      <td>0</td>\n",
              "    </tr>\n",
              "    <tr>\n",
              "      <th>2</th>\n",
              "      <td>man threatens explosion in moscow thursday aug...</td>\n",
              "      <td>0</td>\n",
              "    </tr>\n",
              "    <tr>\n",
              "      <th>3</th>\n",
              "      <td>klez the virus that won t die already the most...</td>\n",
              "      <td>0</td>\n",
              "    </tr>\n",
              "    <tr>\n",
              "      <th>4</th>\n",
              "      <td>in adding cream to spaghetti carbonara which ...</td>\n",
              "      <td>0</td>\n",
              "    </tr>\n",
              "  </tbody>\n",
              "</table>\n",
              "</div>"
            ],
            "text/plain": [
              "                                               email  label\n",
              "0   date wed NUMBER aug NUMBER NUMBER NUMBER NUMB...      0\n",
              "1  martin a posted tassos papadopoulos the greek ...      0\n",
              "2  man threatens explosion in moscow thursday aug...      0\n",
              "3  klez the virus that won t die already the most...      0\n",
              "4   in adding cream to spaghetti carbonara which ...      0"
            ]
          },
          "execution_count": 54,
          "metadata": {},
          "output_type": "execute_result"
        }
      ],
      "source": [
        "email_data = pd.read_csv('data/spam_or_not_spam.csv')\n",
        "email_data.head()"
      ]
    },
    {
      "cell_type": "code",
      "execution_count": 57,
      "id": "f4231781",
      "metadata": {
        "id": "f4231781"
      },
      "outputs": [
        {
          "data": {
            "text/html": [
              "<div>\n",
              "<style scoped>\n",
              "    .dataframe tbody tr th:only-of-type {\n",
              "        vertical-align: middle;\n",
              "    }\n",
              "\n",
              "    .dataframe tbody tr th {\n",
              "        vertical-align: top;\n",
              "    }\n",
              "\n",
              "    .dataframe thead th {\n",
              "        text-align: right;\n",
              "    }\n",
              "</style>\n",
              "<table border=\"1\" class=\"dataframe\">\n",
              "  <thead>\n",
              "    <tr style=\"text-align: right;\">\n",
              "      <th></th>\n",
              "      <th>email</th>\n",
              "    </tr>\n",
              "    <tr>\n",
              "      <th>label</th>\n",
              "      <th></th>\n",
              "    </tr>\n",
              "  </thead>\n",
              "  <tbody>\n",
              "    <tr>\n",
              "      <th>0</th>\n",
              "      <td>2500</td>\n",
              "    </tr>\n",
              "    <tr>\n",
              "      <th>1</th>\n",
              "      <td>499</td>\n",
              "    </tr>\n",
              "  </tbody>\n",
              "</table>\n",
              "</div>"
            ],
            "text/plain": [
              "       email\n",
              "label       \n",
              "0       2500\n",
              "1        499"
            ]
          },
          "execution_count": 57,
          "metadata": {},
          "output_type": "execute_result"
        }
      ],
      "source": [
        "email_data.groupby('label').count()"
      ]
    },
    {
      "attachments": {},
      "cell_type": "markdown",
      "id": "a9295bf3",
      "metadata": {},
      "source": [
        "Платформа не принимает ответ 499 (хочет 500)"
      ]
    },
    {
      "cell_type": "code",
      "execution_count": 79,
      "id": "a99c54d7",
      "metadata": {},
      "outputs": [
        {
          "data": {
            "image/png": "[encoded data removed]",
            "text/plain": [
              "<Figure size 432x288 with 1 Axes>"
            ]
          },
          "metadata": {},
          "output_type": "display_data"
        }
      ],
      "source": [
        "y = np.array(email_data['label'].value_counts())\n",
        "# метки диаграммы\n",
        "mylabels = [\"Спам\", \"Не спам\"]\n",
        "\n",
        "\n",
        "#create pie chart\n",
        "plt.pie(y, labels = mylabels, autopct='%.0f%%')\n",
        "plt.show()"
      ]
    },
    {
      "attachments": {},
      "cell_type": "markdown",
      "id": "b161614b",
      "metadata": {
        "id": "b161614b"
      },
      "source": [
        "## Задание 2 (2 балла)"
      ]
    },
    {
      "attachments": {},
      "cell_type": "markdown",
      "id": "dd29763b",
      "metadata": {
        "id": "dd29763b"
      },
      "source": [
        "Вам необходимо предобработать ваши данные и перевести их в векторный вид. Подгрузим необходимый модуль:"
      ]
    },
    {
      "cell_type": "code",
      "execution_count": 71,
      "id": "382eac9c",
      "metadata": {
        "id": "382eac9c"
      },
      "outputs": [],
      "source": [
        "from sklearn.feature_extraction.text import CountVectorizer"
      ]
    },
    {
      "attachments": {},
      "cell_type": "markdown",
      "id": "89546b95",
      "metadata": {
        "id": "89546b95"
      },
      "source": [
        "Замените в данных все пустые строки и строки, состоящие из пробелов, на пропуски (NaN). После этого удалите из данных все строки, в которых наблюдаются пропущенные значения."
      ]
    },
    {
      "cell_type": "code",
      "execution_count": 72,
      "id": "45180f82",
      "metadata": {
        "id": "45180f82"
      },
      "outputs": [],
      "source": [
        "email_data_clean = email_data.copy()\n",
        "email_data_clean = email_data_clean.replace('^\\s*$', np.NaN, regex=True)\n",
        "email_data_drop = email_data_clean.copy()\n",
        "email_data_drop = email_data_drop.dropna(how='any', axis=0)"
      ]
    },
    {
      "attachments": {},
      "cell_type": "markdown",
      "id": "2ca2fe88",
      "metadata": {
        "id": "2ca2fe88"
      },
      "source": [
        "Переводим данные в векторный вид:"
      ]
    },
    {
      "cell_type": "code",
      "execution_count": 74,
      "id": "29e9a37b",
      "metadata": {
        "id": "29e9a37b"
      },
      "outputs": [],
      "source": [
        "vectorizer = CountVectorizer()\n",
        "X = vectorizer.fit_transform(email_data_drop[\"email\"])"
      ]
    },
    {
      "attachments": {},
      "cell_type": "markdown",
      "id": "88c8b726",
      "metadata": {
        "id": "88c8b726"
      },
      "source": [
        "Определите, сколько теперь признаков в нашем наборе данных:"
      ]
    },
    {
      "cell_type": "code",
      "execution_count": 75,
      "id": "f19c2a02",
      "metadata": {
        "id": "f19c2a02"
      },
      "outputs": [
        {
          "name": "stdout",
          "output_type": "stream",
          "text": [
            "(2997, 34116)\n"
          ]
        }
      ],
      "source": [
        "print(X.shape)"
      ]
    },
    {
      "attachments": {},
      "cell_type": "markdown",
      "id": "1803f282",
      "metadata": {
        "id": "1803f282"
      },
      "source": [
        "## Задание 3 (2 балла)"
      ]
    },
    {
      "attachments": {},
      "cell_type": "markdown",
      "id": "39f400b7",
      "metadata": {
        "id": "39f400b7"
      },
      "source": [
        "Определите целевую переменную и признаки:"
      ]
    },
    {
      "cell_type": "code",
      "execution_count": 83,
      "id": "31f1acb6",
      "metadata": {
        "id": "31f1acb6"
      },
      "outputs": [],
      "source": [
        "y = email_data_drop['label']"
      ]
    },
    {
      "attachments": {},
      "cell_type": "markdown",
      "id": "b20f273e",
      "metadata": {
        "id": "b20f273e"
      },
      "source": [
        "Разделите выборку на обучающую и тестовую, используя стратифицированное разбиение (параметр `stratify` установите в значение вектора ответов y) размер тестовой выборки (`test_size`) возьмите как 0.25, параметр `random_state` определите со значением 42:"
      ]
    },
    {
      "cell_type": "code",
      "execution_count": 84,
      "id": "96538fb6",
      "metadata": {
        "id": "96538fb6"
      },
      "outputs": [],
      "source": [
        "X_train, X_test, y_train, y_test = train_test_split(X, y, test_size=0.25, stratify=y, random_state=42)"
      ]
    },
    {
      "attachments": {},
      "cell_type": "markdown",
      "id": "139dac3d",
      "metadata": {
        "id": "139dac3d"
      },
      "source": [
        "Рассчитайте среднее значение целевой переменной по тестовой выборке:"
      ]
    },
    {
      "cell_type": "code",
      "execution_count": 85,
      "id": "e9baf72d",
      "metadata": {
        "id": "e9baf72d"
      },
      "outputs": [
        {
          "data": {
            "text/plain": [
              "0.16533333333333333"
            ]
          },
          "execution_count": 85,
          "metadata": {},
          "output_type": "execute_result"
        }
      ],
      "source": [
        "y_test.mean()"
      ]
    },
    {
      "attachments": {},
      "cell_type": "markdown",
      "id": "710e0e94",
      "metadata": {
        "id": "710e0e94"
      },
      "source": [
        "## Задание 4 (3 балла)"
      ]
    },
    {
      "attachments": {},
      "cell_type": "markdown",
      "id": "26cf6885",
      "metadata": {
        "id": "26cf6885"
      },
      "source": [
        "Определите и обучите подходящий алгоритм с параметром alpha = 0.01"
      ]
    },
    {
      "attachments": {},
      "cell_type": "markdown",
      "id": "cc82ba28",
      "metadata": {},
      "source": [
        "Проверим показатели  алгоритма MultinomialNB"
      ]
    },
    {
      "cell_type": "code",
      "execution_count": 96,
      "id": "4865dd78",
      "metadata": {
        "id": "4865dd78"
      },
      "outputs": [],
      "source": [
        "mnb = MultinomialNB(alpha=0.01)\n",
        "mnb.fit(X_train, y_train)\n",
        "\n",
        "y_test_pred = mnb.predict(X_test)"
      ]
    },
    {
      "attachments": {},
      "cell_type": "markdown",
      "id": "d803fbe3",
      "metadata": {
        "id": "d803fbe3"
      },
      "source": [
        "Оцените результат с точки зрения всех известных вам метрик (не менее трёх):"
      ]
    },
    {
      "cell_type": "code",
      "execution_count": 97,
      "id": "b0bbc4d2",
      "metadata": {
        "id": "b0bbc4d2"
      },
      "outputs": [
        {
          "name": "stdout",
          "output_type": "stream",
          "text": [
            "Accuracy: 0.9866666666666667\n",
            "Precision: 1.0\n",
            "Recall: 0.9193548387096774\n"
          ]
        }
      ],
      "source": [
        "print(f\"Accuracy: {accuracy_score(y_test, y_test_pred)}\")\n",
        "print(f\"Precision: {precision_score(y_test, y_test_pred)}\")\n",
        "print(f\"Recall: {recall_score(y_test, y_test_pred)}\")"
      ]
    },
    {
      "attachments": {},
      "cell_type": "markdown",
      "id": "f866a76f",
      "metadata": {},
      "source": [
        "Проверим показатели  алгоритма ComplementNB"
      ]
    },
    {
      "cell_type": "code",
      "execution_count": 98,
      "id": "9f76711e",
      "metadata": {},
      "outputs": [],
      "source": [
        "cmb = ComplementNB(alpha=0.01)\n",
        "cmb.fit(X_train, y_train)\n",
        "\n",
        "y_test_pred = cmb.predict(X_test)"
      ]
    },
    {
      "cell_type": "code",
      "execution_count": 99,
      "id": "1584f81e",
      "metadata": {},
      "outputs": [
        {
          "name": "stdout",
          "output_type": "stream",
          "text": [
            "Accuracy: 0.988\n",
            "Precision: 1.0\n",
            "Recall: 0.9274193548387096\n"
          ]
        }
      ],
      "source": [
        "print(f\"Accuracy: {accuracy_score(y_test, y_test_pred)}\")\n",
        "print(f\"Precision: {precision_score(y_test, y_test_pred)}\")\n",
        "print(f\"Recall: {recall_score(y_test, y_test_pred)}\")"
      ]
    },
    {
      "attachments": {},
      "cell_type": "markdown",
      "id": "c85976d1",
      "metadata": {
        "id": "c85976d1"
      },
      "source": [
        "Нарисуйте ROC-кривую:"
      ]
    },
    {
      "cell_type": "code",
      "execution_count": 100,
      "id": "b4195126",
      "metadata": {
        "id": "b4195126"
      },
      "outputs": [
        {
          "data": {
            "image/png": "[encoded data removed]",
            "text/plain": [
              "<Figure size 432x288 with 1 Axes>"
            ]
          },
          "metadata": {
            "needs_background": "light"
          },
          "output_type": "display_data"
        }
      ],
      "source": [
        "from sklearn import metrics\n",
        "fpr, tpr, _ = metrics.roc_curve(y_test, y_test_pred)\n",
        "\n",
        "#create ROC curve\n",
        "plt.plot (fpr,tpr)\n",
        "plt.ylabel('True Positive Rate')\n",
        "plt.xlabel('False Positive Rate')\n",
        "plt.show() "
      ]
    },
    {
      "attachments": {},
      "cell_type": "markdown",
      "id": "cf0bb49b",
      "metadata": {
        "id": "cf0bb49b"
      },
      "source": [
        "## Задание 5 (3 балла)"
      ]
    },
    {
      "attachments": {},
      "cell_type": "markdown",
      "id": "30b7a0ae",
      "metadata": {
        "id": "30b7a0ae"
      },
      "source": [
        "Переберите несколько значений alpha с помощью кросс-валидации. Оцените, зависит ли от этого параметра качество классификации."
      ]
    },
    {
      "cell_type": "code",
      "execution_count": 127,
      "id": "3513d907",
      "metadata": {
        "id": "3513d907"
      },
      "outputs": [],
      "source": [
        "alpha_arr = np.arange(0.008, 0.011, 0.0002)\n",
        "acc_score = []\n",
        "pre_score = []\n",
        "rec_score = []\n",
        "\n",
        "for  i in alpha_arr:\n",
        "    cmb = ComplementNB(alpha=i)\n",
        "    cmb.fit(X_train, y_train)\n",
        "\n",
        "    y_test_pred = cmb.predict(X_test)\n",
        "    \n",
        "    acc_score.append(accuracy_score(y_test, y_test_pred))\n",
        "    pre_score.append(precision_score(y_test, y_test_pred))\n",
        "    rec_score.append(recall_score(y_test, y_test_pred))"
      ]
    },
    {
      "cell_type": "code",
      "execution_count": 132,
      "id": "a9e1feed",
      "metadata": {},
      "outputs": [
        {
          "data": {
            "text/plain": [
              "<matplotlib.legend.Legend at 0x1336178e0>"
            ]
          },
          "execution_count": 132,
          "metadata": {},
          "output_type": "execute_result"
        },
        {
          "data": {
            "image/png": "[encoded data removed]",
            "text/plain": [
              "<Figure size 432x288 with 1 Axes>"
            ]
          },
          "metadata": {
            "needs_background": "light"
          },
          "output_type": "display_data"
        }
      ],
      "source": [
        "#plt.plot(alpha_arr,acc_score,alpha_arr,pre_score,alpha_arr,rec_score)\n",
        "plt.plot(alpha_arr, acc_score, 'o-r', label='Accuracy')\n",
        "plt.plot(alpha_arr, pre_score, 'o-.g', label='Precision')\n",
        "plt.plot(alpha_arr, rec_score, 'o-.m', label='Recall')\n",
        "plt.legend()"
      ]
    },
    {
      "attachments": {},
      "cell_type": "markdown",
      "id": "3aecde45",
      "metadata": {},
      "source": [
        "Дальнейший рост не влияет на результаты (проверял)"
      ]
    },
    {
      "cell_type": "code",
      "execution_count": 133,
      "id": "f6005a51",
      "metadata": {},
      "outputs": [],
      "source": [
        "cmb = ComplementNB(alpha=0.011)\n",
        "cmb.fit(X_train, y_train)\n",
        "\n",
        "y_test_pred = cmb.predict(X_test)"
      ]
    },
    {
      "cell_type": "code",
      "execution_count": 134,
      "id": "6c727dc9",
      "metadata": {},
      "outputs": [
        {
          "name": "stdout",
          "output_type": "stream",
          "text": [
            "Accuracy: 0.9893333333333333\n",
            "Precision: 1.0\n",
            "Recall: 0.9354838709677419\n"
          ]
        }
      ],
      "source": [
        "print(f\"Accuracy: {accuracy_score(y_test, y_test_pred)}\")\n",
        "print(f\"Precision: {precision_score(y_test, y_test_pred)}\")\n",
        "print(f\"Recall: {recall_score(y_test, y_test_pred)}\")"
      ]
    },
    {
      "attachments": {},
      "cell_type": "markdown",
      "id": "d44a46ec",
      "metadata": {},
      "source": [
        "Как можно заметить, значение параметра alpha влияет на качество классификации (пусть и немного). "
      ]
    }
  ],
  "metadata": {
    "colab": {
      "name": "SGA_unit6_NBC.ipynb",
      "provenance": []
    },
    "kernelspec": {
      "display_name": "Python 3 (ipykernel)",
      "language": "python",
      "name": "python3"
    },
    "language_info": {
      "codemirror_mode": {
        "name": "ipython",
        "version": 3
      },
      "file_extension": ".py",
      "mimetype": "text/x-python",
      "name": "python",
      "nbconvert_exporter": "python",
      "pygments_lexer": "ipython3",
      "version": "3.8.2"
    }
  },
  "nbformat": 4,
  "nbformat_minor": 5
}
