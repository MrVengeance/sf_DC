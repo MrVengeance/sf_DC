{
 "cells": [
  {
   "cell_type": "code",
   "execution_count": 2,
   "metadata": {},
   "outputs": [
    {
     "data": {
      "text/latex": [
       "$\\displaystyle \\left(-\\infty, 0\\right) \\cup \\left(0, \\infty\\right)$"
      ],
      "text/plain": [
       "Union(Interval.open(-oo, 0), Interval.open(0, oo))"
      ]
     },
     "execution_count": 2,
     "metadata": {},
     "output_type": "execute_result"
    }
   ],
   "source": [
    "from sympy import Symbol, S #импортируем нужные функции для обозначения переменных\n",
    "from sympy.calculus.util import function_range #импортируем функцию для поиска области значения\n",
    "from sympy.calculus.util import continuous_domain #импортируем функцию для поиска области определения\n",
    "x = Symbol(\"x\") #определяем нашу переменную\n",
    "f = 1/x #определяем нашу функцию\n",
    "continuous_domain(f, x, S.Reals) #вычисляем область определения"
   ]
  },
  {
   "cell_type": "code",
   "execution_count": 3,
   "metadata": {},
   "outputs": [
    {
     "data": {
      "text/latex": [
       "$\\displaystyle \\left(0, \\infty\\right)$"
      ],
      "text/plain": [
       "Interval.open(0, oo)"
      ]
     },
     "execution_count": 3,
     "metadata": {},
     "output_type": "execute_result"
    }
   ],
   "source": [
    "from sympy import log\n",
    "x = Symbol(\"x\")\n",
    "f = log(x)/x\n",
    "continuous_domain(f, x, S.Reals)"
   ]
  },
  {
   "cell_type": "code",
   "execution_count": 4,
   "metadata": {},
   "outputs": [
    {
     "data": {
      "text/latex": [
       "$\\displaystyle \\left[-1, 1\\right]$"
      ],
      "text/plain": [
       "Interval(-1, 1)"
      ]
     },
     "execution_count": 4,
     "metadata": {},
     "output_type": "execute_result"
    }
   ],
   "source": [
    "from sympy import Symbol, S, sin #импортируем нужные функции для обозначения переменных\n",
    "from sympy.calculus.util import function_range #импортируем функцию для поиска области значений\n",
    "x = Symbol(\"x\")\n",
    "f = sin(x)\n",
    "function_range(f, x, S.Reals)"
   ]
  },
  {
   "cell_type": "code",
   "execution_count": 5,
   "metadata": {},
   "outputs": [
    {
     "data": {
      "text/latex": [
       "$\\displaystyle \\left[- 2 e, \\infty\\right)$"
      ],
      "text/plain": [
       "Interval(-2*E, oo)"
      ]
     },
     "execution_count": 5,
     "metadata": {},
     "output_type": "execute_result"
    }
   ],
   "source": [
    "from sympy import Symbol, S #импортируем нужные функции для обозначения переменных\n",
    "from sympy.calculus.util import function_range #импортируем функцию для поиска области значений\n",
    "from sympy import exp #добавляем функцию для вычисления экспоненциальной функции\n",
    "x = Symbol(\"x\")\n",
    "f = (x*x-3)/(exp(x))\n",
    "function_range(f, x, S.Reals)"
   ]
  },
  {
   "cell_type": "code",
   "execution_count": 6,
   "metadata": {},
   "outputs": [
    {
     "data": {
      "text/latex": [
       "$\\displaystyle 4$"
      ],
      "text/plain": [
       "4"
      ]
     },
     "execution_count": 6,
     "metadata": {},
     "output_type": "execute_result"
    }
   ],
   "source": [
    "x = Symbol(\"x\")\n",
    "f = x*x+5*x+4\n",
    "f.subs(x, 0)"
   ]
  },
  {
   "cell_type": "code",
   "execution_count": 7,
   "metadata": {},
   "outputs": [
    {
     "data": {
      "text/latex": [
       "$\\displaystyle \\left\\{-4, -1\\right\\}$"
      ],
      "text/plain": [
       "{-4, -1}"
      ]
     },
     "execution_count": 7,
     "metadata": {},
     "output_type": "execute_result"
    }
   ],
   "source": [
    "from sympy import solveset, Eq\n",
    "solveset(Eq(x*x+5*x+4, 0), x)"
   ]
  },
  {
   "attachments": {},
   "cell_type": "markdown",
   "metadata": {},
   "source": [
    "Найдите координаты пересечения с осью x для функции :\n",
    "x*x+2*x-8\n"
   ]
  },
  {
   "cell_type": "code",
   "execution_count": 8,
   "metadata": {},
   "outputs": [
    {
     "data": {
      "text/latex": [
       "$\\displaystyle -8$"
      ],
      "text/plain": [
       "-8"
      ]
     },
     "execution_count": 8,
     "metadata": {},
     "output_type": "execute_result"
    }
   ],
   "source": [
    "x = Symbol(\"x\")\n",
    "f = x*x+2*x-8\n",
    "f.subs(x, 0)"
   ]
  },
  {
   "cell_type": "code",
   "execution_count": 9,
   "metadata": {},
   "outputs": [
    {
     "data": {
      "text/latex": [
       "$\\displaystyle \\left\\{-4, 2\\right\\}$"
      ],
      "text/plain": [
       "{-4, 2}"
      ]
     },
     "execution_count": 9,
     "metadata": {},
     "output_type": "execute_result"
    }
   ],
   "source": [
    "from sympy import solveset, Eq\n",
    "solveset(Eq(x*x+2*x-8, 0), x)"
   ]
  },
  {
   "cell_type": "markdown",
   "metadata": {},
   "source": []
  },
  {
   "cell_type": "code",
   "execution_count": 10,
   "metadata": {},
   "outputs": [
    {
     "data": {
      "text/latex": [
       "$\\displaystyle \\left(-\\infty, - \\frac{3}{10}\\right] \\cup \\left(0, \\infty\\right)$"
      ],
      "text/plain": [
       "Union(Interval(-oo, -3/10), Interval.open(0, oo))"
      ]
     },
     "execution_count": 10,
     "metadata": {},
     "output_type": "execute_result"
    }
   ],
   "source": [
    "x = Symbol(\"x\")\n",
    "f = 3/(x*x-10)\n",
    "function_range(f, x, S.Reals)"
   ]
  },
  {
   "cell_type": "code",
   "execution_count": 22,
   "metadata": {},
   "outputs": [
    {
     "data": {
      "text/latex": [
       "$\\displaystyle \\frac{2 x + 5}{x^{2} + 5 x} + e^{\\sin{\\left(x \\right)}} \\cos{\\left(x \\right)}$"
      ],
      "text/plain": [
       "(2*x + 5)/(x**2 + 5*x) + exp(sin(x))*cos(x)"
      ]
     },
     "execution_count": 22,
     "metadata": {},
     "output_type": "execute_result"
    }
   ],
   "source": [
    "import sympy\n",
    "from sympy import diff, sin, exp, log, ln, Symbol\n",
    "x = sympy.Symbol(\"x\")\n",
    "expr = log(x**2 + 5*x) + exp(sin(x))\n",
    "expr.diff(x)"
   ]
  },
  {
   "cell_type": "code",
   "execution_count": 14,
   "metadata": {},
   "outputs": [
    {
     "data": {
      "text/latex": [
       "$\\displaystyle \\left(3 + \\frac{1}{x}\\right) e^{x} \\cos{\\left(3 x + \\log{\\left(x \\right)} \\right)} + e^{x} \\sin{\\left(3 x + \\log{\\left(x \\right)} \\right)}$"
      ],
      "text/plain": [
       "(3 + 1/x)*exp(x)*cos(3*x + log(x)) + exp(x)*sin(3*x + log(x))"
      ]
     },
     "execution_count": 14,
     "metadata": {},
     "output_type": "execute_result"
    }
   ],
   "source": [
    "expr = sin(3*x + log(x) ) * exp(x)\n",
    "expr.diff(x)"
   ]
  },
  {
   "cell_type": "code",
   "execution_count": 15,
   "metadata": {},
   "outputs": [
    {
     "data": {
      "text/latex": [
       "$\\displaystyle - e^{\\sin{\\left(x \\right)}} \\sin{\\left(x \\right)} + e^{\\sin{\\left(x \\right)}} \\cos^{2}{\\left(x \\right)} + \\frac{2}{x \\left(x + 5\\right)} - \\frac{\\left(2 x + 5\\right)^{2}}{x^{2} \\left(x + 5\\right)^{2}}$"
      ],
      "text/plain": [
       "-exp(sin(x))*sin(x) + exp(sin(x))*cos(x)**2 + 2/(x*(x + 5)) - (2*x + 5)**2/(x**2*(x + 5)**2)"
      ]
     },
     "execution_count": 15,
     "metadata": {},
     "output_type": "execute_result"
    }
   ],
   "source": [
    "x = sympy.Symbol(\"x\")\n",
    "expr = log(x**2 + 5*x) + exp(sin(x))\n",
    "expr.diff(x,2)"
   ]
  },
  {
   "cell_type": "code",
   "execution_count": 27,
   "metadata": {},
   "outputs": [
    {
     "data": {
      "text/latex": [
       "$\\displaystyle \\frac{3 x}{2}$"
      ],
      "text/plain": [
       "3*x/2"
      ]
     },
     "execution_count": 27,
     "metadata": {},
     "output_type": "execute_result"
    }
   ],
   "source": [
    "x = sympy.Symbol(\"x\")\n",
    "expr = x**3/4\n",
    "expr.diff(x,2)"
   ]
  }
 ],
 "metadata": {
  "kernelspec": {
   "display_name": "Python 3",
   "language": "python",
   "name": "python3"
  },
  "language_info": {
   "codemirror_mode": {
    "name": "ipython",
    "version": 3
   },
   "file_extension": ".py",
   "mimetype": "text/x-python",
   "name": "python",
   "nbconvert_exporter": "python",
   "pygments_lexer": "ipython3",
   "version": "3.8.2"
  },
  "orig_nbformat": 4
 },
 "nbformat": 4,
 "nbformat_minor": 2
}
