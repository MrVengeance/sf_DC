{
 "cells": [
  {
   "cell_type": "markdown",
   "id": "c8a6af25-08d3-487a-bd90-001772ac9161",
   "metadata": {},
   "source": [
    "## <center> **Анализ результатов A/B-тестирования**"
   ]
  },
  {
   "cell_type": "markdown",
   "id": "d7d45571-6545-4904-a86b-9b3b6b8163d3",
   "metadata": {},
   "source": [
    "Компания планирует запустить новую акцию, чтобы продать как можно больше туров. Команда разработала два варианта посадочной страницы официального сайта компании и провела A/B-тестирование. Собранные в результате проведения эксперимента данные вы можете найти здесь.\n",
    "\n",
    "Вам предстоит решить настоящую бизнес-задачу: проанализировать эффективность обоих вариантов посадочной страницы сразу по двум критериям: конверсии покупки и среднему чеку. На основе проведенного анализа вам будет необходимо сделать выводы и принять решение: какой из вариантов дизайна более предпочтительный.\n",
    "\n",
    "Итак, наша фирма предлагает следующие варианты туров и их соответствующие стоимости:\n",
    "* Таиланд — 100000 рублей;\n",
    "* Турция — 60000 рублей;\n",
    "* Мальдивы — 200000 рублей;\n",
    "* Санкт-Петербург — 10000 рублей;\n",
    "* Камчатка — 150000 рублей."
   ]
  },
  {
   "cell_type": "code",
   "execution_count": 2,
   "id": "a974b482-e192-4014-8520-8a5c0c946da6",
   "metadata": {},
   "outputs": [],
   "source": [
    "import pandas as pd\n",
    "import matplotlib.pyplot as plt\n",
    "import seaborn as sns\n",
    "from scipy.stats import norm\n",
    "from scipy.stats import t\n",
    "from scipy.stats import ttest_ind, shapiro, f_oneway, mannwhitneyu\n",
    "from statsmodels.stats.proportion import proportions_ztest"
   ]
  },
  {
   "cell_type": "markdown",
   "id": "55c84550-4162-4325-acc2-7d3c0aafe6f0",
   "metadata": {},
   "source": [
    "Прочитаем наши данные и посмотрим на столбцы таблицы:"
   ]
  },
  {
   "cell_type": "code",
   "execution_count": 3,
   "id": "b0d18245-b9da-44bd-8aea-d272ea74b63a",
   "metadata": {},
   "outputs": [
    {
     "data": {
      "text/html": [
       "<div>\n",
       "<style scoped>\n",
       "    .dataframe tbody tr th:only-of-type {\n",
       "        vertical-align: middle;\n",
       "    }\n",
       "\n",
       "    .dataframe tbody tr th {\n",
       "        vertical-align: top;\n",
       "    }\n",
       "\n",
       "    .dataframe thead th {\n",
       "        text-align: right;\n",
       "    }\n",
       "</style>\n",
       "<table border=\"1\" class=\"dataframe\">\n",
       "  <thead>\n",
       "    <tr style=\"text-align: right;\">\n",
       "      <th></th>\n",
       "      <th>user_id</th>\n",
       "      <th>date</th>\n",
       "      <th>group</th>\n",
       "      <th>purchase</th>\n",
       "      <th>price</th>\n",
       "    </tr>\n",
       "  </thead>\n",
       "  <tbody>\n",
       "    <tr>\n",
       "      <th>0</th>\n",
       "      <td>851104</td>\n",
       "      <td>2021-01-21</td>\n",
       "      <td>A</td>\n",
       "      <td>0</td>\n",
       "      <td>0</td>\n",
       "    </tr>\n",
       "    <tr>\n",
       "      <th>1</th>\n",
       "      <td>804228</td>\n",
       "      <td>2021-01-12</td>\n",
       "      <td>A</td>\n",
       "      <td>0</td>\n",
       "      <td>0</td>\n",
       "    </tr>\n",
       "    <tr>\n",
       "      <th>2</th>\n",
       "      <td>661590</td>\n",
       "      <td>2021-01-11</td>\n",
       "      <td>B</td>\n",
       "      <td>0</td>\n",
       "      <td>0</td>\n",
       "    </tr>\n",
       "    <tr>\n",
       "      <th>3</th>\n",
       "      <td>853541</td>\n",
       "      <td>2021-01-08</td>\n",
       "      <td>B</td>\n",
       "      <td>0</td>\n",
       "      <td>0</td>\n",
       "    </tr>\n",
       "    <tr>\n",
       "      <th>4</th>\n",
       "      <td>864975</td>\n",
       "      <td>2021-01-21</td>\n",
       "      <td>A</td>\n",
       "      <td>1</td>\n",
       "      <td>150000</td>\n",
       "    </tr>\n",
       "  </tbody>\n",
       "</table>\n",
       "</div>"
      ],
      "text/plain": [
       "   user_id        date group  purchase   price\n",
       "0   851104  2021-01-21     A         0       0\n",
       "1   804228  2021-01-12     A         0       0\n",
       "2   661590  2021-01-11     B         0       0\n",
       "3   853541  2021-01-08     B         0       0\n",
       "4   864975  2021-01-21     A         1  150000"
      ]
     },
     "execution_count": 3,
     "metadata": {},
     "output_type": "execute_result"
    }
   ],
   "source": [
    "data = pd.read_csv('ab_data_tourist.csv')\n",
    "data.head()"
   ]
  },
  {
   "cell_type": "markdown",
   "id": "2fc48225-26ac-49c4-b99d-8b2a03dd74a1",
   "metadata": {
    "tags": []
   },
   "source": [
    "## **Задание 7.1.**\n",
    "\n",
    "Начнем с исследования структуры наших данных. С помощью метода info() выведите информацию о типах данных и количестве непустых значений. Какой тип данных имеет столбец date?"
   ]
  },
  {
   "cell_type": "code",
   "execution_count": 4,
   "id": "23496521-4878-46e2-ab02-1a98be14884a",
   "metadata": {},
   "outputs": [
    {
     "name": "stdout",
     "output_type": "stream",
     "text": [
      "<class 'pandas.core.frame.DataFrame'>\n",
      "RangeIndex: 294478 entries, 0 to 294477\n",
      "Data columns (total 5 columns):\n",
      " #   Column    Non-Null Count   Dtype \n",
      "---  ------    --------------   ----- \n",
      " 0   user_id   294478 non-null  int64 \n",
      " 1   date      294478 non-null  object\n",
      " 2   group     294478 non-null  object\n",
      " 3   purchase  294478 non-null  int64 \n",
      " 4   price     294478 non-null  int64 \n",
      "dtypes: int64(3), object(2)\n",
      "memory usage: 11.2+ MB\n"
     ]
    }
   ],
   "source": [
    "# ваш код здесь\n",
    "data.info()"
   ]
  },
  {
   "cell_type": "markdown",
   "id": "946d017d-b4fe-4a17-b91d-0ce369d1ab2e",
   "metadata": {
    "tags": []
   },
   "source": [
    "## **Задание 7.2.**\n",
    "\n",
    "Приведите столбец date к типу данных datetime. Убедитесь в равной длительности проведения тестирования для каждой из группы. Для этого сгруппируйте данные по признаку группы и определите первую и последнюю дату наблюдения для каждой из групп. \n",
    "\n",
    "В какой промежуток времени проводился A/B-тест?\n"
   ]
  },
  {
   "cell_type": "code",
   "execution_count": 5,
   "id": "604c619d-6338-45c8-8248-ac098a2366bb",
   "metadata": {},
   "outputs": [],
   "source": [
    "# ваш код здесь\n",
    "data['date'] = pd.to_datetime(data['date'], format='%Y-%m-%d')"
   ]
  },
  {
   "cell_type": "code",
   "execution_count": 6,
   "id": "6b77ecd5",
   "metadata": {},
   "outputs": [
    {
     "data": {
      "text/html": [
       "<div>\n",
       "<style scoped>\n",
       "    .dataframe tbody tr th:only-of-type {\n",
       "        vertical-align: middle;\n",
       "    }\n",
       "\n",
       "    .dataframe tbody tr th {\n",
       "        vertical-align: top;\n",
       "    }\n",
       "\n",
       "    .dataframe thead th {\n",
       "        text-align: right;\n",
       "    }\n",
       "</style>\n",
       "<table border=\"1\" class=\"dataframe\">\n",
       "  <thead>\n",
       "    <tr style=\"text-align: right;\">\n",
       "      <th></th>\n",
       "      <th>min</th>\n",
       "      <th>max</th>\n",
       "    </tr>\n",
       "    <tr>\n",
       "      <th>group</th>\n",
       "      <th></th>\n",
       "      <th></th>\n",
       "    </tr>\n",
       "  </thead>\n",
       "  <tbody>\n",
       "    <tr>\n",
       "      <th>A</th>\n",
       "      <td>2021-01-02</td>\n",
       "      <td>2021-01-24</td>\n",
       "    </tr>\n",
       "    <tr>\n",
       "      <th>B</th>\n",
       "      <td>2021-01-02</td>\n",
       "      <td>2021-01-24</td>\n",
       "    </tr>\n",
       "  </tbody>\n",
       "</table>\n",
       "</div>"
      ],
      "text/plain": [
       "             min        max\n",
       "group                      \n",
       "A     2021-01-02 2021-01-24\n",
       "B     2021-01-02 2021-01-24"
      ]
     },
     "execution_count": 6,
     "metadata": {},
     "output_type": "execute_result"
    }
   ],
   "source": [
    "data.groupby('group')['date'].agg(['min', 'max'])"
   ]
  },
  {
   "cell_type": "markdown",
   "id": "e04eb341-52ae-48b3-9dc2-0578ca91641a",
   "metadata": {},
   "source": [
    "## **Задание 7.3.**\n",
    "\n",
    "* Чему равно количество посещений сайта в группах А и B?\n",
    "\n",
    "* Чему равно суммарное количество покупок в группах А и B?\n",
    "\n",
    "* Чему равна сумма всех покупок в группах А и B? Ответ приведите в миллионах рублей. Например, 185.52 млн. руб."
   ]
  },
  {
   "cell_type": "code",
   "execution_count": 7,
   "id": "02bf0148-488e-4f34-95bf-37794b2fa98b",
   "metadata": {},
   "outputs": [
    {
     "data": {
      "text/html": [
       "<div>\n",
       "<style scoped>\n",
       "    .dataframe tbody tr th:only-of-type {\n",
       "        vertical-align: middle;\n",
       "    }\n",
       "\n",
       "    .dataframe tbody tr th {\n",
       "        vertical-align: top;\n",
       "    }\n",
       "\n",
       "    .dataframe thead th {\n",
       "        text-align: right;\n",
       "    }\n",
       "</style>\n",
       "<table border=\"1\" class=\"dataframe\">\n",
       "  <thead>\n",
       "    <tr style=\"text-align: right;\">\n",
       "      <th></th>\n",
       "      <th>count</th>\n",
       "    </tr>\n",
       "    <tr>\n",
       "      <th>group</th>\n",
       "      <th></th>\n",
       "    </tr>\n",
       "  </thead>\n",
       "  <tbody>\n",
       "    <tr>\n",
       "      <th>A</th>\n",
       "      <td>147202</td>\n",
       "    </tr>\n",
       "    <tr>\n",
       "      <th>B</th>\n",
       "      <td>147276</td>\n",
       "    </tr>\n",
       "  </tbody>\n",
       "</table>\n",
       "</div>"
      ],
      "text/plain": [
       "        count\n",
       "group        \n",
       "A      147202\n",
       "B      147276"
      ]
     },
     "execution_count": 7,
     "metadata": {},
     "output_type": "execute_result"
    }
   ],
   "source": [
    "# ваш код здесь\n",
    "data.groupby('group')['user_id'].agg(['count'])"
   ]
  },
  {
   "cell_type": "code",
   "execution_count": 8,
   "id": "1fdfe046",
   "metadata": {},
   "outputs": [
    {
     "data": {
      "text/html": [
       "<div>\n",
       "<style scoped>\n",
       "    .dataframe tbody tr th:only-of-type {\n",
       "        vertical-align: middle;\n",
       "    }\n",
       "\n",
       "    .dataframe tbody tr th {\n",
       "        vertical-align: top;\n",
       "    }\n",
       "\n",
       "    .dataframe thead th {\n",
       "        text-align: right;\n",
       "    }\n",
       "</style>\n",
       "<table border=\"1\" class=\"dataframe\">\n",
       "  <thead>\n",
       "    <tr style=\"text-align: right;\">\n",
       "      <th></th>\n",
       "      <th>sum</th>\n",
       "    </tr>\n",
       "    <tr>\n",
       "      <th>group</th>\n",
       "      <th></th>\n",
       "    </tr>\n",
       "  </thead>\n",
       "  <tbody>\n",
       "    <tr>\n",
       "      <th>A</th>\n",
       "      <td>17723</td>\n",
       "    </tr>\n",
       "    <tr>\n",
       "      <th>B</th>\n",
       "      <td>17514</td>\n",
       "    </tr>\n",
       "  </tbody>\n",
       "</table>\n",
       "</div>"
      ],
      "text/plain": [
       "         sum\n",
       "group       \n",
       "A      17723\n",
       "B      17514"
      ]
     },
     "execution_count": 8,
     "metadata": {},
     "output_type": "execute_result"
    }
   ],
   "source": [
    "data.groupby('group')['purchase'].agg(['sum'])"
   ]
  },
  {
   "cell_type": "code",
   "execution_count": 9,
   "id": "d22b94b1",
   "metadata": {},
   "outputs": [
    {
     "data": {
      "text/html": [
       "<div>\n",
       "<style scoped>\n",
       "    .dataframe tbody tr th:only-of-type {\n",
       "        vertical-align: middle;\n",
       "    }\n",
       "\n",
       "    .dataframe tbody tr th {\n",
       "        vertical-align: top;\n",
       "    }\n",
       "\n",
       "    .dataframe thead th {\n",
       "        text-align: right;\n",
       "    }\n",
       "</style>\n",
       "<table border=\"1\" class=\"dataframe\">\n",
       "  <thead>\n",
       "    <tr style=\"text-align: right;\">\n",
       "      <th></th>\n",
       "      <th>sum</th>\n",
       "    </tr>\n",
       "    <tr>\n",
       "      <th>group</th>\n",
       "      <th></th>\n",
       "    </tr>\n",
       "  </thead>\n",
       "  <tbody>\n",
       "    <tr>\n",
       "      <th>A</th>\n",
       "      <td>1436.26</td>\n",
       "    </tr>\n",
       "    <tr>\n",
       "      <th>B</th>\n",
       "      <td>1554.10</td>\n",
       "    </tr>\n",
       "  </tbody>\n",
       "</table>\n",
       "</div>"
      ],
      "text/plain": [
       "           sum\n",
       "group         \n",
       "A      1436.26\n",
       "B      1554.10"
      ]
     },
     "execution_count": 9,
     "metadata": {},
     "output_type": "execute_result"
    }
   ],
   "source": [
    "data.groupby('group')['price'].agg(['sum'])/1000000"
   ]
  },
  {
   "cell_type": "code",
   "execution_count": 10,
   "id": "3c0ca6e0",
   "metadata": {},
   "outputs": [
    {
     "data": {
      "text/plain": [
       "group\n",
       "A    146195\n",
       "B    146284\n",
       "Name: user_id, dtype: int64"
      ]
     },
     "execution_count": 10,
     "metadata": {},
     "output_type": "execute_result"
    }
   ],
   "source": [
    "data.groupby('group')['user_id'].nunique()"
   ]
  },
  {
   "cell_type": "markdown",
   "id": "2434db1b-17e6-4977-8e54-1df875c6f221",
   "metadata": {
    "tags": []
   },
   "source": [
    "## **Задание 7.4.**\n",
    "\n",
    "Проверьте, есть ли пользователи, которые в процессе A/B-теста попали в обе тестовые группы? Если да, то сколько таких уникальных пользователей, если нет - введите в поле для ответа 0?\n",
    "\n",
    "**Подсказка:**\n",
    "\n",
    "*Создайте множество пользователей группы А и множество пользователей группы B. Пересеките два этих множества (операция intersection) и вычислите количество элементов в полученном множестве.*\n"
   ]
  },
  {
   "cell_type": "code",
   "execution_count": 11,
   "id": "57a2d711-057d-4f8b-9f56-df0f772d41c8",
   "metadata": {},
   "outputs": [
    {
     "name": "stdout",
     "output_type": "stream",
     "text": [
      "1895\n"
     ]
    }
   ],
   "source": [
    "data_a = data[data['group'] == 'A']\n",
    "data_b = data[data['group'] == 'B']\n",
    "users_in_both_group = set(data_a['user_id']).intersection(set(data_b['user_id']))\n",
    "print(len(users_in_both_group))"
   ]
  },
  {
   "cell_type": "markdown",
   "id": "118b1904-7d7a-4935-825e-535da45c611b",
   "metadata": {
    "tags": []
   },
   "source": [
    "## **Исключите пользователей, оказавшихся в обеих группах**\n",
    "\n",
    "Так как мы не можем определить, какая из версий сайта повлияла на принятие решения, исключим этих пользователей. Далее мы будем работать только с очищенными от пересечений данными.\n",
    "\n",
    "Возможный вариант исключения пользователей:"
   ]
  },
  {
   "cell_type": "code",
   "execution_count": 12,
   "id": "f618b34b-35a3-4bf1-8d6d-38b3401930b7",
   "metadata": {},
   "outputs": [],
   "source": [
    "updated_data = data[data['user_id'].apply(lambda x: x not in users_in_both_group)]"
   ]
  },
  {
   "cell_type": "markdown",
   "id": "2bce6c9a-6580-4250-b280-204d40d20da2",
   "metadata": {},
   "source": [
    "Где user_intersection - множество пересечений пользователей групп А и B."
   ]
  },
  {
   "attachments": {
    "95f235d2-6323-4799-bf69-697fc57f727b.png": {
     "image/png": "[encoded data removed]"
    }
   },
   "cell_type": "markdown",
   "id": "2ddf6b2c-7987-41f3-82b1-8992630ae97b",
   "metadata": {
    "tags": []
   },
   "source": [
    "## **Задание 7.5.**\n",
    "\n",
    "Для первичного анализа результатов A/B-тестирования нам понадобится таблица следующего вида:\n",
    "\n",
    "![image.png](attachment:95f235d2-6323-4799-bf69-697fc57f727b.png)\n",
    " \n",
    " \n",
    "Для того, чтобы получить такую таблицу, сгруппируйте данные по признаку группы. В каждой группе рассчитайте следующие показатели:\n",
    "* количество посещений (количество пользователей)\n",
    "* количество совершенных покупок\n",
    "* сумма всех покупок в группе\n",
    "\n",
    "В полученной сгруппированной таблице переименуйте столбцы на **count_visits, count_purchases и sum_price**.\n",
    "\n",
    "**Подсказка:**\n",
    "\n",
    "*Для переименования столбцов можно использовать метод rename() с параметром columns, в который передается словарь. Ключи этого словаря - старые имена столбцов, а значения - новые.*\n",
    "\n",
    "Чему на этот раз равно количество посещений сайта в группах А и B?\n"
   ]
  },
  {
   "cell_type": "code",
   "execution_count": 13,
   "id": "5c0c018e-a250-48e9-b72a-e3c7be586ebd",
   "metadata": {},
   "outputs": [],
   "source": [
    "new_data = updated_data.groupby('group').agg({\n",
    "'user_id': 'count',\n",
    "'purchase': 'sum',\n",
    "'price': 'sum'\n",
    "}).rename(columns={\n",
    "'user_id': 'count_visits',\n",
    "'purchase': 'count_purchases',\n",
    "'price': 'sum_price'\n",
    "})"
   ]
  },
  {
   "cell_type": "code",
   "execution_count": 14,
   "id": "96c56422",
   "metadata": {},
   "outputs": [
    {
     "name": "stdout",
     "output_type": "stream",
     "text": [
      "       count_visits  count_purchases   sum_price\n",
      "group                                           \n",
      "A            145307            17487  1417780000\n",
      "B            145381            17290  1533010000\n"
     ]
    }
   ],
   "source": [
    "print(new_data)"
   ]
  },
  {
   "cell_type": "markdown",
   "id": "b71e1390-9846-4a8e-b357-f82b847d1952",
   "metadata": {},
   "source": [
    "Приведите промежуточные выводы по построенной таблице. Сопоставимо ли количество посещений обоих вариантов посадочной странице, можно ли говорить о сбалансированности выборок?"
   ]
  },
  {
   "attachments": {},
   "cell_type": "markdown",
   "id": "4ea1b65b-475e-4bff-9460-fac0acdb9620",
   "metadata": {},
   "source": [
    "Разница в количестве посещений у двух групп меньше 1 %, можно утверждать, что выборки сбалансированны."
   ]
  },
  {
   "cell_type": "markdown",
   "id": "afb2ee0a-31d1-45a5-be42-a2bf168b9448",
   "metadata": {
    "tags": []
   },
   "source": [
    "## **Задание 7.6.**\n",
    "\n",
    "Добавьте в сгруппированную таблицу столбцы conversion - конверсия покупки (отношение количества покупок к количеству посещений сайта в каждой группе, выраженное в процентах) и mean_check - средний чек (отношение суммы покупок к количеству покупок в каждой группе).\n",
    "\n",
    "* Чему равна конверсия в группах? Ответ приведите в процентах и округлите до сотых. Например, 75.12 %\n",
    "* Чему равен средний чек в группах? Ответ приведите в рублях и округлите до целых. Например, 120519 рублей."
   ]
  },
  {
   "cell_type": "code",
   "execution_count": 15,
   "id": "bd9c3b3e-5956-41a8-bae0-43693f6de1f2",
   "metadata": {},
   "outputs": [
    {
     "data": {
      "text/html": [
       "<div>\n",
       "<style scoped>\n",
       "    .dataframe tbody tr th:only-of-type {\n",
       "        vertical-align: middle;\n",
       "    }\n",
       "\n",
       "    .dataframe tbody tr th {\n",
       "        vertical-align: top;\n",
       "    }\n",
       "\n",
       "    .dataframe thead th {\n",
       "        text-align: right;\n",
       "    }\n",
       "</style>\n",
       "<table border=\"1\" class=\"dataframe\">\n",
       "  <thead>\n",
       "    <tr style=\"text-align: right;\">\n",
       "      <th></th>\n",
       "      <th>count_visits</th>\n",
       "      <th>count_purchases</th>\n",
       "      <th>sum_price</th>\n",
       "      <th>conversion</th>\n",
       "      <th>mean_check</th>\n",
       "    </tr>\n",
       "    <tr>\n",
       "      <th>group</th>\n",
       "      <th></th>\n",
       "      <th></th>\n",
       "      <th></th>\n",
       "      <th></th>\n",
       "      <th></th>\n",
       "    </tr>\n",
       "  </thead>\n",
       "  <tbody>\n",
       "    <tr>\n",
       "      <th>A</th>\n",
       "      <td>145307</td>\n",
       "      <td>17487</td>\n",
       "      <td>1417780000</td>\n",
       "      <td>12.034520</td>\n",
       "      <td>81076.228055</td>\n",
       "    </tr>\n",
       "    <tr>\n",
       "      <th>B</th>\n",
       "      <td>145381</td>\n",
       "      <td>17290</td>\n",
       "      <td>1533010000</td>\n",
       "      <td>11.892888</td>\n",
       "      <td>88664.545980</td>\n",
       "    </tr>\n",
       "  </tbody>\n",
       "</table>\n",
       "</div>"
      ],
      "text/plain": [
       "       count_visits  count_purchases   sum_price  conversion    mean_check\n",
       "group                                                                     \n",
       "A            145307            17487  1417780000   12.034520  81076.228055\n",
       "B            145381            17290  1533010000   11.892888  88664.545980"
      ]
     },
     "execution_count": 15,
     "metadata": {},
     "output_type": "execute_result"
    }
   ],
   "source": [
    "# вычисляем кумулятивную сумму количества посетителей\n",
    "new_data['conversion'] = new_data['count_purchases']/new_data['count_visits'] * 100\n",
    "new_data['mean_check'] = new_data['sum_price']/new_data['count_purchases']\n",
    "new_data"
   ]
  },
  {
   "cell_type": "markdown",
   "id": "1eb6e140-c702-43e0-b301-9914a7f49448",
   "metadata": {},
   "source": [
    "Приведите промежуточные выводы по таблице. По какому(им) показателю(ям) вариант А эффективнее варианта B и наоборот?"
   ]
  },
  {
   "attachments": {},
   "cell_type": "markdown",
   "id": "9e88c883-84f9-44ec-accd-04d5d459b261",
   "metadata": {},
   "source": [
    "У Группы А выше конверсия, но у Группы В выше средний чек."
   ]
  },
  {
   "cell_type": "markdown",
   "id": "7f9f1ae0-f12f-49b3-8b57-1c299c208c49",
   "metadata": {
    "tags": []
   },
   "source": [
    "## **Задание 7.7.**\n",
    "\n",
    "Теперь давайте сравним варианты по покупательской способности туров. Для этого постройте сводную таблицу, которая покажет зависимость количества продаж от группы и цены тура. "
   ]
  },
  {
   "cell_type": "markdown",
   "id": "977423ed-8f8d-475c-b773-621edd95338d",
   "metadata": {},
   "source": [
    "Визуализируйте полученную сводную таблицу с помощью тепловой карты с аннотацией. \n",
    "Чему равно количество проданных туров за 60000 рублей в группах?"
   ]
  },
  {
   "cell_type": "code",
   "execution_count": 16,
   "id": "f634fa8d-585c-42e3-b7d5-78e8d9eaa8c5",
   "metadata": {},
   "outputs": [
    {
     "name": "stderr",
     "output_type": "stream",
     "text": [
      "/var/folders/t6/jc5fqrkn0gv95ps21cwdcp340000gn/T/ipykernel_36156/2951019012.py:2: UserWarning: Boolean Series key will be reindexed to match DataFrame index.\n",
      "  pivot = updated_data[data['price'] > 0].pivot_table(\n"
     ]
    },
    {
     "data": {
      "image/png": "[encoded data removed]",
      "text/plain": [
       "<Figure size 720x288 with 2 Axes>"
      ]
     },
     "metadata": {
      "needs_background": "light"
     },
     "output_type": "display_data"
    }
   ],
   "source": [
    "# ваш код здесь\n",
    "pivot = updated_data[data['price'] > 0].pivot_table(\n",
    "    index='group', \n",
    "    columns='price', \n",
    "    values='purchase', \n",
    "    aggfunc='sum'\n",
    ")\n",
    "fig = plt.figure(figsize=(10, 4))\n",
    "ax = sns.heatmap(pivot, fmt='.0f', annot=True, cmap='viridis');\n",
    "ax.set_title('Тепловая карта покупательской способности туров в группах');"
   ]
  },
  {
   "cell_type": "markdown",
   "id": "9caa92ca-e261-4b8f-a16c-2abc322c9ffb",
   "metadata": {},
   "source": [
    "Сделайте выводы по построенной таблице. По каким турам покупательская способность участников группы А выше, чем участников группы B и наоборот?"
   ]
  },
  {
   "attachments": {},
   "cell_type": "markdown",
   "id": "6d13fd45-e3df-468f-9d32-1fc45d38b10c",
   "metadata": {},
   "source": [
    "Покупательская способоность отличается у групп только в турах для Турции и Тайланда. У группы А выше покупательская способность за 60 000 руб.(Турция), а у группы Б за 100 000руб.(Тайлайнд)\n"
   ]
  },
  {
   "cell_type": "markdown",
   "id": "8f021fb4-d0f6-4e43-b518-1a96c07a4531",
   "metadata": {
    "tags": []
   },
   "source": [
    "## **Задание 7.8.**\n",
    "\n",
    "Настало время поговорить о стабилизации кумулятивных метрик во времени. Но прежде, чем перейти к кумулятивным метрикам, нам необходимо построить таблицу с ежедневными данными результатов проведения A/B-тестирования.\n",
    "\n",
    "Сгруппируйте данные по дате и группе тестирования. В каждой группе вычислите количество посещений страницы, количество покупок и сумму покупок. \n",
    "\n",
    "Добавьте в таблицу информацию о ежедневной конверсии (ежедневное количество покупок / ежедневное количество посещений) в группе и ежедневном среднем чеке (ежедневная сумма покупок / ежедневное количество покупок)\n",
    "* Чему равна конверсия 3 января 2021 года? Ответ приведите в процентах и округлите до сотых.\n",
    "\n",
    "* Чему равен средний чек 3 января 2021 года? Ответ приведите в рублях и округлите до целого."
   ]
  },
  {
   "cell_type": "code",
   "execution_count": 17,
   "id": "4503b528-412e-433a-bc03-da7da52fa1a3",
   "metadata": {},
   "outputs": [
    {
     "name": "stdout",
     "output_type": "stream",
     "text": [
      "Конверсия 3 января 2020 года:\n"
     ]
    },
    {
     "data": {
      "text/html": [
       "<div>\n",
       "<style scoped>\n",
       "    .dataframe tbody tr th:only-of-type {\n",
       "        vertical-align: middle;\n",
       "    }\n",
       "\n",
       "    .dataframe tbody tr th {\n",
       "        vertical-align: top;\n",
       "    }\n",
       "\n",
       "    .dataframe thead th {\n",
       "        text-align: right;\n",
       "    }\n",
       "</style>\n",
       "<table border=\"1\" class=\"dataframe\">\n",
       "  <thead>\n",
       "    <tr style=\"text-align: right;\">\n",
       "      <th></th>\n",
       "      <th>group</th>\n",
       "      <th>conversion</th>\n",
       "    </tr>\n",
       "  </thead>\n",
       "  <tbody>\n",
       "    <tr>\n",
       "      <th>2</th>\n",
       "      <td>A</td>\n",
       "      <td>11.34</td>\n",
       "    </tr>\n",
       "    <tr>\n",
       "      <th>3</th>\n",
       "      <td>B</td>\n",
       "      <td>11.39</td>\n",
       "    </tr>\n",
       "  </tbody>\n",
       "</table>\n",
       "</div>"
      ],
      "text/plain": [
       "  group  conversion\n",
       "2     A       11.34\n",
       "3     B       11.39"
      ]
     },
     "metadata": {},
     "output_type": "display_data"
    },
    {
     "name": "stdout",
     "output_type": "stream",
     "text": [
      "Средний чек 3 января 2020 года:\n"
     ]
    },
    {
     "data": {
      "text/html": [
       "<div>\n",
       "<style scoped>\n",
       "    .dataframe tbody tr th:only-of-type {\n",
       "        vertical-align: middle;\n",
       "    }\n",
       "\n",
       "    .dataframe tbody tr th {\n",
       "        vertical-align: top;\n",
       "    }\n",
       "\n",
       "    .dataframe thead th {\n",
       "        text-align: right;\n",
       "    }\n",
       "</style>\n",
       "<table border=\"1\" class=\"dataframe\">\n",
       "  <thead>\n",
       "    <tr style=\"text-align: right;\">\n",
       "      <th></th>\n",
       "      <th>group</th>\n",
       "      <th>mean_check</th>\n",
       "    </tr>\n",
       "  </thead>\n",
       "  <tbody>\n",
       "    <tr>\n",
       "      <th>2</th>\n",
       "      <td>A</td>\n",
       "      <td>82888.0</td>\n",
       "    </tr>\n",
       "    <tr>\n",
       "      <th>3</th>\n",
       "      <td>B</td>\n",
       "      <td>87480.0</td>\n",
       "    </tr>\n",
       "  </tbody>\n",
       "</table>\n",
       "</div>"
      ],
      "text/plain": [
       "  group  mean_check\n",
       "2     A     82888.0\n",
       "3     B     87480.0"
      ]
     },
     "metadata": {},
     "output_type": "display_data"
    }
   ],
   "source": [
    "# ваш код здесь\n",
    "daily_data = updated_data.groupby(['date', 'group']).agg({\n",
    "    'user_id':'count',\n",
    "    'purchase':'sum',\n",
    "    'price': 'sum'\n",
    "}).reset_index().rename(columns={\n",
    "    'user_id': 'count_visits',\n",
    "    'purchase': 'count_purchases',\n",
    "    'price': 'sum_price'\n",
    "})\n",
    "daily_data['conversion'] = daily_data['count_purchases']/daily_data['count_visits'] * 100\n",
    "daily_data['mean_check'] = daily_data['sum_price']/daily_data['count_purchases']\n",
    "\n",
    "print('Конверсия 3 января 2020 года:')\n",
    "display(daily_data[daily_data['date'] == pd.to_datetime('2021-01-03')][['group', 'conversion']].round(2))\n",
    " \n",
    "print('Средний чек 3 января 2020 года:')\n",
    "display(daily_data[daily_data['date'] == pd.to_datetime('2021-01-03')][['group', 'mean_check']].round())"
   ]
  },
  {
   "cell_type": "markdown",
   "id": "bc8e241b-1ef1-4f67-ab90-77251889b7f2",
   "metadata": {},
   "source": [
    "## **Задание 7.9.** \n",
    "\n",
    "Добавьте в таблицу с ежедневными показателями кумулятивные признаки:\n",
    "* кумулятивное количество посещений страницы\n",
    "* кумулятивное количество покупок\n",
    "* кумулятивную сумму покупок\n",
    "\n",
    "Не забудьте при расчете кумулятивной суммы сгруппировать данные по группам. \n",
    "\n",
    "Вычислите кумулятивную конверсию и кумулятивный средний чек на основе полученных кумулятивных показателей. \n",
    "\n",
    "* Какая **кумулятивная** конверсия была в группе B на 20 января? Ответ приведите в процентах, округлив до сотых.\n",
    "* Какой **кумулятивный** средний чек был в группе А на 12 января 2021 года? Ответ приведите в рублях, округлив до целых."
   ]
  },
  {
   "cell_type": "code",
   "execution_count": 18,
   "id": "afe59f9a-8d39-45c1-a14f-9f62091d81a1",
   "metadata": {},
   "outputs": [
    {
     "name": "stdout",
     "output_type": "stream",
     "text": [
      "Кумулятивная конверсия 20 января 2020 года:\n"
     ]
    },
    {
     "data": {
      "text/html": [
       "<div>\n",
       "<style scoped>\n",
       "    .dataframe tbody tr th:only-of-type {\n",
       "        vertical-align: middle;\n",
       "    }\n",
       "\n",
       "    .dataframe tbody tr th {\n",
       "        vertical-align: top;\n",
       "    }\n",
       "\n",
       "    .dataframe thead th {\n",
       "        text-align: right;\n",
       "    }\n",
       "</style>\n",
       "<table border=\"1\" class=\"dataframe\">\n",
       "  <thead>\n",
       "    <tr style=\"text-align: right;\">\n",
       "      <th></th>\n",
       "      <th>group</th>\n",
       "      <th>cum_conversion</th>\n",
       "    </tr>\n",
       "  </thead>\n",
       "  <tbody>\n",
       "    <tr>\n",
       "      <th>36</th>\n",
       "      <td>A</td>\n",
       "      <td>11.98</td>\n",
       "    </tr>\n",
       "    <tr>\n",
       "      <th>37</th>\n",
       "      <td>B</td>\n",
       "      <td>11.90</td>\n",
       "    </tr>\n",
       "  </tbody>\n",
       "</table>\n",
       "</div>"
      ],
      "text/plain": [
       "   group  cum_conversion\n",
       "36     A           11.98\n",
       "37     B           11.90"
      ]
     },
     "metadata": {},
     "output_type": "display_data"
    },
    {
     "name": "stdout",
     "output_type": "stream",
     "text": [
      "Кумулятивная конверсия 12 января 2020 года:\n"
     ]
    },
    {
     "data": {
      "text/html": [
       "<div>\n",
       "<style scoped>\n",
       "    .dataframe tbody tr th:only-of-type {\n",
       "        vertical-align: middle;\n",
       "    }\n",
       "\n",
       "    .dataframe tbody tr th {\n",
       "        vertical-align: top;\n",
       "    }\n",
       "\n",
       "    .dataframe thead th {\n",
       "        text-align: right;\n",
       "    }\n",
       "</style>\n",
       "<table border=\"1\" class=\"dataframe\">\n",
       "  <thead>\n",
       "    <tr style=\"text-align: right;\">\n",
       "      <th></th>\n",
       "      <th>group</th>\n",
       "      <th>cum_mean_check</th>\n",
       "    </tr>\n",
       "  </thead>\n",
       "  <tbody>\n",
       "    <tr>\n",
       "      <th>20</th>\n",
       "      <td>A</td>\n",
       "      <td>81492.0</td>\n",
       "    </tr>\n",
       "    <tr>\n",
       "      <th>21</th>\n",
       "      <td>B</td>\n",
       "      <td>88352.0</td>\n",
       "    </tr>\n",
       "  </tbody>\n",
       "</table>\n",
       "</div>"
      ],
      "text/plain": [
       "   group  cum_mean_check\n",
       "20     A         81492.0\n",
       "21     B         88352.0"
      ]
     },
     "metadata": {},
     "output_type": "display_data"
    }
   ],
   "source": [
    "daily_data['cum_count_visits'] = daily_data.groupby('group')['count_visits'].cumsum()\n",
    "daily_data['cum_count_purchases'] = daily_data.groupby('group')['count_purchases'].cumsum()\n",
    "daily_data['cum_sum_price'] = daily_data.groupby('group')['sum_price'].cumsum()\n",
    "daily_data['cum_conversion'] = daily_data['cum_count_purchases']/daily_data['cum_count_visits'] * 100\n",
    "daily_data['cum_mean_check'] = daily_data['cum_sum_price']/daily_data['cum_count_purchases']\n",
    " \n",
    "print('Кумулятивная конверсия 20 января 2020 года:')\n",
    "display(daily_data[daily_data['date'] == pd.to_datetime('2021-01-20')][['group', 'cum_conversion']].round(2))\n",
    "print('Кумулятивная конверсия 12 января 2020 года:')\n",
    "display(daily_data[daily_data['date'] == pd.to_datetime('2021-01-12')][['group', 'cum_mean_check']].round())\n",
    " \n"
   ]
  },
  {
   "cell_type": "markdown",
   "id": "c252b8ba-371b-4795-8fc3-a62317e9ba39",
   "metadata": {},
   "source": [
    "Постройте кумулятивные графики конверсии и среднего чека в каждой группе по дням. Сделайте выводы. Можно ли назвать A/B-тест завершенным - стабилизировались ли значения метрик во времени? Как соотносятся кумулятивные показатели в каждой группе?"
   ]
  },
  {
   "cell_type": "code",
   "execution_count": 19,
   "id": "27e23d20-7ed6-4a26-973d-6d0320b81adb",
   "metadata": {},
   "outputs": [
    {
     "data": {
      "image/png": "[encoded data removed]",
      "text/plain": [
       "<Figure size 1440x360 with 2 Axes>"
      ]
     },
     "metadata": {
      "needs_background": "light"
     },
     "output_type": "display_data"
    }
   ],
   "source": [
    "fig, axes= plt.subplots(1, 2, figsize=(20, 5))\n",
    "sns.lineplot(x='date', y='cum_conversion', data=daily_data, hue='group', ax=axes[0])\n",
    "sns.lineplot(x='date', y='cum_mean_check', data=daily_data, hue='group', ax=axes[1])\n",
    "\n",
    "axes[0].set_title('График кумулятивной конверсии')\n",
    "axes[1].set_title('График кумулятивного среднего чека')\n",
    "\n",
    "axes[0].grid(True);\n",
    "axes[1].grid(True);"
   ]
  },
  {
   "attachments": {},
   "cell_type": "markdown",
   "id": "f645f8e5-ad16-4b3b-8228-fbdeeb286833",
   "metadata": {},
   "source": [
    "Можно утверждать, что значения метрик стабилизировались, потому можно сказать, что А/В тест завершен. Наглядно видно, что не смотря на то, что конверсия у группы А чуть выше, средний чек группы Б больше, на всем продолжении теста."
   ]
  },
  {
   "cell_type": "markdown",
   "id": "2ecaa382-56e2-47f4-b086-24b4742570a3",
   "metadata": {
    "tags": []
   },
   "source": [
    "## **Задание 7.10.**\n",
    "\n",
    "Настало время переходить к проверке статистической значимости разницы между метриками в группах. Начнем с конверсии.\n",
    "\n",
    "Какой тест вы примените для проверки гипотезы о равенстве конверсий в группах?\n",
    "\n",
    "Проведите тестирование при следующих нулевой и альтернативной гипотезе:\n",
    "* $H_0$: Конверсии в группах А и B равны; \n",
    "* $H_1$: Конверсия в группе А больше чем конверсия в группе B;\n",
    "\n",
    "Вычислите p-value вашего теста для конверсий в группах А и B. Сравните полученное значение p-value с уровнем значимости $\\alpha$=0.05. "
   ]
  },
  {
   "cell_type": "code",
   "execution_count": 20,
   "id": "9dd1f6fd-2fa0-4a2f-8181-dbed4c302bce",
   "metadata": {},
   "outputs": [
    {
     "data": {
      "text/html": [
       "<div>\n",
       "<style scoped>\n",
       "    .dataframe tbody tr th:only-of-type {\n",
       "        vertical-align: middle;\n",
       "    }\n",
       "\n",
       "    .dataframe tbody tr th {\n",
       "        vertical-align: top;\n",
       "    }\n",
       "\n",
       "    .dataframe thead th {\n",
       "        text-align: right;\n",
       "    }\n",
       "</style>\n",
       "<table border=\"1\" class=\"dataframe\">\n",
       "  <thead>\n",
       "    <tr style=\"text-align: right;\">\n",
       "      <th></th>\n",
       "      <th>sum</th>\n",
       "      <th>count</th>\n",
       "    </tr>\n",
       "    <tr>\n",
       "      <th>group</th>\n",
       "      <th></th>\n",
       "      <th></th>\n",
       "    </tr>\n",
       "  </thead>\n",
       "  <tbody>\n",
       "    <tr>\n",
       "      <th>A</th>\n",
       "      <td>17723</td>\n",
       "      <td>147202</td>\n",
       "    </tr>\n",
       "    <tr>\n",
       "      <th>B</th>\n",
       "      <td>17514</td>\n",
       "      <td>147276</td>\n",
       "    </tr>\n",
       "  </tbody>\n",
       "</table>\n",
       "</div>"
      ],
      "text/plain": [
       "         sum   count\n",
       "group               \n",
       "A      17723  147202\n",
       "B      17514  147276"
      ]
     },
     "metadata": {},
     "output_type": "display_data"
    },
    {
     "name": "stdout",
     "output_type": "stream",
     "text": [
      "p-value:  0.11\n",
      "Принимаем нулевую гипотезу. Конверсии в группах А и B равны\n"
     ]
    }
   ],
   "source": [
    "# ваш код здесь\n",
    "# считаем количество успехов и наблюдений в каждой из групп\n",
    "converted_piv= data.groupby('group')['purchase'].agg(\n",
    "    ['sum', 'count']\n",
    ")\n",
    "display(converted_piv)\n",
    "# нулевая и альтернативная гипотезы\n",
    "H0 = 'Конверсии в группах А и B равны'\n",
    "H1 = 'Конверсия в группе А больше, чем конверсия в группе B'\n",
    "alpha = 0.05 # уровень значимости\n",
    "#вычисляем значение p-value для z-теста для пропорций\n",
    "_, p_value = proportions_ztest(\n",
    "    count=converted_piv['sum'], #число \"успехов\"\n",
    "    nobs=converted_piv['count'], #общее число наблюдений\n",
    "    alternative='larger'\n",
    ")\n",
    "#выводим результат на экран\n",
    "print('p-value: ', round(p_value, 2))\n",
    "#сравниваем полученное p-value с уровнем значимости\n",
    "if (p_value < alpha): \n",
    "    print(\"Отвергаем нулевую гипотезу. {}\".format(H0))\n",
    "    print(\"Альтернативная гипотеза. H1: {}\".format(H1))\n",
    "else:\n",
    "    print(\"Принимаем нулевую гипотезу. {}\".format(H0))"
   ]
  },
  {
   "cell_type": "markdown",
   "id": "da794b48-80e3-47af-aceb-084a1862c86b",
   "metadata": {},
   "source": [
    "Приведите свои выводы по результатам проведенного статистического теста. Есть ли статистическая разница между конверсиями в группах А и B?"
   ]
  },
  {
   "attachments": {},
   "cell_type": "markdown",
   "id": "75dddb06-389d-4d65-92c7-425efa28e51a",
   "metadata": {},
   "source": [
    "# Ваши выводы"
   ]
  },
  {
   "cell_type": "markdown",
   "id": "32c5a1af-8cb2-4f3c-a126-410b70fb3ff3",
   "metadata": {
    "tags": []
   },
   "source": [
    "## **Задание 7.11.**\n",
    "Убедитесь в своих рассуждениях, построив 95%-ый доверительный интервал для конверсий и разницы между ними. Используйте $z_{крит}$ в своих расчетах\n",
    "\n",
    "Укажите нижнюю и верхнюю границы доверительных интервалов. Границы приведите в процентах и округлите до 2 знака после запятой. Например: нижняя граница 89.24%, верхняя граница 91.25%."
   ]
  },
  {
   "cell_type": "code",
   "execution_count": 21,
   "id": "e9decb7d-ff5e-40a6-8b71-63627c4ef64a",
   "metadata": {},
   "outputs": [
    {
     "name": "stdout",
     "output_type": "stream",
     "text": [
      "Доверительный интервал для конверсии группы А: (11.87, 12.2)\n",
      "Доверительный интервал для конверсии группы B: (11.73, 12.06)\n"
     ]
    }
   ],
   "source": [
    "def conversion_conf_interval(n, x_p, gamma=0.95):   \n",
    "    alpha = 1 - gamma # уровень значимости\n",
    "    z_crit = -norm.ppf(alpha/2) # z критическое\n",
    "    eps = z_crit * (x_p * (1 - x_p) / n) ** 0.5 #погрешность\n",
    "    lower_bound = x_p - eps # левая (нижняя) граница\n",
    "    upper_bound = x_p + eps # правая (верхняя) граница\n",
    "    # возвращаем кортеж из округленных границ интервала\n",
    "    return round(lower_bound * 100, 2), round(upper_bound * 100, 2)\n",
    "\n",
    "a_data = updated_data[updated_data['group'] == 'A']\n",
    "b_data = updated_data[updated_data['group'] == 'B']\n",
    "conf_interval_a = conversion_conf_interval(\n",
    "a_data['user_id'].count(), # размер выборки\n",
    "a_data['purchase'].mean() # выборочная пропорция\n",
    ")\n",
    "conf_interval_b = conversion_conf_interval(\n",
    "b_data['user_id'].count(), # размер выборки\n",
    "b_data['purchase'].mean() # выборочная пропорция\n",
    ")\n",
    "print('Доверительный интервал для конверсии группы А: {}'.format(conf_interval_a))\n",
    "print('Доверительный интервал для конверсии группы B: {}'.format(conf_interval_b))\n",
    "\n"
   ]
  },
  {
   "cell_type": "code",
   "execution_count": 29,
   "id": "5dc11376",
   "metadata": {},
   "outputs": [
    {
     "name": "stdout",
     "output_type": "stream",
     "text": [
      "Доверительный интервал для разности конверсий: (-0.38, 0.09)\n"
     ]
    }
   ],
   "source": [
    "def diff_proportions_conf_interval(n, xp, gamma=0.95):\n",
    "    alpha = 1 - gamma # уровень значимости\n",
    "    diff = xp[1] - xp[0] # выборочная разница конверсий групп B и A\n",
    "    z_crit = -norm.ppf(alpha/2) # z критическое\n",
    "    eps = z_crit * (xp[0] * (1 - xp[0])/n[0] + xp[1] * (1 - xp[1])/n[1]) ** 0.5 # погрешность\n",
    "    lower_bound = diff - eps # левая (нижняя) граница\n",
    "    upper_bound = diff + eps # правая (верхняя) граница\n",
    "    # возвращаем кортеж из округлённых границ интервала\n",
    "    return round(lower_bound *100, 2), round(upper_bound * 100, 2)\n",
    "\n",
    "# размеры выборок групп А и B\n",
    "n = [a_data['user_id'].count(), b_data['user_id'].count()]\n",
    "# выборочная пропорция групп A и B\n",
    "xp = [a_data['purchase'].mean(), b_data['purchase'].mean()]\n",
    "# строим доверительный интервал для разности конверсий\n",
    "diff_inverval = diff_proportions_conf_interval(n, xp)\n",
    "print('Доверительный интервал для разности конверсий: {}'.format(diff_inverval))"
   ]
  },
  {
   "cell_type": "markdown",
   "id": "9332372d-66b2-45e9-a74c-f5d8b1d44afb",
   "metadata": {},
   "source": [
    "Проинтерпретируйте построенные доверительные интервалы для конверсий в группах. Есть ли перекрытие между доверительными интервалами для групп? Есть ли статистическая разница между конверсиями в группах А и B?"
   ]
  },
  {
   "cell_type": "code",
   "execution_count": 22,
   "id": "3d7ae49b-3662-4f8d-b7a2-c22a70b47bb8",
   "metadata": {},
   "outputs": [],
   "source": [
    "#ваши выводы здесь"
   ]
  },
  {
   "cell_type": "markdown",
   "id": "73c54883-b919-4889-bbf2-e1bdeb0b7055",
   "metadata": {},
   "source": [
    "## **Задание 7.12.**\n",
    "\n",
    "Ранее мы построили таблицу с ежедневными показателями. Теперь она нам снова понадобится, так как нас интересует ежедневный средний чек.\n",
    "\n",
    "Проверьте гипотезу о нормальности распределения ежедневного среднего чека в каждой из групп тестирования. \n",
    "\n",
    "* Какой тест вы примените  для проверки гипотезы о нормальности распределения ежедневного среднего чека?\n",
    "* Как будут звучать нулевая и альтернативная гипотезы?\n",
    "* Каковы результаты статистического теста с уровнем значимости $\\alpha$ =0.05?"
   ]
  },
  {
   "cell_type": "code",
   "execution_count": 23,
   "id": "898041ae-de7e-4b74-975e-111d494fbb82",
   "metadata": {},
   "outputs": [],
   "source": [
    "# ваш код здесь"
   ]
  },
  {
   "cell_type": "markdown",
   "id": "cbddecf9-4d15-4ff1-84e9-46c4d98fc1e0",
   "metadata": {
    "tags": []
   },
   "source": [
    "## **Задание 7.13.**\n",
    "Настало время сравнить варианты дизайна страницы по метрике среднего чека. \n",
    "\n",
    "Какой тест вы примените для проверки гипотезы о равенстве средних чеков по дням в группах?\n",
    "\n",
    "Проведите тестирование при следующих нулевой и альтернативной гипотезе:\n",
    "* $H_0$: Ежедневные средние чеки в группах А и B равны; \n",
    "* $H_1$: Ежедневный средний чек в группе А меньше чем в группе B;\n",
    "\n",
    "Вычислите p-value вашего теста для ежедневного среднего чека в группах А и B. Сравните полученное значение p-value с уровнем значимости $\\alpha$ =0.05. "
   ]
  },
  {
   "cell_type": "code",
   "execution_count": 24,
   "id": "05d43f23-2c2d-4795-bb96-1ffbfe81c391",
   "metadata": {},
   "outputs": [],
   "source": [
    "# ваш код здесь"
   ]
  },
  {
   "cell_type": "markdown",
   "id": "8534ab25-68b8-48f7-b2c1-ef1b72d8a767",
   "metadata": {},
   "source": [
    " Приведите свои выводы по проведенному статистическому тесту. Есть ли статистическая разница между ежедневными средними чеками в группах А и B?"
   ]
  },
  {
   "cell_type": "code",
   "execution_count": 25,
   "id": "d8258dfd-14e7-4af4-bc6c-19ea8932eab5",
   "metadata": {},
   "outputs": [
    {
     "ename": "SyntaxError",
     "evalue": "invalid syntax (1506124366.py, line 1)",
     "output_type": "error",
     "traceback": [
      "\u001b[0;36m  Input \u001b[0;32mIn [25]\u001b[0;36m\u001b[0m\n\u001b[0;31m    ваши выводы здесь\u001b[0m\n\u001b[0m         ^\u001b[0m\n\u001b[0;31mSyntaxError\u001b[0m\u001b[0;31m:\u001b[0m invalid syntax\n"
     ]
    }
   ],
   "source": [
    "ваши выводы здесь"
   ]
  },
  {
   "cell_type": "markdown",
   "id": "5e46c9a6-a943-48b4-ad72-935337469613",
   "metadata": {
    "tags": []
   },
   "source": [
    "## **Задание 7.14.**\n",
    "\n",
    "Постройте 95%-ый доверительный интервал для среднего чека в каждой группе. Так как выборка средних чеков небольшая, используйте  $t_{крит}$ в своих расчетах.\n",
    "\n",
    "Укажите нижнюю границу доверительного интервала для истинного среднего чека каждой из групп. Ответ приведите в процентах и округлите до целого."
   ]
  },
  {
   "cell_type": "code",
   "execution_count": null,
   "id": "480430db-ffae-4aad-8e22-f5c70d4800b8",
   "metadata": {},
   "outputs": [],
   "source": [
    "# ваш код здесь"
   ]
  },
  {
   "cell_type": "markdown",
   "id": "74a78db8-48f7-41d2-94cb-faefb30b8f76",
   "metadata": {},
   "source": [
    "Проинтерпретируйте построенные доверительные интервалы для ежедневных средних чеков в группах. Есть ли между ними пересечения?"
   ]
  },
  {
   "cell_type": "code",
   "execution_count": null,
   "id": "1ab3aad1-f4fd-485f-85ef-274a27fe7563",
   "metadata": {},
   "outputs": [],
   "source": [
    "ваши выводы здесь"
   ]
  },
  {
   "cell_type": "markdown",
   "id": "c078852f-892f-42ed-8d78-73edf8eb1f5e",
   "metadata": {
    "tags": []
   },
   "source": [
    "## **Сделайте общий вывод по результатам A/B-теста**\n",
    "\n",
    "Какой варианта дизайна посадочной страницы является более эффективным в комплексе по метрикам конверсии и среднего чека и почему? "
   ]
  }
 ],
 "metadata": {
  "kernelspec": {
   "display_name": "Python 3.8.2 64-bit",
   "language": "python",
   "name": "python3"
  },
  "language_info": {
   "codemirror_mode": {
    "name": "ipython",
    "version": 3
   },
   "file_extension": ".py",
   "mimetype": "text/x-python",
   "name": "python",
   "nbconvert_exporter": "python",
   "pygments_lexer": "ipython3",
   "version": "3.8.2"
  },
  "vscode": {
   "interpreter": {
    "hash": "31f2aee4e71d21fbe5cf8b01ff0e069b9275f58929596ceb00d14d90e3e16cd6"
   }
  }
 },
 "nbformat": 4,
 "nbformat_minor": 5
}
