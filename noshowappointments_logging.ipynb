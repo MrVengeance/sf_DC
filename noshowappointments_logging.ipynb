{
  "cells": [
    {
      "cell_type": "markdown",
      "metadata": {
        "id": "aUAqi67vLzhL"
      },
      "source": [
        "# Импорт библиотек"
      ]
    },
    {
      "cell_type": "code",
      "execution_count": 2,
      "metadata": {
        "id": "lXinfUuSL6Og"
      },
      "outputs": [],
      "source": [
        "import pandas as pd \n",
        "\n",
        "import os\n",
        "import logging"
      ]
    },
    {
      "cell_type": "markdown",
      "metadata": {
        "id": "y3290WaEMCCM"
      },
      "source": [
        "# Загрузка данных"
      ]
    },
    {
      "cell_type": "code",
      "execution_count": 3,
      "metadata": {
        "id": "VbAf186tLgqb"
      },
      "outputs": [],
      "source": [
        "df = pd.read_csv('./KaggleV2-May-2016.csv')"
      ]
    },
    {
      "cell_type": "markdown",
      "metadata": {
        "id": "hIlLTfPPz3VG"
      },
      "source": [
        "# Логирование информации о данных"
      ]
    },
    {
      "cell_type": "code",
      "execution_count": 4,
      "metadata": {
        "id": "heuTVTZ6vvHd"
      },
      "outputs": [],
      "source": [
        "# Функция для создания лог-файла и записи в него информации\n",
        "def get_logger(path, file):\n",
        "   \"\"\"[Создает лог-файл для логирования в него]\n",
        "   Аргументы:\n",
        "       path {string} -- путь к директории\n",
        "       file {string} -- имя файла\n",
        "  \n",
        "   Возвращает:\n",
        "       [obj] -- [логер]\n",
        "   \"\"\"\n",
        " \n",
        "   # проверяем, существует ли файл\n",
        "   log_file = os.path.join(path, file)\n",
        " \n",
        "   if not os.path.isfile(log_file):\n",
        "       open(log_file, \"w+\").close()\n",
        " \n",
        "   # поменяем формат логирования\n",
        "   file_logging_format = \"%(levelname)s: %(asctime)s: %(message)s\"\n",
        " \n",
        "   # конфигурируем лог-файл\n",
        "   logging.basicConfig(level=logging.INFO, \n",
        "   format = file_logging_format)\n",
        "   logger = logging.getLogger()\n",
        "  \n",
        "   # создадим хэнлдер для записи лога в файл\n",
        "   handler = logging.FileHandler(log_file)\n",
        " \n",
        "   # установим уровень логирования\n",
        "   handler.setLevel(logging.INFO)\n",
        "  \n",
        "   # создадим формат логирования, используя file_logging_format\n",
        "   formatter = logging.Formatter(file_logging_format)\n",
        "   handler.setFormatter(formatter)\n",
        " \n",
        "   # добавим хэндлер лог-файлу\n",
        "   logger.addHandler(handler)\n",
        " \n",
        "   return logger"
      ]
    },
    {
      "cell_type": "code",
      "execution_count": 5,
      "metadata": {
        "colab": {
          "base_uri": "https://localhost:8080/"
        },
        "id": "7YrkW6YnwGtS",
        "outputId": "ce745a05-cb06-45f6-c3cf-f628e317f94e"
      },
      "outputs": [
        {
          "name": "stdout",
          "output_type": "stream",
          "text": [
            "mkdir: temp_logs: File exists\n"
          ]
        }
      ],
      "source": [
        "# создаем папку для логирования\n",
        "#!mkdir temp_logs"
      ]
    },
    {
      "cell_type": "code",
      "execution_count": 6,
      "metadata": {
        "id": "26Fl0Sjdv-C2"
      },
      "outputs": [],
      "source": [
        "# создаем лог-файл\n",
        "logger = get_logger(path=\"temp_logs/\", file=\"data.logs\")"
      ]
    },
    {
      "cell_type": "code",
      "execution_count": 7,
      "metadata": {
        "colab": {
          "base_uri": "https://localhost:8080/"
        },
        "id": "eEsvaL4vv-mO",
        "outputId": "2801c710-7805-4a14-de7b-5908209aa6e3"
      },
      "outputs": [
        {
          "name": "stderr",
          "output_type": "stream",
          "text": [
            "INFO: 2023-01-12 13:37:53,746: Data\n"
          ]
        }
      ],
      "source": [
        "logger.info(\"Data\")"
      ]
    },
    {
      "cell_type": "code",
      "execution_count": 8,
      "metadata": {
        "colab": {
          "base_uri": "https://localhost:8080/"
        },
        "id": "HEOhNMk8wSXG",
        "outputId": "341ad825-2180-45f2-a7ee-aee6e7ddab6d"
      },
      "outputs": [
        {
          "name": "stderr",
          "output_type": "stream",
          "text": [
            "INFO: 2023-01-12 13:37:53,877: Data shape (110527, 14)\n"
          ]
        }
      ],
      "source": [
        "logger.info(\"Data shape {}\".format(df.shape))"
      ]
    },
    {
      "cell_type": "code",
      "execution_count": 9,
      "metadata": {
        "colab": {
          "base_uri": "https://localhost:8080/"
        },
        "id": "tODTr_-Lwa7j",
        "outputId": "eb845614-8d34-4001-8f4e-8e2d1f17bf32"
      },
      "outputs": [
        {
          "name": "stderr",
          "output_type": "stream",
          "text": [
            "INFO: 2023-01-12 13:37:54,006: Percentage of women: 0.653882342398853\n"
          ]
        }
      ],
      "source": [
        "logger.info(\"Percentage of women: {}\".format(df[df['No-show']=='Yes']['Gender'].value_counts(True)[0]))"
      ]
    },
    {
      "cell_type": "code",
      "execution_count": 10,
      "metadata": {
        "colab": {
          "base_uri": "https://localhost:8080/"
        },
        "id": "Yrs_ikOi7e92",
        "outputId": "e8500713-9cb9-4a3a-849c-ec02b132c5b2"
      },
      "outputs": [
        {
          "name": "stderr",
          "output_type": "stream",
          "text": [
            "INFO: 2023-01-12 13:37:54,115: Percentage of men: 0.346117657601147\n"
          ]
        }
      ],
      "source": [
        "logger.info(\"Percentage of men: {}\".format(df[df['No-show']=='Yes']['Gender'].value_counts(True)[1]))"
      ]
    },
    {
      "cell_type": "code",
      "execution_count": null,
      "metadata": {
        "id": "Yf_j1MN875RV"
      },
      "outputs": [],
      "source": []
    },
    {
      "cell_type": "code",
      "execution_count": 11,
      "metadata": {
        "colab": {
          "base_uri": "https://localhost:8080/"
        },
        "id": "kdcs0ys575c_",
        "outputId": "bd2da9f1-29c7-497a-be40-f3c76f7218ba"
      },
      "outputs": [
        {
          "name": "stderr",
          "output_type": "stream",
          "text": [
            "ERROR: 2023-01-12 13:37:54,491: Data shape is incorrect!\n"
          ]
        }
      ],
      "source": [
        "if df.shape != (110526,14):\n",
        "  logger.error('Data shape is incorrect!')"
      ]
    },
    {
      "cell_type": "code",
      "execution_count": null,
      "metadata": {},
      "outputs": [],
      "source": [
        "# import comet_ml at the top of your file\n",
        "from comet_ml import Experiment\n",
        "\n",
        "# Create an experiment with your api key\n",
        "experiment = Experiment(\n",
        "    api_key=\"W2PDzbjzQDSf49734TqtDnArx\",\n",
        "    project_name=\"testsb\",\n",
        "    workspace=\"mrvengeance\",\n",
        ")"
      ]
    }
  ],
  "metadata": {
    "colab": {
      "collapsed_sections": [],
      "name": "noshowappointments_logging.ipynb",
      "provenance": []
    },
    "kernelspec": {
      "display_name": "Python 3",
      "language": "python",
      "name": "python3"
    },
    "language_info": {
      "codemirror_mode": {
        "name": "ipython",
        "version": 3
      },
      "file_extension": ".py",
      "mimetype": "text/x-python",
      "name": "python",
      "nbconvert_exporter": "python",
      "pygments_lexer": "ipython3",
      "version": "3.8.2 (default, Jun  8 2021, 11:59:35) \n[Clang 12.0.5 (clang-1205.0.22.11)]"
    },
    "nteract": {
      "version": "0.28.0"
    },
    "vscode": {
      "interpreter": {
        "hash": "31f2aee4e71d21fbe5cf8b01ff0e069b9275f58929596ceb00d14d90e3e16cd6"
      }
    }
  },
  "nbformat": 4,
  "nbformat_minor": 0
}
