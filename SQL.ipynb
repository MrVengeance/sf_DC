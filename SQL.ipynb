{
 "cells": [
  {
   "cell_type": "markdown",
   "metadata": {},
   "source": [
    "Задание 4.1\n",
    "0/1 point (graded)\n",
    "Напишите запрос, который выведет:\n",
    "\n",
    "число различных дополнительных типов (столбец additional_types_count);\n",
    "среднее число очков здоровья (столбец avg_hp);\n",
    "сумму показателей атаки (столбец attack_sum) в разбивке по основным типам (столбец primary_type).\n",
    "Отсортируйте результат по числу дополнительных типов в порядке убывания, при равенстве — по основному типу в алфавитном порядке.\n",
    "Столбцы к выводу (обратите внимание на порядок!): primary_type, additional_types_count, avg_hp, attack_sum."
   ]
  },
  {
   "cell_type": "code",
   "execution_count": null,
   "metadata": {},
   "outputs": [],
   "source": [
    "SELECT\n",
    "   type1 primary_type,\n",
    "   count(DISTINCT type2) additional_types_count,\n",
    "   AVG(hp) avg_hp,\n",
    "   SUM(attack) attack_sum\n",
    "FROM sql.pokemon\n",
    "GROUP BY primary_type\n",
    "ORDER BY 2 DESC, 1"
   ]
  },
  {
   "cell_type": "markdown",
   "metadata": {},
   "source": [
    "Напишите запрос, который выведет:\n",
    "\n",
    "количество покемонов (столбец pokemon_count);\n",
    "среднюю скорость (столбец avg_speed);\n",
    "максимальное и минимальное число очков здоровья (столбцы max_hp и min_hp)\n",
    "для электрических (Electric) покемонов, имеющих дополнительный тип и показатели атаки или защиты больше 50."
   ]
  },
  {
   "cell_type": "markdown",
   "metadata": {},
   "source": [
    "SELECT\n",
    "    COUNT(name) AS \"pokemon_count\",\n",
    "    AVG(speed) AS \"avg_speed\",\n",
    "    MAX(hp) AS \"max_hp\",\n",
    "    MIN(hp) AS \"min_hp\"\n",
    "FROM sql.pokemon\n",
    "WHERE type1 = 'Electric'\n",
    "AND type2 IS NOT NULL\n",
    "And (attack > 50 or defense > 50)"
   ]
  },
  {
   "cell_type": "markdown",
   "metadata": {},
   "source": [
    "Задание 5.1\n",
    "0/1 point (graded)\n",
    "Напишите запрос, который выведет основной и дополнительный типы покемонов (столбцы primary_type и additional_type) для тех типов, у которых средний показатель атаки больше 100 и максимальный показатель очков здоровья меньше 80."
   ]
  },
  {
   "cell_type": "markdown",
   "metadata": {},
   "source": [
    "SELECT\n",
    "    type1 primary_type,\n",
    "    type2 additional_type\n",
    "FROM sql.pokemon\n",
    "GROUP BY primary_type, additional_type\n",
    "HAVING avg(attack) > 100\n",
    "    AND MAX(hp) < 80"
   ]
  },
  {
   "cell_type": "markdown",
   "metadata": {},
   "source": [
    "Напишите запрос, который выводит столбцы с основным типом (primary_type) и числом покемонов этого типа (pokemon_count) для тех покемонов, чьё имя (name) начинается с S.\n",
    "\n",
    "Оставьте только типы, у которых средний показатель защиты больше 80.\n",
    "\n",
    "Выведите только ТОП-3 типов по числу покемонов в них"
   ]
  },
  {
   "cell_type": "markdown",
   "metadata": {},
   "source": [
    "SELECT\n",
    "    type1 primary_type,\n",
    "    COUNT(*) pokemon_count\n",
    "FROM sql.pokemon\n",
    "WHERE name LIKE 'S%'\n",
    "GROUP BY 1\n",
    "HAVING AVG(defense) > 80\n",
    "ORDER BY 2 DESC\n",
    "LIMIT 3"
   ]
  },
  {
   "cell_type": "markdown",
   "metadata": {},
   "source": [
    "Напишите запрос, который выведет основной и дополнительный типы покемонов и средние значения по каждому показателю (столбцы avg_hp, avg_attack, avg_defense, avg_speed).\n",
    "Оставьте только те пары типов, у которых сумма этих четырёх показателей более 400."
   ]
  },
  {
   "cell_type": "markdown",
   "metadata": {},
   "source": [
    "SELECT \n",
    "    type1,\n",
    "    type2,\n",
    "    AVG(hp) as avg_hp,\n",
    "    AVG(attack) as avg_attack,\n",
    "    AVG(defense) as avg_defense,\n",
    "    AVG(speed) as avg_speed\n",
    "FROM sql.pokemon\n",
    "GROUP BY type1, type2\n",
    "    HAVING AVG(hp) + AVG(attack) + AVG(defense) + AVG(speed) > 400"
   ]
  },
  {
   "cell_type": "markdown",
   "metadata": {},
   "source": [
    "Задание 6.3\n",
    "0/1 point (graded)\n",
    "Напишите запрос, который выведет столбцы с основным типом покемона и общим количеством покемонов этого типа.\n",
    "\n",
    "Учитывайте только тех покемонов, у которых или показатель атаки, или показатель защиты принимает значение между 50 и 100 включительно.\n",
    "\n",
    "Оставьте только те типы покемонов, у которых максимальный показатель здоровья не больше 125.\n",
    "\n",
    "Выведите только тот тип, который находится на пятом месте по количеству покемонов."
   ]
  },
  {
   "cell_type": "markdown",
   "metadata": {},
   "source": [
    "SELECT\n",
    "    type1, \n",
    "    COUNT(*)\n",
    "FROM sql.pokemon\n",
    "WHERE attack BETWEEN 50 AND 100 OR defense BETWEEN 50 AND 100\n",
    "GROUP BY type1\n",
    "HAVING MAX(hp) <= 125\n",
    "ORDER BY COUNT(*) DESC\n",
    "LIMIT 1 OFFSET 4"
   ]
  },
  {
   "cell_type": "markdown",
   "metadata": {},
   "source": [
    "И в довершение итогов напомним структуру запроса, который мы можем составить с учётом новых знаний:"
   ]
  },
  {
   "cell_type": "markdown",
   "metadata": {},
   "source": [
    "SELECT\n",
    "    столбец1 AS новое_название,\n",
    "    столбец2,\n",
    "    АГРЕГАТ(столбец3)\n",
    "FROM таблица\n",
    "WHERE (условие1 OR условие2)\n",
    "    AND условие3\n",
    "GROUP BY столбец1, столбец2\n",
    "HAVING АГРЕГАТ(столбец3) > 5\n",
    "ORDER BY сортировка1, сортировка2\n",
    "OFFSET 1 LIMIT 2"
   ]
  },
  {
   "cell_type": "markdown",
   "metadata": {},
   "source": [
    "Напишите запрос, который выведет сезон (season), общее количество забитых мячей домашними (total_home_goals) и гостевыми (total_away_goals) командами.\n",
    "Отсортируйте по столбцу с сезоном в порядке возрастания."
   ]
  },
  {
   "cell_type": "markdown",
   "metadata": {},
   "source": [
    "SELECT\n",
    "   season, \n",
    "   SUM(home_team_goals) total_home_goals, \n",
    "   SUM(away_team_goals) total_away_goals\n",
    "FROM sql.matches \n",
    "GROUP BY 1\n",
    "ORDER BY 1"
   ]
  },
  {
   "cell_type": "markdown",
   "metadata": {},
   "source": [
    "Задание 2.2\n",
    "1/1 point (graded)\n",
    "Напишите запрос, который выведет таблицу с результатами матчей, содержащую:\n",
    "\n",
    "названия гостевых команд (long_name);\n",
    "количество забитых мячей домашней команды (home_team_goals);\n",
    "количество забитых мячей гостевой команды (away_team_goals)."
   ]
  },
  {
   "cell_type": "markdown",
   "metadata": {},
   "source": [
    "SELECT \n",
    "    long_name, \n",
    "    home_team_goals,\n",
    "    away_team_goals\n",
    "FROM\n",
    "    sql.teams,\n",
    "    sql.matches\n",
    "WHERE away_team_api_id  = api_id"
   ]
  },
  {
   "cell_type": "markdown",
   "metadata": {},
   "source": [
    "СИНТАКСИС\n",
    "\n",
    "Оператор JOIN упрощает процесс соединения таблиц.\n",
    "\n",
    "Его синтаксис можно представить следующим образом:"
   ]
  },
  {
   "cell_type": "markdown",
   "metadata": {},
   "source": [
    "SELECT\n",
    "        столбец1,\n",
    "\tстолбец2,\n",
    "\t...\n",
    "FROM\n",
    "\tтаблица1\n",
    "JOIN таблица2 ON условие"
   ]
  },
  {
   "cell_type": "markdown",
   "metadata": {},
   "source": [
    "Порядок присоединения таблиц в данном случае не важен — результат будет одинаковым.\n",
    "\n",
    "С помощью JOIN можно соединить и более двух таблиц.\n",
    "\n",
    "SELECT\n",
    "        столбец1,\n",
    "\tстолбец2,\n",
    "\t...\n",
    "FROM\n",
    "\tтаблица1\n",
    "JOIN таблица2 ON условие\n",
    "JOIN таблица3 ON условие\n",
    "В таблицах, которые мы соединяем, могут быть одинаковые названия столбцов.\n",
    "\n",
    "→ К примеру, столбец id есть и в таблице matches, и в таблице teams. Такой запрос не будет обработан."
   ]
  },
  {
   "cell_type": "markdown",
   "metadata": {},
   "source": [
    "Задание 3.2\n",
    "0/1 point (graded)\n",
    "Напишите запрос, который выведет два столбца: id матча (match_id) и id домашней команды (team_id), — а затем отсортируйте по id матча в порядке возрастания значений."
   ]
  },
  {
   "cell_type": "markdown",
   "metadata": {},
   "source": [
    "SELECT\n",
    "    m.id match_id,\n",
    "    t.id team_id\n",
    "FROM\n",
    "    sql.matches m\n",
    "    join sql.teams t on t.api_id = m.home_team_api_id\n",
    "ORDER BY 1"
   ]
  },
  {
   "cell_type": "markdown",
   "metadata": {},
   "source": [
    "Напишите запрос, который выведет столбцы: id матча, короткое название домашней команды (home_short), короткое название гостевой команды (away_short).\n",
    "Отсортируйте запрос по возрастанию id матча."
   ]
  },
  {
   "cell_type": "markdown",
   "metadata": {},
   "source": [
    "SELECT \n",
    "    m.id,\n",
    "    t.short_name home_short,\n",
    "    t1.short_name away_short\n",
    "FROM sql.matches m\n",
    "JOIN sql.teams t on t.api_id = m.home_team_api_id\n",
    "JOIN sql.teams t1 on t1.api_id = m.away_team_api_id \n",
    "ORDER BY 1"
   ]
  },
  {
   "cell_type": "markdown",
   "metadata": {},
   "source": [
    "Напишите запрос, который выводит столбцы «Название фильма» (movie_title), «Режиссёр» (director), «Сценарист» (screenwriter), «Актёры» (actors). Оставьте только те фильмы, у которых:\n",
    "\n",
    "рейтинг между 8 и 8.5 (включительно) ИЛИ год выхода в прокат до 1990;\n",
    "есть описание;\n",
    "название начинается не с буквы 'Т';\n",
    "название состоит ровно из 12 символов.\n",
    "Оставьте только ТОП-7 по рейтингу."
   ]
  },
  {
   "cell_type": "markdown",
   "metadata": {},
   "source": [
    "SELECT\n",
    "    movie_title \"Название фильма\",\n",
    "    director \"Режиссёр\",\n",
    "    screenwriter \"Сценарист\",\n",
    "    actors \"Актёры\"\n",
    "FROM sql.kinopoisk\n",
    "WHERE (rating BETWEEN 8 AND 8.5 OR year < 1990)\n",
    "    AND overview IS NOT NULL\n",
    "    AND movie_title NOT LIKE 'Т%'\n",
    "    AND movie_title LIKE '____________'\n",
    "ORDER BY rating DESC\n",
    "LIMIT 7"
   ]
  },
  {
   "cell_type": "markdown",
   "metadata": {},
   "source": [
    "И в довершение итогов напомним структуру запроса, который мы можем составить с учётом новых знаний:\n",
    "\n",
    "SELECT\n",
    "    столбец1 AS новое_название,\n",
    "    столбец2,\n",
    "    АГРЕГАТ(столбец3)\n",
    "FROM таблица\n",
    "WHERE (условие1 OR условие2)\n",
    "    AND условие3\n",
    "GROUP BY столбец1, столбец2\n",
    "HAVING АГРЕГАТ(столбец3) > 5\n",
    "ORDER BY сортировка1, сортировка2\n",
    "OFFSET 1 LIMIT 2"
   ]
  },
  {
   "cell_type": "markdown",
   "metadata": {},
   "source": [
    "Напишите запрос, который выведет полное название команды (long_name), количество голов домашней команды (home_goal) и количество голов гостевой команды (away_goal) в матчах, где домашней командой были команды с коротким названием ‘GEN’.\n",
    "Отсортируйте запрос по id матча в порядке возрастания.\n",
    "\n",
    "SELECT\n",
    "\tt.long_name long_name,\n",
    "\tm.home_team_goals home_goal,\n",
    "\tm.away_team_goals away_goal\n",
    "FROM\t\n",
    "\tsql.matches m\n",
    "JOIN sql.teams t ON t.api_id = m.home_team_api_id\n",
    "WHERE\n",
    "\tt.short_name = 'GEN'\n",
    "ORDER BY m.id"
   ]
  },
  {
   "cell_type": "markdown",
   "metadata": {},
   "source": [
    "Напишите запрос, чтобы вывести id матчей, короткое название домашней команды (home_short), короткое название гостевой команды (away_short) для матчей сезона 2011/2012, в которых участвовала команда с названием Liverpool.\n",
    "Отсортируйте по id матча в порядке возрастания.\n",
    "\n",
    "SELECT\n",
    "    m.id,\n",
    "    t.short_name home_short,\n",
    "    t1.short_name away_short\n",
    "FROM\n",
    "    sql.matches m\n",
    "JOIN sql.teams t ON m.home_team_api_id = t.api_id\n",
    "JOIN sql.teams t1 ON m.away_team_api_id = t1.api_id\n",
    "WHERE\n",
    "    m.season = '2011/2012'\n",
    "    and (t.long_name = 'Liverpool' or t1.long_name = 'Liverpool')\n",
    "ORDER BY m.id"
   ]
  },
  {
   "cell_type": "markdown",
   "metadata": {},
   "source": [
    "Поставим задачу — вывести таблицу с суммарным количеством забитых голов в матчах по командам и сезонам для команд, в которых суммарное количество голов в матчах сезона больше 100.\n",
    "Затем добавим таблицу с командами, группировку по командам и условие фильтрации.\n",
    "SELECT\n",
    "    m.season,\n",
    "    t.long_name,\n",
    "    SUM(m.home_team_goals) + SUM(m.away_team_goals) total_goals\n",
    "FROM sql.matches m\n",
    "JOIN sql.teams t ON t.api_id = m.home_team_api_id OR t.api_id = m.away_team_api_id\n",
    "GROUP BY m.season, t.id\n",
    "HAVING SUM(m.home_team_goals) + SUM(m.away_team_goals) > 100"
   ]
  },
  {
   "cell_type": "markdown",
   "metadata": {},
   "source": [
    "Напишите запрос, с помощью которого можно вывести список полных названий команд, сыгравших в гостях 150 и более матчей.\n",
    "Отсортируйте список по названию команды.\n",
    "SELECT\n",
    "    t.long_name\n",
    "FROM\n",
    "    sql.matches m\n",
    "JOIN sql.teams t ON m.away_team_api_id = t.api_id\n",
    "GROUP BY t.id\n",
    "HAVING COUNT(*) >= 150\n",
    "ORDER BY 1"
   ]
  },
  {
   "cell_type": "markdown",
   "metadata": {},
   "source": [
    " Поставим следующую задачу: вывести полные названия команд, данных по которым нет в таблице matches.\n",
    "\n",
    " SELECT\n",
    "    t.long_name\n",
    "FROM \n",
    "    sql.teams t\n",
    "LEFT JOIN sql.matches m ON t.api_id = m.home_team_api_id OR t.api_id = m.away_team_api_id\n",
    "WHERE m.id IS NULL"
   ]
  },
  {
   "cell_type": "markdown",
   "metadata": {},
   "source": [
    "Используя LEFT JOIN, выведите список уникальных названий команд, содержащихся в таблице matches. Отсортируйте список в алфавитном порядке.\n",
    "В поле ниже введите запрос, с помощью которого вы решили задание.\n",
    "\n",
    "SELECT\n",
    "    distinct t.long_name\n",
    "FROM \n",
    "    sql.teams t\n",
    "LEFT JOIN sql.matches m ON t.api_id = m.home_team_api_id OR t.api_id = m.away_team_api_id\n",
    "WHERE m.id is not null\n",
    "ORDER BY  t.long_name"
   ]
  }
 ],
 "metadata": {
  "kernelspec": {
   "display_name": "Python 3.8.2 64-bit",
   "language": "python",
   "name": "python3"
  },
  "language_info": {
   "codemirror_mode": {
    "name": "ipython",
    "version": 3
   },
   "file_extension": ".py",
   "mimetype": "text/x-python",
   "name": "python",
   "nbconvert_exporter": "python",
   "pygments_lexer": "ipython3",
   "version": "3.8.2"
  },
  "orig_nbformat": 4,
  "vscode": {
   "interpreter": {
    "hash": "31f2aee4e71d21fbe5cf8b01ff0e069b9275f58929596ceb00d14d90e3e16cd6"
   }
  }
 },
 "nbformat": 4,
 "nbformat_minor": 2
}
