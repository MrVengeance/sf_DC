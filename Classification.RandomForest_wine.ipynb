{
 "cells": [
  {
   "cell_type": "markdown",
   "id": "35f51b71-dd98-4174-801c-f912391b631f",
   "metadata": {},
   "source": [
    "# Введение в ансамбли: бэггинг. Случайный лес"
   ]
  },
  {
   "cell_type": "code",
   "execution_count": 1,
   "id": "82138140-b2e0-41be-9e26-acd2a1b5c373",
   "metadata": {},
   "outputs": [],
   "source": [
    "import numpy as np #для матричных вычислений\n",
    "import pandas as pd #для анализа и предобработки данных\n",
    "import matplotlib.pyplot as plt #для визуализации\n",
    "import seaborn as sns #для визуализации\n",
    "\n",
    "from sklearn import linear_model #линейные модели\n",
    "from sklearn import tree #деревья решений\n",
    "from sklearn import ensemble #ансамбли\n",
    "from sklearn import metrics #метрики\n",
    "\n",
    "from sklearn.model_selection import train_test_split"
   ]
  },
  {
   "cell_type": "code",
   "execution_count": 9,
   "id": "8f5c3f01-38ca-4460-8b8e-18032217ffbd",
   "metadata": {},
   "outputs": [],
   "source": [
    "wine_data = pd.read_csv('data/winequality-red.csv', sep=';')\n",
    "wine_data['quality'] = wine_data['quality'].apply(lambda x: 1 if x>=6 else 0)\n",
    "X = wine_data.drop('quality', axis=1)\n",
    "y = wine_data['quality']"
   ]
  },
  {
   "cell_type": "code",
   "execution_count": 10,
   "id": "42f40bbb",
   "metadata": {},
   "outputs": [],
   "source": [
    "from sklearn.model_selection import train_test_split\n",
    " \n",
    "X_train, X_test, y_train, y_test = train_test_split(X, y, test_size=0.2, random_state=42)"
   ]
  },
  {
   "cell_type": "code",
   "execution_count": 12,
   "id": "f174eec9",
   "metadata": {},
   "outputs": [
    {
     "name": "stdout",
     "output_type": "stream",
     "text": [
      "0.8459734167318217\n",
      "0.75\n"
     ]
    }
   ],
   "source": [
    "#Создаём объект класса RandomForestClassifier\n",
    "rf_clf_2d = ensemble.RandomForestClassifier(\n",
    "    n_estimators=500, #число деревьев\n",
    "    criterion='gini', #критерий эффективности\n",
    "    max_depth=8, #максимальная глубина дерева\n",
    "    max_features='sqrt', #число признаков из метода случайных подпространств\n",
    "    min_samples_leaf=10, #число признаков из метода случайных подпространств\n",
    "    random_state=42 #генератор случайных чисел\n",
    ")\n",
    "#Обучаем модель \n",
    "rf_clf_2d.fit(X_train, y_train)\n",
    " \n",
    "#Делаем предсказание класса\n",
    "y_pred1= rf_clf_2d.predict(X_train)\n",
    "y_pred2 = rf_clf_2d.predict(X_test)\n",
    "#Выводим отчёт о метриках\n",
    "print(metrics.accuracy_score(y_train, y_pred1))\n",
    "print(metrics.accuracy_score(y_test, y_pred2))"
   ]
  }
 ],
 "metadata": {
  "kernelspec": {
   "display_name": "Python 3",
   "language": "python",
   "name": "python3"
  },
  "language_info": {
   "codemirror_mode": {
    "name": "ipython",
    "version": 3
   },
   "file_extension": ".py",
   "mimetype": "text/x-python",
   "name": "python",
   "nbconvert_exporter": "python",
   "pygments_lexer": "ipython3",
   "version": "3.8.2"
  },
  "vscode": {
   "interpreter": {
    "hash": "31f2aee4e71d21fbe5cf8b01ff0e069b9275f58929596ceb00d14d90e3e16cd6"
   }
  }
 },
 "nbformat": 4,
 "nbformat_minor": 5
}
