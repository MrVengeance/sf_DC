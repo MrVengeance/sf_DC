{
 "cells": [
  {
   "cell_type": "code",
   "execution_count": 13,
   "metadata": {},
   "outputs": [
    {
     "name": "stdout",
     "output_type": "stream",
     "text": [
      "ADF Statistic: -4.808291253559766\n",
      "p-value: 5.243412990149813e-05\n",
      "Critical Values:\n",
      "\t1%: -3.449\n",
      "\t5%: -2.870\n",
      "\t10%: -2.571\n"
     ]
    }
   ],
   "source": [
    "import pandas as pd\n",
    "from statsmodels.tsa.stattools import adfuller\n",
    "\n",
    "df = pd.read_csv(\n",
    "\t\"data/daily-total-female-births.csv\", \n",
    "    header=0, \n",
    "    index_col=0\n",
    ").squeeze(\"columns\")\n",
    "\n",
    "result = adfuller(df.values)\n",
    "\n",
    "print(f\"ADF Statistic: {result[0]}\")\n",
    "print(f\"p-value: {result[1]}\")\n",
    "print(\"Critical Values:\")\n",
    "\n",
    "for key, value in result[4].items():\n",
    "\tprint(f\"\\t{key}: {value:.3f}\")"
   ]
  },
  {
   "cell_type": "code",
   "execution_count": 14,
   "metadata": {},
   "outputs": [],
   "source": [
    "df_diff_1 = df.diff().dropna()"
   ]
  },
  {
   "cell_type": "code",
   "execution_count": 15,
   "metadata": {},
   "outputs": [
    {
     "name": "stdout",
     "output_type": "stream",
     "text": [
      "adf:  -12.625178633871357\n",
      "p-value:  1.5472400091969005e-23\n",
      "Critical values:  {'1%': -3.44880082033912, '5%': -2.869670179576637, '10%': -2.5711012838861036}\n",
      "ряд стационарен\n"
     ]
    }
   ],
   "source": [
    "test1 = adfuller(df_diff_1)\n",
    "print ('adf: ', test1[0])\n",
    "print ('p-value: ', test1[1])\n",
    "print ('Critical values: ', test1[4])\n",
    "if test1[0]> test1[4]['5%']: \n",
    "    print ('ряд нестационарен')\n",
    "else:\n",
    "    print ('ряд стационарен')"
   ]
  }
 ],
 "metadata": {
  "kernelspec": {
   "display_name": "Python 3",
   "language": "python",
   "name": "python3"
  },
  "language_info": {
   "codemirror_mode": {
    "name": "ipython",
    "version": 3
   },
   "file_extension": ".py",
   "mimetype": "text/x-python",
   "name": "python",
   "nbconvert_exporter": "python",
   "pygments_lexer": "ipython3",
   "version": "3.8.2"
  },
  "vscode": {
   "interpreter": {
    "hash": "31f2aee4e71d21fbe5cf8b01ff0e069b9275f58929596ceb00d14d90e3e16cd6"
   }
  }
 },
 "nbformat": 4,
 "nbformat_minor": 2
}
