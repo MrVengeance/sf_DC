{
 "cells": [
  {
   "cell_type": "markdown",
   "id": "835460dc-af9e-4b0d-9a58-a1f558116596",
   "metadata": {},
   "source": [
    "# Алгоритмы на основе деревьев решений"
   ]
  },
  {
   "cell_type": "markdown",
   "id": "d88a6ff7-6d48-46e6-a896-c322c23557f6",
   "metadata": {
    "tags": []
   },
   "source": [
    "Пусть у нас задано обучающее множество пар объектов и ответов к ним $Q=\\{(x, y)\\}$, где $x ∈ X$ - вектора из $\\mathbb{R}^M$, описываемые $M$ координатами (признаками), $y ∈ Y$ - целевая метка объекта, $|Q|=N$. Множество $Y$ может быть непрерывным (задача регрессии) с мощность $|Y|=N$ или дискретным (задача классификации) с мощностью $|Y|=K$, где $K$ - количество классов.\n",
    "\n",
    "Наша с вами цель - составить такую функцию $f(x)$ - модель, которая наилучшим образом определяет зависимость между векторами x из множества $X$ и целевой переменной $y$ из множества $Y$   $f:X \\Rightarrow Y$. \n",
    "\n",
    "Строго говоря, такую функцию мы будем искать не в аналитическом виде, как мы делали, например, в случае линейной регрессии, а в виде алгоритма, то есть в виде последовательности действий. Обычно в математике алгоритм обозначается как $a(x)$ или $a: X \\Rightarrow Y$.\n",
    "\n",
    "\n",
    "Алгоритм $a(x)$ мы будем искать в семействе деревьев решений. "
   ]
  },
  {
   "cell_type": "markdown",
   "id": "323d719b-054a-437e-9470-39b66a0c64ba",
   "metadata": {},
   "source": [
    "## Деревья решений. Алгоритм CART"
   ]
  },
  {
   "cell_type": "markdown",
   "id": "f6fadc11-312c-4749-9c6d-9793915b6d00",
   "metadata": {},
   "source": [
    "**CART (Classification and Regression Tree)** - алгоритм и предназначенный для построения бинарных деревьев решений (деревьев, у которых каждая вершина связана с двумя другими вершинами нижнего уровня). Алгоритм очень похож на C4.5, однако в отличие от последнего предназначен как для задач классификации, так и для задач регрессии. CART важен для нас поскольку, именно он используется для построения моделей решающих деревьев в sklearn.\n"
   ]
  },
  {
   "cell_type": "code",
   "execution_count": 1,
   "id": "cd79be94-de2b-422a-bff3-b11bee07aff9",
   "metadata": {},
   "outputs": [],
   "source": [
    "import pandas as pd\n",
    "import matplotlib.pyplot as plt\n",
    "import seaborn as sns\n",
    "import numpy as np\n",
    "from sklearn import tree"
   ]
  },
  {
   "cell_type": "markdown",
   "id": "b31bc124-2099-4a4d-b9bf-afe1d779613b",
   "metadata": {
    "tags": []
   },
   "source": [
    "### Алгоритм CART: параметры разбиения"
   ]
  },
  {
   "cell_type": "markdown",
   "id": "4a9294a4-e520-4e39-990f-0c210487a0cf",
   "metadata": {},
   "source": [
    "Решаем задачу построения решающего пня: дерева с глубиной 1.\n",
    "\n",
    "Будем рассматривать простые предикаты вида:\n",
    "$$B(x_j, t)=[x_j \\leqslant t]$$\n",
    "Введем некоторую меру неоднородности $G(X, y, w)$, которая будет  показывать, насколько большой разброс целевой переменной $y$ для объектов из множества $X$ наблюдается в дочерних вершинах при параметрах сплита $w$. \n",
    "\n",
    "Параметры $w=(j, t)$ можно найти простым перебором. В качестве кандидатов на пороговое значение $t$ можно рассматривать среднее значение между двумя соседними уникальными значениями отсортированного фактора $x_j$. \n",
    "\n",
    "Для каждого из возможных предикатов $B(x_j, t)$ нам необходимо подсчитать значение неоднородности $G(X, y,w)$ на всей выборке и определить такую комбинацию $w_{opt}=(j_{opt}, t_{opt})$, которая дает минимум:\n",
    "\n",
    "$$w_{opt} = argmin_w(G(X, y, w))$$\n",
    "\n",
    "Псевдокод алгоритма поиска оптимальных параметров:\n",
    "```\n",
    "min_loss = inf\n",
    "optimal_split_params = None\n",
    "for j in range(M):\n",
    "    thresholds = find_candidates_for_thresholds(X[:, j], y)\n",
    "    for t in thresholds:\n",
    "        split_params = (j, t)\n",
    "        loss = calculate_loss(X, y, split_params)\n",
    "        if loss < min_loss:\n",
    "            min_loss = loss\n",
    "            optimal_split_params = split_params\n",
    "```\n",
    "\n",
    "Алгоритм поиска кандидатов в параметры разбиения:\n",
    "1. Сортировать числовой фактор $x_j$ по возрастанию:\n",
    "$$\\{x_{ij} | x_{ij}<x_{(i+1)j}\\} $$\n",
    "2. Вычислить среднее между двумя соседними уникальными значениями фактора:\n",
    "$$\\{x_{ij}^{mean}| x_{ij}^{mean}=\\frac{(x_{ij}+x_{(i+1)j})}{2}\\}$$\n",
    "3. В качестве кандидатов на пороговые значений t выбираются только те значения, при которых целевой признак меняет свое значение.\n",
    "$$\\{x_{ij}^{mean}| y_i-y_{(i+1)} \\neq 0\\}$$ \n"
   ]
  },
  {
   "cell_type": "code",
   "execution_count": 2,
   "id": "ed305a8b-ce97-4ecc-b224-9dd3573fdae0",
   "metadata": {},
   "outputs": [
    {
     "data": {
      "text/plain": [
       "2    17.5\n",
       "3    19.0\n",
       "7    22.5\n",
       "9    30.0\n",
       "4    34.5\n",
       "5    43.5\n",
       "Name: age, dtype: float64"
      ]
     },
     "execution_count": 2,
     "metadata": {},
     "output_type": "execute_result"
    }
   ],
   "source": [
    "data = pd.DataFrame({\n",
    "    'age': [17, 64, 18, 20, 38, 49, 55, 25, 29, 31],\n",
    "    'income': [25, 80, 22, 36, 37, 59, 74, 70, 33, 102],\n",
    "    'loan': [1, 0, 1, 0, 1, 0, 0, 1, 1, 0]\n",
    "})\n",
    "x = data['age']\n",
    "y = data['loan']\n",
    "x = x.sort_values().drop_duplicates()\n",
    "x_roll_mean = x.rolling(2).mean()\n",
    "x_roll_mean = x_roll_mean.dropna()\n",
    "y = y[x_roll_mean.index]\n",
    "y_roll_mean = y.diff()\n",
    "candidates = x_roll_mean[y_roll_mean != 0]\n",
    "candidates"
   ]
  },
  {
   "cell_type": "code",
   "execution_count": 3,
   "id": "f8519463-e1b1-4f5e-a341-fea33ebba796",
   "metadata": {},
   "outputs": [
    {
     "name": "stdout",
     "output_type": "stream",
     "text": [
      "[17.5 19.  22.5 30.  34.5 43.5]\n",
      "[23.5 34.5 36.5 48.  64.5 72. ]\n"
     ]
    }
   ],
   "source": [
    "def find_candidates_for_thresholds(x, y):\n",
    "    x = x.sort_values().drop_duplicates()\n",
    "    x_roll_mean = x.rolling(2).mean().dropna()\n",
    "    y = y[x_roll_mean.index]\n",
    "    y_roll_mean = y.diff()\n",
    "    candidates = x_roll_mean[y_roll_mean != 0]\n",
    "    return candidates.values\n",
    "\n",
    "print(find_candidates_for_thresholds(data['age'], data['loan']))\n",
    "print(find_candidates_for_thresholds(data['income'], data['loan']))"
   ]
  },
  {
   "attachments": {},
   "cell_type": "markdown",
   "id": "f6cf7b82",
   "metadata": {},
   "source": [
    "Задание 3.4 Дана часть датасета о домах в штате Айова, состоящая из 15 наблюдений:\n",
    "\n",
    "ames_data = pd.read_csv('data/AmesHousing.csv')\n",
    "ames_data = ames_data[(ames_data['Lot Frontage'] <=150) & (ames_data['Lot Area'] <=20000)]\n",
    "ames_sample = ames_data[['Lot Frontage', 'Lot Area', 'SalePrice']].sample(\n",
    "    n=15, #количество объектов\n",
    "    random_state=42, #генератор случайных чисел\n",
    "    ignore_index=True #сбрасываем счетчик индекса\n",
    ")\n",
    "Найдите уникальных кандидатов на пороговое значение  для фактора  (Lot Frontage)."
   ]
  },
  {
   "cell_type": "code",
   "execution_count": 4,
   "id": "3db00227",
   "metadata": {},
   "outputs": [],
   "source": [
    "ames_data = pd.read_csv('data/AmesHousing.csv')\n",
    "ames_data = ames_data[(ames_data['Lot Frontage'] <=150) & (ames_data['Lot Area'] <=20000)]\n",
    "ames_sample = ames_data[['Lot Frontage', 'Lot Area', 'SalePrice']].sample(\n",
    "    n=15, #количество объектов\n",
    "    random_state=42, #генератор случайных чисел\n",
    "    ignore_index=True #сбрасываем счетчик индекса\n",
    ")"
   ]
  },
  {
   "cell_type": "code",
   "execution_count": 5,
   "id": "52d53241",
   "metadata": {},
   "outputs": [
    {
     "name": "stdout",
     "output_type": "stream",
     "text": [
      "[ 53.  58.  61.  65.  69.  71.  76.  86.  94. 101.]\n"
     ]
    }
   ],
   "source": [
    "\n",
    "print(find_candidates_for_thresholds(ames_sample['Lot Frontage'], ames_sample['SalePrice']))"
   ]
  },
  {
   "cell_type": "code",
   "execution_count": 6,
   "id": "587be134",
   "metadata": {},
   "outputs": [
    {
     "name": "stdout",
     "output_type": "stream",
     "text": [
      "[ 5508.   7153.   7425.   7949.   8405.5  8526.5  8850.   9137.5  9466.\n",
      " 10051.5 10507.  10834.  11365.  12288. ]\n"
     ]
    }
   ],
   "source": [
    "\n",
    "print(find_candidates_for_thresholds(ames_sample['Lot Area'], ames_sample['SalePrice']))"
   ]
  },
  {
   "cell_type": "markdown",
   "id": "4060cca3-ad03-46a4-9374-67fb683d4459",
   "metadata": {},
   "source": [
    "### Алгоритм CART: неоднородность, критерии информативности"
   ]
  },
  {
   "cell_type": "markdown",
   "id": "131cde9e-e6c9-45a3-a1fa-025fd5ef850a",
   "metadata": {
    "tags": []
   },
   "source": [
    "Пары объектов $x$ и ответов $y$, соответствующих им, обозначим одной буквой $Q=\\{(x, y)\\}$. Пусть это множество $Q$ содержит $N=|Q|$ объектов из обучающей выборки.\n",
    "\n",
    "Введем функцию **критерия информативности (критерий неоднородности)** $H(Q)$, которая показывает разброс ответов $y$ в обучающей выборке $Q$.\n",
    "\n",
    "Предположим, что мы выбрали какие конкретные параметры $w$, тогда множество $Q$ разбивается на две части: $Q^{left}=(X^{left} ,y^{left})$ и $Q^{right}=(X^{right} ,y^{right})$, для которых условие предиката $B(x_j,t)$ выполняется и не выполняется соответственно:\n",
    " \n",
    "$$Q^{left}=\\{(x, y)| x_{j} \\leqslant t\\}$$\n",
    "\n",
    "$$Q^{right}=Q - Q^{left}=\\{(x, y)| x_j>t\\}$$\n",
    " \n",
    "Каждая из полученных выборок будет иметь свои размеры - мощности множеств, назовем их как $N^{left}=|Q^{left}|$ и $N^{right}=|Q^{right}|$.\n",
    "Введем понятие **взвешенной неоднородности**:\n",
    "$$G(Q, w) = \\frac{N^{left}}{N} H(Q^{left}) + \\frac{N^{right}}{N} H(Q^{right})  \\Rightarrow min_{w}$$\n",
    "\n",
    "$$w_{opt} = argmin_w(G(Q, w))$$\n",
    "\n",
    "Тогда **прирост информации (information gain)** будет выражаться как: \n",
    " \n",
    "$$IG(Q, w)=H(Q)-G(Q, w)=H(Q)- \\frac{N^{left}}{N} H(Q^{left})-\\frac{N^{right}}{N} H(Q^{right})$$\n",
    "\n",
    "#### Критерии информативности регрессии:\n",
    "* **squared error:**\n",
    "$$H(Q)=\\frac{1}{N} \\sum_{y∈ Q} (y-\\hat{y})^2 = \\frac{1}{N} \\sum_{y∈ Q} (y-\\overline{y})^2 $$\n",
    "$$\\overline{y} = \\frac{1}{N} \\sum_{y∈ Q}y$$\n",
    "\n",
    "* **absolute error:**\n",
    "$$H(Q)=\\frac{1}{N} \\sum_{y∈ Q} |y-\\hat{y}| = \\frac{1}{N} \\sum_{y∈ Q} |y-median(y)| $$\n",
    "\n",
    "* **poisson:**\n",
    "\n",
    "$$H(Q)=\\frac{1}{N} \\sum_{y∈ Q} (y log (\\frac{y}{\\overline{y}} - y + \\overline{y}) $$\n",
    "\n",
    "#### Критерии информативности классификации:\n",
    "\n",
    "Вероятность принадлежности к классу под номером $k$: \n",
    " \n",
    "$$P_k=\\frac{1}{N}\\sum_{y∈ Q}[y=k]$$\n",
    "\n",
    "* **entropy:**\n",
    "$$H(Q)=-\\sum_{k=1}^{K} P_k log(P_k)$$\n",
    "\n",
    "* **gini:**\n",
    "\n",
    "$$H(Q)=\\sum_{k=1}^{K}P_k(1-P_k)$$"
   ]
  },
  {
   "cell_type": "code",
   "execution_count": 7,
   "id": "04e8a9ff-253c-40ea-a809-6086488665a1",
   "metadata": {},
   "outputs": [],
   "source": [
    "def squared_error(y):\n",
    "    y_pred = y.mean()\n",
    "    return ((y - y_pred) ** 2).mean()\n",
    "\n",
    "def split(X, y, split_params):\n",
    "    j, t = split_params\n",
    "    predicat = X.iloc[:, j] <= t\n",
    "    X_left, y_left = X[predicat], y[predicat]\n",
    "    X_right, y_right = X[~predicat], y[~predicat]\n",
    "    return X_left, y_left, X_right, y_right\n",
    "\n",
    "def calculate_weighted_impurity(X, y, split_params, criterion):\n",
    "    X_left, y_left, X_right, y_right = split(X, y, split_params)\n",
    "    N, N_left, N_right  = y.size, y_left.size, y_right.size\n",
    "    score = N_left / N * criterion(y_left) + N_right / N * criterion(y_right)\n",
    "    return score\n",
    "\n",
    "def best_split(X, y, criterion):\n",
    "    M = X.shape[1]\n",
    "    min_weighted_impurity = np.inf\n",
    "    optimal_split_params = None\n",
    "    for j in range(M):\n",
    "        thresholds = find_candidates_for_thresholds(X.iloc[:, j], y)\n",
    "        for t in thresholds:\n",
    "            split_params = (j, t)\n",
    "            weighted_impurity = calculate_weighted_impurity(X, y, split_params, criterion)\n",
    "            if weighted_impurity < min_weighted_impurity:\n",
    "                min_weighted_impurity = weighted_impurity\n",
    "                optimal_split_params = split_params\n",
    "    return optimal_split_params"
   ]
  },
  {
   "cell_type": "code",
   "execution_count": 8,
   "id": "200e7d77-3dd3-4010-b03a-b80b11286022",
   "metadata": {},
   "outputs": [
    {
     "name": "stdout",
     "output_type": "stream",
     "text": [
      "Optimal j: 0\n",
      "Optimal t: 5.5\n"
     ]
    }
   ],
   "source": [
    "# Создаем обучающую выборку\n",
    "data = pd.DataFrame({\n",
    "    'x1': list(range(1, 16)),\n",
    "    'y': [1, 1.2, 1.4, 1.1, 1, 5.5, 6.1, 6.7, 6.4, 6, 6, 3, 3.2, 3.1, 3]\n",
    "})\n",
    "X = data[['x1']]\n",
    "y = data['y']\n",
    "# Находим оптимальные параметры разбиения\n",
    "optimal_split_params = best_split(X, y, criterion=squared_error)\n",
    "print('Optimal j: {}'.format(optimal_split_params[0]))\n",
    "print('Optimal t: {}'.format(optimal_split_params[1]))"
   ]
  },
  {
   "cell_type": "code",
   "execution_count": 9,
   "id": "b818870b-5bdb-4e9e-ac03-31b62ef3d3d6",
   "metadata": {},
   "outputs": [
    {
     "data": {
      "image/png": "[encoded data removed]",
      "text/plain": [
       "<Figure size 432x288 with 1 Axes>"
      ]
     },
     "metadata": {
      "needs_background": "light"
     },
     "output_type": "display_data"
    }
   ],
   "source": [
    "# Инициализируем модель дерева решений с максимальной глубиной 1 и обучаем ее\n",
    "dt = tree.DecisionTreeRegressor(\n",
    "    max_depth=1, #глубина\n",
    "    criterion='squared_error', #критерий информативности\n",
    "    random_state=0 #генератор случайных чисел\n",
    ")\n",
    "dt.fit(X, y)\n",
    "# Визуализируем дерево решений в виде графа\n",
    "tree.plot_tree(\n",
    "    decision_tree=dt, #дерево решений \n",
    "    feature_names=X.columns, #имена факторов\n",
    "    filled=True, #расцветка\n",
    "    impurity=True, #отображать ли неоднородность в вершинах\n",
    ");"
   ]
  },
  {
   "cell_type": "code",
   "execution_count": 10,
   "id": "791391d7",
   "metadata": {},
   "outputs": [],
   "source": [
    "ames_data = pd.read_csv('data/AmesHousing.csv')\n",
    "ames_data = ames_data[(ames_data[\"Lot Frontage\"] <= 150) & (ames_data[\"Lot Area\"] <= 20000)]\n",
    "\n",
    "ames_sample = ames_data[[\"Lot Frontage\", \"Lot Area\", \"SalePrice\"]].sample(\n",
    "    n=15, random_state=42, ignore_index=True\n",
    ")\n",
    "X = ames_sample[[\"Lot Frontage\", \"Lot Area\"]]\n",
    "y = ames_sample[\"SalePrice\"]"
   ]
  },
  {
   "cell_type": "code",
   "execution_count": 11,
   "id": "278e3503",
   "metadata": {},
   "outputs": [
    {
     "name": "stdout",
     "output_type": "stream",
     "text": [
      "Optimal j: 0\n",
      "Optimal t: 71.0\n"
     ]
    }
   ],
   "source": [
    "\n",
    "# Находим оптимальные параметры разбиения\n",
    "optimal_split_params = best_split(X, y, criterion=squared_error)\n",
    "print('Optimal j: {}'.format(optimal_split_params[0]))\n",
    "print('Optimal t: {}'.format(optimal_split_params[1]))"
   ]
  },
  {
   "cell_type": "code",
   "execution_count": 12,
   "id": "d33f6e11",
   "metadata": {},
   "outputs": [
    {
     "data": {
      "image/png": "[encoded data removed]",
      "text/plain": [
       "<Figure size 432x288 with 1 Axes>"
      ]
     },
     "metadata": {
      "needs_background": "light"
     },
     "output_type": "display_data"
    }
   ],
   "source": [
    "# Инициализируем модель дерева решений с максимальной глубиной 1 и обучаем ее\n",
    "dt = tree.DecisionTreeRegressor(\n",
    "    max_depth=1, #глубина\n",
    "    criterion='squared_error', #критерий информативности\n",
    "    random_state=0 #генератор случайных чисел\n",
    ")\n",
    "dt.fit(X, y)\n",
    "# Визуализируем дерево решений в виде графа\n",
    "tree.plot_tree(\n",
    "    decision_tree=dt, #дерево решений \n",
    "    feature_names=X.columns, #имена факторов\n",
    "    filled=True, #расцветка\n",
    "    impurity=True, #отображать ли неоднородность в вершинах\n",
    ");"
   ]
  },
  {
   "cell_type": "code",
   "execution_count": 13,
   "id": "f07d45e0",
   "metadata": {},
   "outputs": [],
   "source": [
    "def entropy(y):\n",
    "    p = y.value_counts(normalize=True)\n",
    "    entropy = -np.sum(p * np.log2(p))\n",
    "    return entropy"
   ]
  },
  {
   "cell_type": "code",
   "execution_count": 14,
   "id": "5348a6b4",
   "metadata": {},
   "outputs": [
    {
     "data": {
      "text/plain": [
       "(0, 65.0)"
      ]
     },
     "execution_count": 14,
     "metadata": {},
     "output_type": "execute_result"
    }
   ],
   "source": [
    "optimal_params = best_split(X, y, criterion=entropy)\n",
    "optimal_params"
   ]
  },
  {
   "attachments": {},
   "cell_type": "markdown",
   "id": "40c567f3",
   "metadata": {},
   "source": [
    "Задание 4.5\n",
    "3/3 points (graded)\n",
    "\n",
    "Дана часть датасета о банкнотах, состоящая из 15 наблюдений:\n",
    "\n",
    "\n",
    "Найдите оптимальные для построения решающего пня параметры разбиения  и . Для этого воспользуйтесь функцией best_split(), которую мы реализовали ранее. В качестве критерия информативности используется энтропию Шеннона."
   ]
  },
  {
   "cell_type": "code",
   "execution_count": 15,
   "id": "2b0a7b97",
   "metadata": {},
   "outputs": [],
   "source": [
    "bill_data = pd.read_csv('data/bill_authentication.csv')\n",
    "bill_sample = bill_data[['Variance', 'Skewness', 'Class']].sample(\n",
    "    n=15, \n",
    "    random_state=42, \n",
    "    ignore_index=True\n",
    ")\n",
    "# Создаём обучающую выборку\n",
    "X = bill_sample[['Variance', 'Skewness']]\n",
    "y = bill_sample['Class']"
   ]
  },
  {
   "cell_type": "code",
   "execution_count": 16,
   "id": "178936e5",
   "metadata": {},
   "outputs": [
    {
     "data": {
      "text/plain": [
       "(1, 3.22085)"
      ]
     },
     "execution_count": 16,
     "metadata": {},
     "output_type": "execute_result"
    }
   ],
   "source": [
    "optimal_params = best_split(X, y, criterion=entropy)\n",
    "optimal_params"
   ]
  },
  {
   "cell_type": "code",
   "execution_count": 17,
   "id": "99567ae6",
   "metadata": {},
   "outputs": [
    {
     "data": {
      "image/png": "[encoded data removed]",
      "text/plain": [
       "<Figure size 432x288 with 1 Axes>"
      ]
     },
     "metadata": {
      "needs_background": "light"
     },
     "output_type": "display_data"
    }
   ],
   "source": [
    "# Инициализируем модель дерева решений с максимальной глубиной 1 и обучаем ее\n",
    "dt = tree.DecisionTreeRegressor(\n",
    "    max_depth=1, #глубина\n",
    "    criterion='squared_error', #критерий информативности\n",
    "    random_state=0 #генератор случайных чисел\n",
    ")\n",
    "dt.fit(X, y)\n",
    "# Визуализируем дерево решений в виде графа\n",
    "tree.plot_tree(\n",
    "    decision_tree=dt, #дерево решений \n",
    "    feature_names=X.columns, #имена факторов\n",
    "    filled=True, #расцветка\n",
    "    impurity=True, #отображать ли неоднородность в вершинах\n",
    ");"
   ]
  },
  {
   "cell_type": "markdown",
   "id": "f35f0e06-24c6-4f28-9e8d-294b1404b7a5",
   "metadata": {},
   "source": [
    "### Алгоритм CART: рекурсия, критерии остановки"
   ]
  },
  {
   "cell_type": "markdown",
   "id": "1e43194d-9c5c-46e8-9517-d4b91c76a8d8",
   "metadata": {},
   "source": [
    "Итак, пусть $Q_v=\\{(x, y)\\}$ - множество объектов и ответов к ним, попавших в вершину с номером $v$, $N_v=|Q_v|$. Пусть задан критерий информативности $H(Q)$, который зависит от задачи (регрессия - squared error, absolute error или poisson, классификация - gini или entropy).\n",
    " \n",
    "А также задан некоторый критерий остановки рекурсии $stop\\_criterion(Q_v)$. \n",
    "\n",
    "Наш алгоритм построения дерева решений CART будет выглядеть следующим образом:\n",
    "1. Создаем вершину под номером $v$\n",
    "2. Проверяем критерий остановки $stop\\_criterion(Q_v)$ <p>\n",
    "    2.1. Если условие выполнено.\n",
    "    Формируем листовую вершину $v$ и ставим в соответствие этому листу ответ $\\hat{y_v}$, который будет выдаваться для новых объектов, которые дойдут до этого листа. Назовем эту часть $create\\_leaf()$.\n",
    "    * Регрессия:\n",
    "    $$\\hat{y_v}=\\frac{1}{N_v}\\sum_{y ∈ Q_v}y$$\n",
    "    $$или$$\n",
    "    $$\\hat{y_v}={median}_{y ∈ Q_v}(y)$$\n",
    "    * Классификация:\n",
    "    $$P_{vk}=\\frac{1}{N_v}\\sum_{y ∈ Q_v}[y=k],$$\n",
    "    $$\\hat{y_v}=argmax_{k∈K}(P_{vk})$$\n",
    "    2.2. Если условие остановки не выполнено.\n",
    "    Строим решающий пень. Формируем решающее правило $B(x_j, t)$ для вершины $v$. Из возможных комбинаций $w=(j, t)$ находим такую, которая определяет наилучшее разбиение текущего множества объектов и ответов к ним $Q_v$\n",
    "    $$G(Q, w) = \\frac{N_v^{left}}{N_v} H(Q_v^{left}) + \\frac{N_v^{right}}{N} H(Q_v^{right})  \\Rightarrow min_{w}$$\n",
    "    \n",
    "    $$w_{opt} = argmin_w(G(Q_v, w))$$\n",
    "    \n",
    "    $$B_v(x_j, t) = [x_{j_{opt}} \\leqslant t_{opt}]$$\n",
    "    Для выборок $Q_v^{left}$ и $Q_v^{right}$ процедура будет повторяться рекурсивно, пока не выполнится критерий остановки.\n",
    "3. Возвращаем созданную вершину"
   ]
  },
  {
   "cell_type": "code",
   "execution_count": 18,
   "id": "8dfe316d-b285-4150-885f-85a9f6e6df7b",
   "metadata": {},
   "outputs": [
    {
     "name": "stdout",
     "output_type": "stream",
     "text": [
      "    feature_0 <= 43.500:\n",
      "       feature_1 <= 86.000:\n",
      "          feature_0 <= 22.500:\n",
      "             feature_0 <= 19.000:\n",
      "                class: 1\n",
      "             feature_0 > 19.000:\n",
      "                class: 0\n",
      "          feature_0 > 22.500:\n",
      "             class: 1\n",
      "       feature_1 > 86.000:\n",
      "          class: 0\n",
      "    feature_0 > 43.500:\n",
      "       class: 0\n"
     ]
    }
   ],
   "source": [
    "class Node:\n",
    "    def __init__(self, left=None, \n",
    "                 right=None, value=None, \n",
    "                 split_params=None, impurity=None,\n",
    "                 samples=None, is_leaf=False):\n",
    "        self.left = left\n",
    "        self.right = right\n",
    "        self.split_params = split_params\n",
    "        self.value = value\n",
    "        self.impurity = impurity\n",
    "        self.samples = samples\n",
    "        self.is_leaf = is_leaf\n",
    "\n",
    "def create_leaf_prediction(y):\n",
    "    value = y.mode()[0]\n",
    "    return value\n",
    "\n",
    "def stopping_criterion(X, y, criterion):\n",
    "    return criterion(y) == 0\n",
    "\n",
    "def build_decision_tree(X, y, criterion):\n",
    "    if stopping_criterion(X, y, criterion):\n",
    "        value = create_leaf_prediction(y)\n",
    "        node = Node(\n",
    "            value=value, \n",
    "            impurity=criterion(y), \n",
    "            samples=y.size,\n",
    "            is_leaf=True\n",
    "        )\n",
    "    else:\n",
    "        split_params = best_split(X, y, criterion=entropy)\n",
    "        X_left, y_left, X_rigth, y_right = split(X, y, split_params)\n",
    "        left = build_decision_tree(X_left, y_left, criterion)\n",
    "        right = build_decision_tree(X_rigth, y_right, criterion)       \n",
    "        node = Node(\n",
    "            left=left, right=right, \n",
    "            split_params=split_params, \n",
    "            impurity=criterion(y), \n",
    "            samples=y.size\n",
    "        )\n",
    "    return node\n",
    "\n",
    "def print_decision_tree(node, depth=0):\n",
    "    depth += 1\n",
    "    if node.is_leaf:\n",
    "        print('   ' * depth, 'class: {}'.format(node.value))\n",
    "    else:\n",
    "        print('   ' * depth, 'feature_{} <= {:.3f}:'.format(*node.split_params))\n",
    "        print_decision_tree(node.left, depth=depth)\n",
    "        print('   ' * depth, 'feature_{} > {:.3f}:'.format(*node.split_params))\n",
    "        print_decision_tree(node.right, depth=depth)\n",
    "        \n",
    "# Создаем обучающую выборку\n",
    "data = pd.DataFrame({\n",
    "    'age': [17, 64, 18, 20, 38, 49, 55, 25, 29, 31],\n",
    "    'income': [25, 80, 22, 36, 37, 59, 74, 70, 33, 102],\n",
    "    'loan': [1, 0, 1, 0, 1, 0, 0, 1, 1, 0]\n",
    "})\n",
    "X = data[['age', 'income']]\n",
    "y = data['loan'] \n",
    "# Строим дерево решений и печатаем его на экран\n",
    "decision_tree = build_decision_tree(X, y, criterion=entropy)\n",
    "print_decision_tree(decision_tree)"
   ]
  },
  {
   "cell_type": "code",
   "execution_count": 19,
   "id": "531bf606-a4dd-4436-bbf2-3f79c1c8f66e",
   "metadata": {},
   "outputs": [
    {
     "name": "stdout",
     "output_type": "stream",
     "text": [
      "|--- feature_0 <= 43.50\n",
      "|   |--- feature_1 <= 86.00\n",
      "|   |   |--- feature_0 <= 22.50\n",
      "|   |   |   |--- feature_0 <= 19.00\n",
      "|   |   |   |   |--- class: 1\n",
      "|   |   |   |--- feature_0 >  19.00\n",
      "|   |   |   |   |--- class: 0\n",
      "|   |   |--- feature_0 >  22.50\n",
      "|   |   |   |--- class: 1\n",
      "|   |--- feature_1 >  86.00\n",
      "|   |   |--- class: 0\n",
      "|--- feature_0 >  43.50\n",
      "|   |--- class: 0\n",
      "\n"
     ]
    }
   ],
   "source": [
    "# Создаем модель дерева решений\n",
    "dt = tree.DecisionTreeClassifier(\n",
    "    criterion='entropy', #критерий информативности\n",
    "    random_state=1000 #генератор случайных чисел\n",
    ")\n",
    "dt.fit(X, y)\n",
    "# Печатаем дерево решений в виде списка условий\n",
    "print(tree.export_text(decision_tree=dt))"
   ]
  },
  {
   "cell_type": "code",
   "execution_count": 20,
   "id": "a8c53c85-c4ad-4474-bee1-ba0e9022a09c",
   "metadata": {},
   "outputs": [
    {
     "name": "stdout",
     "output_type": "stream",
     "text": [
      "Predictions: [1 0 1 0 1 0 0 1 1 0]\n"
     ]
    }
   ],
   "source": [
    "def predict_sample(node, x):\n",
    "    if node.is_leaf:\n",
    "        return node.value\n",
    "    j, t = node.split_params\n",
    "    if x[j] <= t:\n",
    "        return predict_sample(node.left, x)\n",
    "    else:\n",
    "        return predict_sample(node.right, x)  \n",
    "\n",
    "def predict(decision_tree, X):\n",
    "    predictions = [predict_sample(decision_tree, x) for x in X.values]\n",
    "    return np.array(predictions)\n",
    "\n",
    "# Предсказываем целевую переменную\n",
    "y_pred = predict(decision_tree, X)\n",
    "print('Predictions: {}'.format(y_pred))"
   ]
  },
  {
   "cell_type": "markdown",
   "id": "975b15a9-6269-4f74-8931-86f4850ad727",
   "metadata": {},
   "source": [
    "В реализации дерева решений в sklearn предусмотрено несколько критериев при выполнении одного из которых ветвление дерева прекращается:\n",
    "* Достижения однородности (основной критерий)\n",
    "* Ограничение максимальной глубины дерева (параметр max_depth)\n",
    "* Ограничение на максимальное количество листьев в дереве (параметр max_leaf_node)\n",
    "* Ограничение на минимальное количество объектов, при которых допускается ветвление дерева (параметр min_samples_split)\n",
    "* Ограничение на минимальное количество объектов, необходимых для создания листа (параметр min_samples_leaf)"
   ]
  },
  {
   "cell_type": "code",
   "execution_count": 21,
   "id": "9164e0dc-6b4a-4b21-ad87-c251e2b4c813",
   "metadata": {
    "tags": []
   },
   "outputs": [
    {
     "name": "stdout",
     "output_type": "stream",
     "text": [
      "    feature_0 <= 43.500:\n",
      "       feature_1 <= 86.000:\n",
      "          class: 1\n",
      "       feature_1 > 86.000:\n",
      "          class: 0\n",
      "    feature_0 > 43.500:\n",
      "       class: 0\n"
     ]
    }
   ],
   "source": [
    "def stopping_criterion(X, y, criterion, max_depth=None, depth=0):\n",
    "    if max_depth is None:\n",
    "        return (criterion(y) == 0) \n",
    "    else:\n",
    "        return (criterion(y) == 0) or (depth > max_depth)\n",
    "    \n",
    "def build_decision_tree(X, y, criterion, max_depth=None, depth=0):\n",
    "    depth += 1\n",
    "    if stopping_criterion(X, y, criterion, max_depth, depth):\n",
    "        value = create_leaf_prediction(y)\n",
    "        node = Node(\n",
    "            value=value, \n",
    "            impurity=criterion(y), \n",
    "            samples=y.size,\n",
    "            is_leaf=True\n",
    "        )\n",
    "    else:\n",
    "        split_params = best_split(X, y, criterion=entropy)\n",
    "        X_left, y_left, X_rigth, y_right = split(X, y, split_params)\n",
    "        left = build_decision_tree(X_left, y_left, criterion, max_depth, depth)\n",
    "        right = build_decision_tree(X_rigth, y_right, criterion, max_depth, depth)       \n",
    "        node = Node(\n",
    "            left=left, right=right, \n",
    "            split_params=split_params, \n",
    "            impurity=criterion(y), \n",
    "            samples=y.size\n",
    "        )\n",
    "    return node\n",
    "\n",
    "# Строим дерево решений с ограничением глубины и печатаем его на экран\n",
    "decision_tree = build_decision_tree(X, y, criterion=entropy, max_depth=2)\n",
    "print_decision_tree(decision_tree)"
   ]
  },
  {
   "cell_type": "code",
   "execution_count": 23,
   "id": "807b03cd",
   "metadata": {},
   "outputs": [],
   "source": [
    "bill_data = pd.read_csv('data/bill_authentication.csv')\n",
    "bill_sample = bill_data[['Variance', 'Skewness', 'Class']].sample(\n",
    "    n=15, \n",
    "    random_state=42, \n",
    "    ignore_index=True\n",
    ")\n",
    "# Создаём обучающую выборку\n",
    "X = bill_sample[['Variance', 'Skewness']]\n",
    "y = bill_sample['Class']"
   ]
  },
  {
   "cell_type": "code",
   "execution_count": 25,
   "id": "93fcaa47",
   "metadata": {},
   "outputs": [
    {
     "name": "stdout",
     "output_type": "stream",
     "text": [
      "    feature_1 <= 3.221:\n",
      "       feature_0 <= 2.756:\n",
      "          feature_0 <= -1.254:\n",
      "             class: 0\n",
      "          feature_0 > -1.254:\n",
      "             feature_0 <= -0.063:\n",
      "                class: 1\n",
      "             feature_0 > -0.063:\n",
      "                feature_0 <= 0.988:\n",
      "                   class: 0\n",
      "                feature_0 > 0.988:\n",
      "                   class: 1\n",
      "       feature_0 > 2.756:\n",
      "          class: 0\n",
      "    feature_1 > 3.221:\n",
      "       class: 0\n"
     ]
    }
   ],
   "source": [
    "decision_tree = build_decision_tree(X, y, criterion=entropy)\n",
    "print_decision_tree(decision_tree)"
   ]
  },
  {
   "cell_type": "markdown",
   "id": "120e6495-51dd-4f03-bb70-6a4ce2cc3e53",
   "metadata": {},
   "source": [
    "### Алгоритм CART: значимость признаков"
   ]
  },
  {
   "cell_type": "markdown",
   "id": "59fe49e7-090a-483d-9b7f-9f074d81bc5d",
   "metadata": {},
   "source": [
    "Прирост информации: \n",
    "$$IG(Q_v, w)=H(Q_v)-G(Q_v, w)=H(Q_v)- \\frac{N_v^{left}}{N_v} H(Q_v^{left})-\\frac{N_v^{right}}{N_v} H(Q_v^{right})$$\n",
    "или:\n",
    "$$IG(Q_v, w)= {N_v} H(Q_v) - {N_v^{left}} H(Q_v^{left})- {N_v^{right}} H(Q_v^{right})$$\n",
    "\n",
    "Тогда значимость **(абсолютная)** признаков будет определяться как:\n",
    "$$F(x_j)=\\frac{1}{N} \\sum_{v ∈ V_j}IG(Q_v, w)$$\n",
    "\n",
    "Нормируем полученные соотношения и получим **относительную** значимость:\n",
    "$$\\overline{F(x_j)}=\\frac{F(x_j)}{\\sum_{j =1}^M F(x_j)}$$"
   ]
  },
  {
   "cell_type": "code",
   "execution_count": 22,
   "id": "587a7856-585b-4c74-99f6-a7d988f2adc6",
   "metadata": {},
   "outputs": [
    {
     "name": "stdout",
     "output_type": "stream",
     "text": [
      "[0.78582905 0.21417095]\n"
     ]
    }
   ],
   "source": [
    "def calculate_feature_importances(node, feature_importance=None):\n",
    "    if feature_importance is None:\n",
    "        feature_importance = np.zeros(X.shape[1])\n",
    "    if node.value is None:\n",
    "        j = node.split_params[0]\n",
    "        feature_importance[j] += node.impurity * node.samples - \\\n",
    "                                 node.left.impurity * node.left.samples - \\\n",
    "                                 node.right.impurity * node.right.samples\n",
    "        calculate_feature_importances(node.left, feature_importance)\n",
    "        calculate_feature_importances(node.right, feature_importance)\n",
    "    feature_importance /= node.samples\n",
    "    feature_importance /= feature_importance.sum()\n",
    "    return feature_importance\n",
    "\n",
    "# Создаем обучающую выборку\n",
    "data = pd.DataFrame({\n",
    "    'age': [17, 64, 18, 20, 38, 49, 55, 25, 29, 31],\n",
    "    'income': [25, 80, 22, 36, 37, 59, 74, 70, 33, 102],\n",
    "    'loan': [1, 0, 1, 0, 1, 0, 0, 1, 1, 0]\n",
    "})\n",
    "X = data[['age', 'income']]\n",
    "y = data['loan'] \n",
    "# Строим дерево решений и печатаем его на экран\n",
    "decision_tree = build_decision_tree(X, y, entropy)\n",
    "# Считаем информативности признаков\n",
    "print(calculate_feature_importances(decision_tree))"
   ]
  },
  {
   "attachments": {},
   "cell_type": "markdown",
   "id": "7792ba61",
   "metadata": {},
   "source": [
    "Практика"
   ]
  },
  {
   "cell_type": "code",
   "execution_count": 26,
   "id": "b5e80309",
   "metadata": {},
   "outputs": [],
   "source": [
    "import pandas as pd\n",
    "import matplotlib.pyplot as plt\n",
    "import seaborn as sns\n",
    "import numpy as np\n",
    "from sklearn import tree\n",
    "from sklearn import model_selection\n",
    "from sklearn import metrics"
   ]
  },
  {
   "cell_type": "code",
   "execution_count": 28,
   "id": "7efb889f",
   "metadata": {},
   "outputs": [
    {
     "data": {
      "text/html": [
       "<div>\n",
       "<style scoped>\n",
       "    .dataframe tbody tr th:only-of-type {\n",
       "        vertical-align: middle;\n",
       "    }\n",
       "\n",
       "    .dataframe tbody tr th {\n",
       "        vertical-align: top;\n",
       "    }\n",
       "\n",
       "    .dataframe thead th {\n",
       "        text-align: right;\n",
       "    }\n",
       "</style>\n",
       "<table border=\"1\" class=\"dataframe\">\n",
       "  <thead>\n",
       "    <tr style=\"text-align: right;\">\n",
       "      <th></th>\n",
       "      <th>meanfreq</th>\n",
       "      <th>sd</th>\n",
       "      <th>median</th>\n",
       "      <th>Q25</th>\n",
       "      <th>Q75</th>\n",
       "      <th>IQR</th>\n",
       "      <th>skew</th>\n",
       "      <th>kurt</th>\n",
       "      <th>sp.ent</th>\n",
       "      <th>sfm</th>\n",
       "      <th>...</th>\n",
       "      <th>centroid</th>\n",
       "      <th>meanfun</th>\n",
       "      <th>minfun</th>\n",
       "      <th>maxfun</th>\n",
       "      <th>meandom</th>\n",
       "      <th>mindom</th>\n",
       "      <th>maxdom</th>\n",
       "      <th>dfrange</th>\n",
       "      <th>modindx</th>\n",
       "      <th>label</th>\n",
       "    </tr>\n",
       "  </thead>\n",
       "  <tbody>\n",
       "    <tr>\n",
       "      <th>0</th>\n",
       "      <td>0.059781</td>\n",
       "      <td>0.064241</td>\n",
       "      <td>0.032027</td>\n",
       "      <td>0.015071</td>\n",
       "      <td>0.090193</td>\n",
       "      <td>0.075122</td>\n",
       "      <td>12.863462</td>\n",
       "      <td>274.402905</td>\n",
       "      <td>0.893369</td>\n",
       "      <td>0.491918</td>\n",
       "      <td>...</td>\n",
       "      <td>0.059781</td>\n",
       "      <td>0.084279</td>\n",
       "      <td>0.015702</td>\n",
       "      <td>0.275862</td>\n",
       "      <td>0.007812</td>\n",
       "      <td>0.007812</td>\n",
       "      <td>0.007812</td>\n",
       "      <td>0.000000</td>\n",
       "      <td>0.000000</td>\n",
       "      <td>male</td>\n",
       "    </tr>\n",
       "    <tr>\n",
       "      <th>1</th>\n",
       "      <td>0.066009</td>\n",
       "      <td>0.067310</td>\n",
       "      <td>0.040229</td>\n",
       "      <td>0.019414</td>\n",
       "      <td>0.092666</td>\n",
       "      <td>0.073252</td>\n",
       "      <td>22.423285</td>\n",
       "      <td>634.613855</td>\n",
       "      <td>0.892193</td>\n",
       "      <td>0.513724</td>\n",
       "      <td>...</td>\n",
       "      <td>0.066009</td>\n",
       "      <td>0.107937</td>\n",
       "      <td>0.015826</td>\n",
       "      <td>0.250000</td>\n",
       "      <td>0.009014</td>\n",
       "      <td>0.007812</td>\n",
       "      <td>0.054688</td>\n",
       "      <td>0.046875</td>\n",
       "      <td>0.052632</td>\n",
       "      <td>male</td>\n",
       "    </tr>\n",
       "    <tr>\n",
       "      <th>2</th>\n",
       "      <td>0.077316</td>\n",
       "      <td>0.083829</td>\n",
       "      <td>0.036718</td>\n",
       "      <td>0.008701</td>\n",
       "      <td>0.131908</td>\n",
       "      <td>0.123207</td>\n",
       "      <td>30.757155</td>\n",
       "      <td>1024.927705</td>\n",
       "      <td>0.846389</td>\n",
       "      <td>0.478905</td>\n",
       "      <td>...</td>\n",
       "      <td>0.077316</td>\n",
       "      <td>0.098706</td>\n",
       "      <td>0.015656</td>\n",
       "      <td>0.271186</td>\n",
       "      <td>0.007990</td>\n",
       "      <td>0.007812</td>\n",
       "      <td>0.015625</td>\n",
       "      <td>0.007812</td>\n",
       "      <td>0.046512</td>\n",
       "      <td>male</td>\n",
       "    </tr>\n",
       "    <tr>\n",
       "      <th>3</th>\n",
       "      <td>0.151228</td>\n",
       "      <td>0.072111</td>\n",
       "      <td>0.158011</td>\n",
       "      <td>0.096582</td>\n",
       "      <td>0.207955</td>\n",
       "      <td>0.111374</td>\n",
       "      <td>1.232831</td>\n",
       "      <td>4.177296</td>\n",
       "      <td>0.963322</td>\n",
       "      <td>0.727232</td>\n",
       "      <td>...</td>\n",
       "      <td>0.151228</td>\n",
       "      <td>0.088965</td>\n",
       "      <td>0.017798</td>\n",
       "      <td>0.250000</td>\n",
       "      <td>0.201497</td>\n",
       "      <td>0.007812</td>\n",
       "      <td>0.562500</td>\n",
       "      <td>0.554688</td>\n",
       "      <td>0.247119</td>\n",
       "      <td>male</td>\n",
       "    </tr>\n",
       "    <tr>\n",
       "      <th>4</th>\n",
       "      <td>0.135120</td>\n",
       "      <td>0.079146</td>\n",
       "      <td>0.124656</td>\n",
       "      <td>0.078720</td>\n",
       "      <td>0.206045</td>\n",
       "      <td>0.127325</td>\n",
       "      <td>1.101174</td>\n",
       "      <td>4.333713</td>\n",
       "      <td>0.971955</td>\n",
       "      <td>0.783568</td>\n",
       "      <td>...</td>\n",
       "      <td>0.135120</td>\n",
       "      <td>0.106398</td>\n",
       "      <td>0.016931</td>\n",
       "      <td>0.266667</td>\n",
       "      <td>0.712812</td>\n",
       "      <td>0.007812</td>\n",
       "      <td>5.484375</td>\n",
       "      <td>5.476562</td>\n",
       "      <td>0.208274</td>\n",
       "      <td>male</td>\n",
       "    </tr>\n",
       "  </tbody>\n",
       "</table>\n",
       "<p>5 rows × 21 columns</p>\n",
       "</div>"
      ],
      "text/plain": [
       "   meanfreq        sd    median       Q25       Q75       IQR       skew  \\\n",
       "0  0.059781  0.064241  0.032027  0.015071  0.090193  0.075122  12.863462   \n",
       "1  0.066009  0.067310  0.040229  0.019414  0.092666  0.073252  22.423285   \n",
       "2  0.077316  0.083829  0.036718  0.008701  0.131908  0.123207  30.757155   \n",
       "3  0.151228  0.072111  0.158011  0.096582  0.207955  0.111374   1.232831   \n",
       "4  0.135120  0.079146  0.124656  0.078720  0.206045  0.127325   1.101174   \n",
       "\n",
       "          kurt    sp.ent       sfm  ...  centroid   meanfun    minfun  \\\n",
       "0   274.402905  0.893369  0.491918  ...  0.059781  0.084279  0.015702   \n",
       "1   634.613855  0.892193  0.513724  ...  0.066009  0.107937  0.015826   \n",
       "2  1024.927705  0.846389  0.478905  ...  0.077316  0.098706  0.015656   \n",
       "3     4.177296  0.963322  0.727232  ...  0.151228  0.088965  0.017798   \n",
       "4     4.333713  0.971955  0.783568  ...  0.135120  0.106398  0.016931   \n",
       "\n",
       "     maxfun   meandom    mindom    maxdom   dfrange   modindx  label  \n",
       "0  0.275862  0.007812  0.007812  0.007812  0.000000  0.000000   male  \n",
       "1  0.250000  0.009014  0.007812  0.054688  0.046875  0.052632   male  \n",
       "2  0.271186  0.007990  0.007812  0.015625  0.007812  0.046512   male  \n",
       "3  0.250000  0.201497  0.007812  0.562500  0.554688  0.247119   male  \n",
       "4  0.266667  0.712812  0.007812  5.484375  5.476562  0.208274   male  \n",
       "\n",
       "[5 rows x 21 columns]"
      ]
     },
     "execution_count": 28,
     "metadata": {},
     "output_type": "execute_result"
    }
   ],
   "source": [
    "voice_data = pd.read_csv('data/voice_gender.csv')\n",
    "voice_data.head()"
   ]
  },
  {
   "cell_type": "code",
   "execution_count": 29,
   "id": "2fa1470a",
   "metadata": {},
   "outputs": [
    {
     "data": {
      "text/plain": [
       "0"
      ]
     },
     "execution_count": 29,
     "metadata": {},
     "output_type": "execute_result"
    }
   ],
   "source": [
    "voice_data.isnull().sum().sum()"
   ]
  },
  {
   "cell_type": "code",
   "execution_count": 38,
   "id": "8e5cf6ce",
   "metadata": {},
   "outputs": [],
   "source": [
    "# Создаём обучающую выборку\n",
    "X = voice_data.drop(columns=['label'])\n",
    "y = voice_data['label']"
   ]
  },
  {
   "cell_type": "code",
   "execution_count": 40,
   "id": "628a5319",
   "metadata": {},
   "outputs": [
    {
     "name": "stdout",
     "output_type": "stream",
     "text": [
      "Train shape: (2534, 20)\n",
      "Test shape: (634, 20)\n"
     ]
    }
   ],
   "source": [
    "X_train, X_test, y_train, y_test = model_selection.train_test_split(X, y, test_size=0.2, stratify=y, random_state=42)\n",
    "print('Train shape: {}'.format(X_train.shape))\n",
    "print('Test shape: {}'.format(X_test.shape))"
   ]
  },
  {
   "attachments": {},
   "cell_type": "markdown",
   "id": "1a2afeec",
   "metadata": {},
   "source": [
    "7.1 Начнём с решающего пня.\n",
    "\n",
    "Создайте модель дерева решений максимальной глубины 1. В качестве критерия информативности используйте энтропию Шеннона.\n",
    "\n",
    "Обучите модель на тренировочной выборке и визуализируйте её в виде графа.\n",
    "\n",
    "\n"
   ]
  },
  {
   "cell_type": "code",
   "execution_count": 42,
   "id": "067685c2",
   "metadata": {},
   "outputs": [
    {
     "name": "stdout",
     "output_type": "stream",
     "text": [
      "Accuracy: 0.956\n"
     ]
    },
    {
     "data": {
      "image/png": "[encoded data removed]",
      "text/plain": [
       "<Figure size 1080x504 with 1 Axes>"
      ]
     },
     "metadata": {
      "needs_background": "light"
     },
     "output_type": "display_data"
    }
   ],
   "source": [
    "# Инициализируем модель дерева решений с глубиной 1 и обучаем ее\n",
    "dt = tree.DecisionTreeClassifier(\n",
    "    max_depth=1, #глубина\n",
    "    criterion='entropy' #критерий информативности\n",
    ")\n",
    "dt.fit(X_train, y_train)\n",
    "\n",
    "# Визуализируем дерево решений в виде графа\n",
    "fig = plt.figure(figsize=(15, 7))\n",
    "tree_graph = tree.plot_tree(\n",
    "    decision_tree=dt, #дерево\n",
    "    feature_names=X.columns, #имена факторов\n",
    "    proportion=True, #выводить ли количество данных в пропорциях\n",
    "    filled=True, #расцветка\n",
    "    class_names=dt.classes_, #имена классов\n",
    ");\n",
    "# Делаем предсказание\n",
    "y_test_pred = dt.predict(X_test)\n",
    "# Считаем метрику accuracy на тестовой выборке\n",
    "print('Accuracy: {:.3f}'.format(metrics.accuracy_score(y_test, y_test_pred)))"
   ]
  },
  {
   "attachments": {},
   "cell_type": "markdown",
   "id": "cfe354b4",
   "metadata": {},
   "source": [
    "7.2 Увеличим глубину дерева.\n",
    "\n",
    "Создайте дерево решений с максимальной глубиной 2. В качестве критерия информативности используйте энтропию Шеннона.\n",
    "\n",
    "Обучите модель на тренировочной выборке и визуализируйте её в виде графа."
   ]
  },
  {
   "cell_type": "code",
   "execution_count": 43,
   "id": "990b60fe",
   "metadata": {},
   "outputs": [
    {
     "name": "stdout",
     "output_type": "stream",
     "text": [
      "Accuracy: 0.962\n"
     ]
    },
    {
     "data": {
      "image/png": "[encoded data removed]",
      "text/plain": [
       "<Figure size 1080x504 with 1 Axes>"
      ]
     },
     "metadata": {
      "needs_background": "light"
     },
     "output_type": "display_data"
    }
   ],
   "source": [
    "# Инициализируем модель дерева решений с глубиной 1 и обучаем ее\n",
    "dt = tree.DecisionTreeClassifier(\n",
    "    max_depth=2, #глубина\n",
    "    criterion='entropy', #критерий информативности\n",
    "    random_state=42\n",
    ")\n",
    "dt.fit(X_train, y_train)\n",
    "# Визуализируем дерево решений в виде графа\n",
    "fig = plt.figure(figsize=(15, 7))\n",
    "tree_graph = tree.plot_tree(\n",
    "    decision_tree=dt, #дерево\n",
    "    feature_names=X.columns, #имена факторов\n",
    "    proportion=True, #выводить ли количество данных в пропорциях\n",
    "    filled=True, #расцветка\n",
    "    class_names=dt.classes_, #имена классов\n",
    ");\n",
    "# Делаем предсказание\n",
    "y_test_pred = dt.predict(X_test)\n",
    "# Считаем метрику accuracy на тестовой выборке\n",
    "print('Accuracy: {:.3f}'.format(metrics.accuracy_score(y_test, y_test_pred)))"
   ]
  },
  {
   "attachments": {},
   "cell_type": "markdown",
   "id": "f86fc7d4",
   "metadata": {},
   "source": [
    "7.3 Давайте дадим дереву решений полную свободу.\n",
    "\n",
    "Создайте дерево решений, не ограничивая его максимальную глубину. В качестве критерия информативности используйте энтропию Шеннона.\n",
    "\n",
    "В качестве значения параметра random_state возьмите 0.\n",
    "\n"
   ]
  },
  {
   "cell_type": "code",
   "execution_count": 44,
   "id": "bc540ed9",
   "metadata": {},
   "outputs": [
    {
     "name": "stdout",
     "output_type": "stream",
     "text": [
      "Depth: 12\n",
      "Count of leaves: 54\n",
      "Train accuracy: 1.000\n",
      "Test accuracy: 0.973\n"
     ]
    }
   ],
   "source": [
    "# Инициализируем модель дерева решений с глубиной 1 и обучаем ее\n",
    "dt = tree.DecisionTreeClassifier(\n",
    "    criterion='entropy', #критерий информативности\n",
    "    random_state=0 #генератор случайных чисел\n",
    ")\n",
    "dt.fit(X_train, y_train)\n",
    "print('Depth: {}'.format(dt.get_depth()))\n",
    "print('Count of leaves: {}'.format(dt.get_n_leaves()))\n",
    "# Делаем предсказание\n",
    "y_train_pred = dt.predict(X_train)\n",
    "y_test_pred = dt.predict(X_test)\n",
    "# Считаем метрику accuracy на обучающей и тестовой выборках\n",
    "print('Train accuracy: {:.3f}'.format(metrics.accuracy_score(y_train, y_train_pred)))\n",
    "print('Test accuracy: {:.3f}'.format(metrics.accuracy_score(y_test, y_test_pred)))"
   ]
  },
  {
   "attachments": {},
   "cell_type": "markdown",
   "id": "1efaad5c",
   "metadata": {},
   "source": [
    "7.4 Давайте попробуем найти оптимальные внешние параметры модели дерева решений для поставленной задачи. Воспользуемся классическим методом подбора гиперпараметров — перебором на сетке с кросс-валидацией (Grid SearchCV)."
   ]
  },
  {
   "cell_type": "code",
   "execution_count": 45,
   "id": "b4c362ef",
   "metadata": {},
   "outputs": [
    {
     "name": "stdout",
     "output_type": "stream",
     "text": [
      "{'criterion': 'gini', 'max_depth': 7, 'min_samples_split': 3}\n",
      "Train accuracy: 0.996\n",
      "Test accuracy: 0.970\n"
     ]
    }
   ],
   "source": [
    "# Задаем сетку параметров\n",
    "param_grid = {\n",
    "    'criterion': ['gini', 'entropy'], #критерий информативности\n",
    "    'max_depth': [4, 5, 6, 7, 8, 9, 10], #максимальная глубина дерева\n",
    "    'min_samples_split': [3, 4, 5, 10] #минимальное количество объектов, необходимое для сплита\n",
    "}\n",
    "\n",
    "# Задаем метод кросс-валидации\n",
    "cv = model_selection.StratifiedKFold(n_splits=5)\n",
    "\n",
    "# Инициализируем поиск на сетке и обучаем его\n",
    "gs = model_selection.GridSearchCV(\n",
    "    estimator=tree.DecisionTreeClassifier(random_state=0), #модель\n",
    "    param_grid=param_grid, #сетка параметров\n",
    "    scoring='accuracy', #метрика\n",
    "    cv=cv, #кросс-валидатор\n",
    "    n_jobs=-1 #используем все мощности процессора\n",
    ")\n",
    "gs.fit(X_train, y_train)\n",
    "print(gs.best_params_)\n",
    "# Определяем наилучшую модель\n",
    "best_tree = gs.best_estimator_\n",
    "\n",
    "# Делаем предсказание\n",
    "y_train_pred = best_tree.predict(X_train)\n",
    "y_test_pred = best_tree.predict(X_test)\n",
    "# Считаем метрику accuracy на обучающей и тестовой выборках\n",
    "print('Train accuracy: {:.3f}'.format(metrics.accuracy_score(y_train, y_train_pred)))\n",
    "print('Test accuracy: {:.3f}'.format(metrics.accuracy_score(y_test, y_test_pred)))"
   ]
  },
  {
   "attachments": {},
   "cell_type": "markdown",
   "id": "bf93f4b4",
   "metadata": {},
   "source": [
    "7.5  Для оптимального дерева решений, построенного в задании 7.4, найдите важность каждого из факторов. Визуализируйте её в виде столбчатой диаграммы."
   ]
  },
  {
   "cell_type": "code",
   "execution_count": 46,
   "id": "20f462ac",
   "metadata": {},
   "outputs": [
    {
     "data": {
      "image/png": "[encoded data removed]",
      "text/plain": [
       "<Figure size 936x360 with 1 Axes>"
      ]
     },
     "metadata": {
      "needs_background": "light"
     },
     "output_type": "display_data"
    }
   ],
   "source": [
    "fig, ax = plt.subplots(figsize=(13, 5)) #фигура + координатная плоскость\n",
    "features = X.columns #признаки\n",
    "feature_importances = best_tree.feature_importances_ #важность признаков\n",
    "# Создаём DataFrame, содержащий информацию о важности признаков\n",
    "importances_data = pd.DataFrame({'features': features, 'importances': feature_importances})\n",
    "importances_data = importances_data.sort_values(by='importances', ascending=False)\n",
    "# Строим столбчатую диаграмму\n",
    "sns.barplot(data=importances_data, x='features', y='importances', ax=ax);\n",
    "# Добавляем подпись к графику и поворот меток на оси абсцисс\n",
    "ax.set_title('Bar plot feature importances')\n",
    "ax.xaxis.set_tick_params(rotation=90)"
   ]
  },
  {
   "attachments": {},
   "cell_type": "markdown",
   "id": "695352ae",
   "metadata": {},
   "source": [
    "MATH&ML-9. Математика ансамблевых методо"
   ]
  },
  {
   "attachments": {},
   "cell_type": "markdown",
   "id": "7bba1351",
   "metadata": {},
   "source": [
    "2.7 Объёмная и содержательная практика у нас ещё впереди, но в качестве разминки давайте поработаем с уже известным вам датасетом о вине, который можно скачать здесь.\n",
    "\n",
    "Ранее вы обучали на данных только один алгоритм, а теперь мы попробуем сравнить несколько.\n",
    "\n",
    "Подготовьте данные к классификации. Условно разделите вино на хорошее и плохое. Хорошим вином будем называть то, параметр quality которого — 6 и более.\n",
    "Сравните несколько методов классификации: логистическую регрессию, дерево решений и бэггинг. Это позволит вам увидеть, как меняется качество в зависимости от выбора того или иного алгоритма.\n",
    "Разделите выборку на обучающую и тестовую в соотношении 70/30, в качестве значения параметра random_state возьмите число 42.\n",
    "Для начала обучите два классификатора: логистическую регрессию (с параметрами по умолчанию) и дерево решений (random_state = 42, максимальная глубина — 10)."
   ]
  },
  {
   "cell_type": "code",
   "execution_count": 49,
   "id": "0cc0ef1d",
   "metadata": {},
   "outputs": [],
   "source": [
    "\n",
    "from sklearn.model_selection import train_test_split\n",
    "from sklearn import linear_model #линейные модели\n",
    "from sklearn import metrics #метрики\n",
    "\n",
    "from sklearn.linear_model import LogisticRegression\n",
    "from sklearn.metrics import f1_score\n",
    "from sklearn.tree import DecisionTreeClassifier"
   ]
  },
  {
   "cell_type": "code",
   "execution_count": 54,
   "id": "20cc187c",
   "metadata": {},
   "outputs": [],
   "source": [
    "df= pd.read_csv(\"data/winequality-red.csv\",sep=';')\n"
   ]
  },
  {
   "cell_type": "code",
   "execution_count": 55,
   "id": "ed54ab36",
   "metadata": {},
   "outputs": [
    {
     "data": {
      "text/html": [
       "<div>\n",
       "<style scoped>\n",
       "    .dataframe tbody tr th:only-of-type {\n",
       "        vertical-align: middle;\n",
       "    }\n",
       "\n",
       "    .dataframe tbody tr th {\n",
       "        vertical-align: top;\n",
       "    }\n",
       "\n",
       "    .dataframe thead th {\n",
       "        text-align: right;\n",
       "    }\n",
       "</style>\n",
       "<table border=\"1\" class=\"dataframe\">\n",
       "  <thead>\n",
       "    <tr style=\"text-align: right;\">\n",
       "      <th></th>\n",
       "      <th>fixed acidity</th>\n",
       "      <th>volatile acidity</th>\n",
       "      <th>citric acid</th>\n",
       "      <th>residual sugar</th>\n",
       "      <th>chlorides</th>\n",
       "      <th>free sulfur dioxide</th>\n",
       "      <th>total sulfur dioxide</th>\n",
       "      <th>density</th>\n",
       "      <th>pH</th>\n",
       "      <th>sulphates</th>\n",
       "      <th>alcohol</th>\n",
       "      <th>quality</th>\n",
       "    </tr>\n",
       "  </thead>\n",
       "  <tbody>\n",
       "    <tr>\n",
       "      <th>0</th>\n",
       "      <td>7.4</td>\n",
       "      <td>0.70</td>\n",
       "      <td>0.00</td>\n",
       "      <td>1.9</td>\n",
       "      <td>0.076</td>\n",
       "      <td>11.0</td>\n",
       "      <td>34.0</td>\n",
       "      <td>0.9978</td>\n",
       "      <td>3.51</td>\n",
       "      <td>0.56</td>\n",
       "      <td>9.4</td>\n",
       "      <td>5</td>\n",
       "    </tr>\n",
       "    <tr>\n",
       "      <th>1</th>\n",
       "      <td>7.8</td>\n",
       "      <td>0.88</td>\n",
       "      <td>0.00</td>\n",
       "      <td>2.6</td>\n",
       "      <td>0.098</td>\n",
       "      <td>25.0</td>\n",
       "      <td>67.0</td>\n",
       "      <td>0.9968</td>\n",
       "      <td>3.20</td>\n",
       "      <td>0.68</td>\n",
       "      <td>9.8</td>\n",
       "      <td>5</td>\n",
       "    </tr>\n",
       "    <tr>\n",
       "      <th>2</th>\n",
       "      <td>7.8</td>\n",
       "      <td>0.76</td>\n",
       "      <td>0.04</td>\n",
       "      <td>2.3</td>\n",
       "      <td>0.092</td>\n",
       "      <td>15.0</td>\n",
       "      <td>54.0</td>\n",
       "      <td>0.9970</td>\n",
       "      <td>3.26</td>\n",
       "      <td>0.65</td>\n",
       "      <td>9.8</td>\n",
       "      <td>5</td>\n",
       "    </tr>\n",
       "    <tr>\n",
       "      <th>3</th>\n",
       "      <td>11.2</td>\n",
       "      <td>0.28</td>\n",
       "      <td>0.56</td>\n",
       "      <td>1.9</td>\n",
       "      <td>0.075</td>\n",
       "      <td>17.0</td>\n",
       "      <td>60.0</td>\n",
       "      <td>0.9980</td>\n",
       "      <td>3.16</td>\n",
       "      <td>0.58</td>\n",
       "      <td>9.8</td>\n",
       "      <td>6</td>\n",
       "    </tr>\n",
       "    <tr>\n",
       "      <th>4</th>\n",
       "      <td>7.4</td>\n",
       "      <td>0.70</td>\n",
       "      <td>0.00</td>\n",
       "      <td>1.9</td>\n",
       "      <td>0.076</td>\n",
       "      <td>11.0</td>\n",
       "      <td>34.0</td>\n",
       "      <td>0.9978</td>\n",
       "      <td>3.51</td>\n",
       "      <td>0.56</td>\n",
       "      <td>9.4</td>\n",
       "      <td>5</td>\n",
       "    </tr>\n",
       "  </tbody>\n",
       "</table>\n",
       "</div>"
      ],
      "text/plain": [
       "   fixed acidity  volatile acidity  citric acid  residual sugar  chlorides  \\\n",
       "0            7.4              0.70         0.00             1.9      0.076   \n",
       "1            7.8              0.88         0.00             2.6      0.098   \n",
       "2            7.8              0.76         0.04             2.3      0.092   \n",
       "3           11.2              0.28         0.56             1.9      0.075   \n",
       "4            7.4              0.70         0.00             1.9      0.076   \n",
       "\n",
       "   free sulfur dioxide  total sulfur dioxide  density    pH  sulphates  \\\n",
       "0                 11.0                  34.0   0.9978  3.51       0.56   \n",
       "1                 25.0                  67.0   0.9968  3.20       0.68   \n",
       "2                 15.0                  54.0   0.9970  3.26       0.65   \n",
       "3                 17.0                  60.0   0.9980  3.16       0.58   \n",
       "4                 11.0                  34.0   0.9978  3.51       0.56   \n",
       "\n",
       "   alcohol  quality  \n",
       "0      9.4        5  \n",
       "1      9.8        5  \n",
       "2      9.8        5  \n",
       "3      9.8        6  \n",
       "4      9.4        5  "
      ]
     },
     "execution_count": 55,
     "metadata": {},
     "output_type": "execute_result"
    }
   ],
   "source": [
    "df.head()"
   ]
  },
  {
   "cell_type": "code",
   "execution_count": 57,
   "id": "aceb00e6",
   "metadata": {},
   "outputs": [
    {
     "name": "stderr",
     "output_type": "stream",
     "text": [
      "/Users/sev/Library/Python/3.8/lib/python/site-packages/sklearn/linear_model/_logistic.py:444: ConvergenceWarning: lbfgs failed to converge (status=1):\n",
      "STOP: TOTAL NO. of ITERATIONS REACHED LIMIT.\n",
      "\n",
      "Increase the number of iterations (max_iter) or scale the data as shown in:\n",
      "    https://scikit-learn.org/stable/modules/preprocessing.html\n",
      "Please also refer to the documentation for alternative solver options:\n",
      "    https://scikit-learn.org/stable/modules/linear_model.html#logistic-regression\n",
      "  n_iter_i = _check_optimize_result(\n"
     ]
    },
    {
     "data": {
      "text/plain": [
       "0.7528517110266161"
      ]
     },
     "execution_count": 57,
     "metadata": {},
     "output_type": "execute_result"
    }
   ],
   "source": [
    "df['target']= np.where(df.quality >=6,1,0)\n",
    "Y= df['target']\n",
    "X = df.drop(['target', 'quality'], axis= 1)\n",
    "\n",
    "X_train, X_test, y_train, y_test = train_test_split(\n",
    "    X, Y, test_size=0.3, random_state=42)\n",
    "\n",
    "model = LogisticRegression()\n",
    "\n",
    "model.fit(X_train, y_train)\n",
    "preds_train = model.predict(X_train)\n",
    "preds_test = model.predict(X_test)\n",
    "f1_score(preds_test, y_test)\n"
   ]
  },
  {
   "cell_type": "code",
   "execution_count": 58,
   "id": "178a641e",
   "metadata": {},
   "outputs": [
    {
     "data": {
      "text/plain": [
       "0.7927927927927927"
      ]
     },
     "execution_count": 58,
     "metadata": {},
     "output_type": "execute_result"
    }
   ],
   "source": [
    "model = DecisionTreeClassifier(max_depth = 10, random_state=42)\n",
    "model.fit(X_train, y_train)\n",
    "preds_train = model.predict(X_train)\n",
    "preds_test = model.predict(X_test)\n",
    "f1_score(preds_test, y_test)"
   ]
  },
  {
   "attachments": {},
   "cell_type": "markdown",
   "id": "67985ae8",
   "metadata": {},
   "source": [
    "2.8 Обучите модель с использованием бэггинга (класс BaggingClassifier с random_state=42).\n",
    "\n",
    "Возьмите из предыдущего задания алгоритм, показавший наилучшее качество, и укажите для него новое количество моделей — 1500. Вычислите новое значение F1-score."
   ]
  },
  {
   "cell_type": "code",
   "execution_count": 59,
   "id": "c071721f",
   "metadata": {},
   "outputs": [],
   "source": [
    "from sklearn.ensemble import BaggingClassifier"
   ]
  },
  {
   "cell_type": "code",
   "execution_count": 60,
   "id": "f8d86aca",
   "metadata": {},
   "outputs": [
    {
     "data": {
      "text/plain": [
       "0.8181818181818181"
      ]
     },
     "execution_count": 60,
     "metadata": {},
     "output_type": "execute_result"
    }
   ],
   "source": [
    "model = BaggingClassifier(base_estimator=DecisionTreeClassifier(max_depth = 10, random_state=42), n_estimators=1500, random_state=42).fit(X_train, y_train)\n",
    "preds_train = model.predict(X_train)\n",
    "preds_test = model.predict(X_test)\n",
    "f1_score(preds_test, y_test)"
   ]
  },
  {
   "attachments": {},
   "cell_type": "markdown",
   "id": "9f1155a9",
   "metadata": {},
   "source": [
    "3.4  1. Разбейте набор данных на обучающую и тестовую выборку в соотношении 70/30, при разбиении задайте параметр random_state = 13."
   ]
  },
  {
   "cell_type": "code",
   "execution_count": 81,
   "id": "a6bd6338",
   "metadata": {},
   "outputs": [],
   "source": [
    "df= pd.read_csv(\"data/boston1.csv\",sep=',',decimal=',')"
   ]
  },
  {
   "cell_type": "code",
   "execution_count": 82,
   "id": "6783f537",
   "metadata": {},
   "outputs": [
    {
     "data": {
      "text/html": [
       "<div>\n",
       "<style scoped>\n",
       "    .dataframe tbody tr th:only-of-type {\n",
       "        vertical-align: middle;\n",
       "    }\n",
       "\n",
       "    .dataframe tbody tr th {\n",
       "        vertical-align: top;\n",
       "    }\n",
       "\n",
       "    .dataframe thead th {\n",
       "        text-align: right;\n",
       "    }\n",
       "</style>\n",
       "<table border=\"1\" class=\"dataframe\">\n",
       "  <thead>\n",
       "    <tr style=\"text-align: right;\">\n",
       "      <th></th>\n",
       "      <th>crim_rate</th>\n",
       "      <th>zn</th>\n",
       "      <th>business</th>\n",
       "      <th>river</th>\n",
       "      <th>nit_oxiden</th>\n",
       "      <th>rooms</th>\n",
       "      <th>age</th>\n",
       "      <th>dist</th>\n",
       "      <th>highways_index</th>\n",
       "      <th>tax</th>\n",
       "      <th>pup_per_teaс</th>\n",
       "      <th>lower</th>\n",
       "      <th>target</th>\n",
       "    </tr>\n",
       "  </thead>\n",
       "  <tbody>\n",
       "    <tr>\n",
       "      <th>0</th>\n",
       "      <td>0.00632</td>\n",
       "      <td>18.0</td>\n",
       "      <td>2.31</td>\n",
       "      <td>0</td>\n",
       "      <td>0.538</td>\n",
       "      <td>6.575</td>\n",
       "      <td>65.2</td>\n",
       "      <td>4.0900</td>\n",
       "      <td>1</td>\n",
       "      <td>296</td>\n",
       "      <td>15.3</td>\n",
       "      <td>4.98</td>\n",
       "      <td>24.0</td>\n",
       "    </tr>\n",
       "    <tr>\n",
       "      <th>1</th>\n",
       "      <td>0.02731</td>\n",
       "      <td>0.0</td>\n",
       "      <td>7.07</td>\n",
       "      <td>0</td>\n",
       "      <td>0.469</td>\n",
       "      <td>6.421</td>\n",
       "      <td>78.9</td>\n",
       "      <td>4.9671</td>\n",
       "      <td>2</td>\n",
       "      <td>242</td>\n",
       "      <td>17.8</td>\n",
       "      <td>9.14</td>\n",
       "      <td>21.6</td>\n",
       "    </tr>\n",
       "    <tr>\n",
       "      <th>2</th>\n",
       "      <td>0.02729</td>\n",
       "      <td>0.0</td>\n",
       "      <td>7.07</td>\n",
       "      <td>0</td>\n",
       "      <td>0.469</td>\n",
       "      <td>7.185</td>\n",
       "      <td>61.1</td>\n",
       "      <td>4.9671</td>\n",
       "      <td>2</td>\n",
       "      <td>242</td>\n",
       "      <td>17.8</td>\n",
       "      <td>4.03</td>\n",
       "      <td>34.7</td>\n",
       "    </tr>\n",
       "    <tr>\n",
       "      <th>3</th>\n",
       "      <td>0.03237</td>\n",
       "      <td>0.0</td>\n",
       "      <td>2.18</td>\n",
       "      <td>0</td>\n",
       "      <td>0.458</td>\n",
       "      <td>6.998</td>\n",
       "      <td>45.8</td>\n",
       "      <td>6.0622</td>\n",
       "      <td>3</td>\n",
       "      <td>222</td>\n",
       "      <td>18.7</td>\n",
       "      <td>2.94</td>\n",
       "      <td>33.4</td>\n",
       "    </tr>\n",
       "    <tr>\n",
       "      <th>4</th>\n",
       "      <td>0.06905</td>\n",
       "      <td>0.0</td>\n",
       "      <td>2.18</td>\n",
       "      <td>0</td>\n",
       "      <td>0.458</td>\n",
       "      <td>7.147</td>\n",
       "      <td>54.2</td>\n",
       "      <td>6.0622</td>\n",
       "      <td>3</td>\n",
       "      <td>222</td>\n",
       "      <td>18.7</td>\n",
       "      <td>5.33</td>\n",
       "      <td>36.2</td>\n",
       "    </tr>\n",
       "  </tbody>\n",
       "</table>\n",
       "</div>"
      ],
      "text/plain": [
       "   crim_rate    zn  business  river  nit_oxiden  rooms   age    dist  \\\n",
       "0    0.00632  18.0      2.31      0       0.538  6.575  65.2  4.0900   \n",
       "1    0.02731   0.0      7.07      0       0.469  6.421  78.9  4.9671   \n",
       "2    0.02729   0.0      7.07      0       0.469  7.185  61.1  4.9671   \n",
       "3    0.03237   0.0      2.18      0       0.458  6.998  45.8  6.0622   \n",
       "4    0.06905   0.0      2.18      0       0.458  7.147  54.2  6.0622   \n",
       "\n",
       "   highways_index  tax  pup_per_teaс  lower  target  \n",
       "0               1  296          15.3   4.98    24.0  \n",
       "1               2  242          17.8   9.14    21.6  \n",
       "2               2  242          17.8   4.03    34.7  \n",
       "3               3  222          18.7   2.94    33.4  \n",
       "4               3  222          18.7   5.33    36.2  "
      ]
     },
     "execution_count": 82,
     "metadata": {},
     "output_type": "execute_result"
    }
   ],
   "source": [
    "df.head()"
   ]
  },
  {
   "cell_type": "code",
   "execution_count": 83,
   "id": "283d4976",
   "metadata": {},
   "outputs": [],
   "source": [
    "Y= df['target']\n",
    "X = df.drop(['target'], axis= 1)"
   ]
  },
  {
   "cell_type": "code",
   "execution_count": 84,
   "id": "21e34257",
   "metadata": {},
   "outputs": [],
   "source": [
    "X_train, X_test, y_train, y_test = train_test_split(\n",
    "    X, Y, test_size=0.3, random_state=13)"
   ]
  },
  {
   "cell_type": "code",
   "execution_count": 85,
   "id": "36ea31bf",
   "metadata": {},
   "outputs": [
    {
     "data": {
      "text/plain": [
       "21.55"
      ]
     },
     "execution_count": 85,
     "metadata": {},
     "output_type": "execute_result"
    }
   ],
   "source": [
    "y_train.median()"
   ]
  },
  {
   "cell_type": "code",
   "execution_count": 91,
   "id": "d911ba29",
   "metadata": {},
   "outputs": [],
   "source": [
    "from sklearn.metrics import mean_absolute_error\n",
    "from sklearn.linear_model import LinearRegression"
   ]
  },
  {
   "attachments": {},
   "cell_type": "markdown",
   "id": "2d869873",
   "metadata": {},
   "source": [
    "Обучите линейную регрессию с параметрами по умолчанию."
   ]
  },
  {
   "cell_type": "code",
   "execution_count": 92,
   "id": "419888b9",
   "metadata": {},
   "outputs": [
    {
     "name": "stdout",
     "output_type": "stream",
     "text": [
      "3.7222793958561446\n"
     ]
    }
   ],
   "source": [
    "model_lr = LinearRegression()\n",
    "model_lr.fit(X_train, y_train)\n",
    "\n",
    "preds_train = model_lr.predict(X_train)\n",
    "preds_test = model_lr.predict(X_test)\n",
    "\n",
    "print(mean_absolute_error(y_test, preds_test))"
   ]
  },
  {
   "attachments": {},
   "cell_type": "markdown",
   "id": "b4294a52",
   "metadata": {},
   "source": [
    "Обучите решающее дерево с параметрами по умолчанию и аргументом random_state = 13."
   ]
  },
  {
   "cell_type": "code",
   "execution_count": 94,
   "id": "495af47e",
   "metadata": {},
   "outputs": [],
   "source": [
    "from sklearn.tree import DecisionTreeRegressor"
   ]
  },
  {
   "cell_type": "code",
   "execution_count": 97,
   "id": "b0288440",
   "metadata": {},
   "outputs": [
    {
     "name": "stdout",
     "output_type": "stream",
     "text": [
      "0.0\n",
      "2.8388157894736845\n"
     ]
    }
   ],
   "source": [
    "model = DecisionTreeRegressor(random_state=13)\n",
    "model.fit(X_train, y_train)\n",
    "\n",
    "preds_train = model.predict(X_train)\n",
    "preds_test = model.predict(X_test)\n",
    "\n",
    "\n",
    "print(mean_absolute_error(y_train, preds_train))\n",
    "print(mean_absolute_error(y_test, preds_test))"
   ]
  },
  {
   "attachments": {},
   "cell_type": "markdown",
   "id": "9247ad54",
   "metadata": {},
   "source": [
    "4. Обучите четыре случайных леса с числом деревьев 3, 10, 100, 500 и параметром random_state = 13."
   ]
  },
  {
   "cell_type": "code",
   "execution_count": 98,
   "id": "2c543c37",
   "metadata": {},
   "outputs": [],
   "source": [
    "from sklearn.ensemble import RandomForestRegressor"
   ]
  },
  {
   "cell_type": "code",
   "execution_count": 99,
   "id": "86263eec",
   "metadata": {},
   "outputs": [
    {
     "name": "stdout",
     "output_type": "stream",
     "text": [
      "2.9328947368421057\n",
      "2.466315789473684\n",
      "2.2559736842105265\n",
      "2.2365657894736892\n"
     ]
    }
   ],
   "source": [
    "for n in [3, 10, 100, 500]:\n",
    "    model = RandomForestRegressor(n_estimators=n, random_state = 13)\n",
    "    model.fit(X_train, y_train)\n",
    "    preds_train = model.predict(X_train)\n",
    "    preds_test = model.predict(X_test)\n",
    "    print(mean_absolute_error(y_test, preds_test))"
   ]
  }
 ],
 "metadata": {
  "kernelspec": {
   "display_name": "Python 3 (ipykernel)",
   "language": "python",
   "name": "python3"
  },
  "language_info": {
   "codemirror_mode": {
    "name": "ipython",
    "version": 3
   },
   "file_extension": ".py",
   "mimetype": "text/x-python",
   "name": "python",
   "nbconvert_exporter": "python",
   "pygments_lexer": "ipython3",
   "version": "3.8.2"
  }
 },
 "nbformat": 4,
 "nbformat_minor": 5
}
