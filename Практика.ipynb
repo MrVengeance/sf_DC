{
 "cells": [
  {
   "cell_type": "markdown",
   "id": "f468bf1e",
   "metadata": {},
   "source": [
    "## Область определения"
   ]
  },
  {
   "cell_type": "code",
   "execution_count": 17,
   "id": "c95eac41",
   "metadata": {},
   "outputs": [
    {
     "data": {
      "text/latex": [
       "$\\displaystyle \\left(-\\infty, -5\\right) \\cup \\left(-5, \\infty\\right)$"
      ],
      "text/plain": [
       "Union(Interval.open(-oo, -5), Interval.open(-5, oo))"
      ]
     },
     "execution_count": 17,
     "metadata": {},
     "output_type": "execute_result"
    }
   ],
   "source": [
    "from sympy import Symbol, S\n",
    "from sympy.calculus.util import continuous_domain \n",
    "x = Symbol(\"x\") \n",
    "f = (x**3)/(2*(x+5)**2)\n",
    "continuous_domain(f, x, S.Reals)\n"
   ]
  },
  {
   "cell_type": "markdown",
   "id": "3def5ae7",
   "metadata": {},
   "source": [
    "## Область значений функции"
   ]
  },
  {
   "cell_type": "code",
   "execution_count": 18,
   "id": "84f388ff",
   "metadata": {},
   "outputs": [
    {
     "data": {
      "text/latex": [
       "$\\displaystyle \\left(-\\infty, \\infty\\right)$"
      ],
      "text/plain": [
       "Interval(-oo, oo)"
      ]
     },
     "execution_count": 18,
     "metadata": {},
     "output_type": "execute_result"
    }
   ],
   "source": [
    "from sympy import Symbol, S\n",
    "from sympy.calculus.util import function_range\n",
    "x = Symbol(\"x\") \n",
    "f = (x**3)/(2*(x+5)**2)\n",
    "function_range(f, x, S.Reals)\n"
   ]
  },
  {
   "cell_type": "markdown",
   "id": "39726364",
   "metadata": {},
   "source": [
    "## Нахождение точек пересечения с осями координат"
   ]
  },
  {
   "cell_type": "code",
   "execution_count": 23,
   "id": "c484f33f",
   "metadata": {},
   "outputs": [
    {
     "data": {
      "text/latex": [
       "$\\displaystyle \\left\\{0\\right\\}$"
      ],
      "text/plain": [
       "{0}"
      ]
     },
     "execution_count": 23,
     "metadata": {},
     "output_type": "execute_result"
    }
   ],
   "source": [
    "from sympy import solveset, Eq\n",
    "f = (x**3)/(2*(x+5)**2)\n",
    "solveset(Eq(f, 0), x)"
   ]
  },
  {
   "cell_type": "code",
   "execution_count": 22,
   "id": "a11f173f",
   "metadata": {},
   "outputs": [
    {
     "data": {
      "text/latex": [
       "$\\displaystyle 0$"
      ],
      "text/plain": [
       "0"
      ]
     },
     "execution_count": 22,
     "metadata": {},
     "output_type": "execute_result"
    }
   ],
   "source": [
    "x = Symbol(\"x\")\n",
    "f = (x**3)/(2*(x+5)**2)\n",
    "f.subs(x, 0)"
   ]
  },
  {
   "cell_type": "markdown",
   "id": "14d60350",
   "metadata": {},
   "source": [
    "## Нахождение производной"
   ]
  },
  {
   "cell_type": "code",
   "execution_count": 28,
   "id": "749f70c3",
   "metadata": {},
   "outputs": [
    {
     "data": {
      "text/latex": [
       "$\\displaystyle - \\frac{2 x^{4}}{\\left(x^{2} - 1\\right)^{2}} + \\frac{3 x^{2}}{x^{2} - 1}$"
      ],
      "text/plain": [
       "-2*x**4/(x**2 - 1)**2 + 3*x**2/(x**2 - 1)"
      ]
     },
     "execution_count": 28,
     "metadata": {},
     "output_type": "execute_result"
    }
   ],
   "source": [
    "import sympy\n",
    "from sympy import diff\n",
    "x = sympy.Symbol(\"x\")\n",
    "f = (x**3)/(2*((x+5)**2))\n",
    "expr.diff(x)\n"
   ]
  },
  {
   "cell_type": "code",
   "execution_count": 26,
   "id": "7d1093f9",
   "metadata": {},
   "outputs": [
    {
     "data": {
      "text/latex": [
       "$\\displaystyle \\left\\{0, - \\sqrt{3}, \\sqrt{3}\\right\\}$"
      ],
      "text/plain": [
       "{0, -sqrt(3), sqrt(3)}"
      ]
     },
     "execution_count": 26,
     "metadata": {},
     "output_type": "execute_result"
    }
   ],
   "source": [
    "y = expr.diff(x)\n",
    "solveset(Eq(y, 0), x)"
   ]
  },
  {
   "cell_type": "markdown",
   "id": "10d568f8",
   "metadata": {},
   "source": [
    "## Нахождение второй производной"
   ]
  },
  {
   "cell_type": "code",
   "execution_count": 29,
   "id": "cfebc61b",
   "metadata": {},
   "outputs": [
    {
     "data": {
      "text/latex": [
       "$\\displaystyle \\frac{2 x \\left(\\frac{x^{2} \\cdot \\left(\\frac{4 x^{2}}{x^{2} - 1} - 1\\right)}{x^{2} - 1} - \\frac{6 x^{2}}{x^{2} - 1} + 3\\right)}{x^{2} - 1}$"
      ],
      "text/plain": [
       "2*x*(x**2*(4*x**2/(x**2 - 1) - 1)/(x**2 - 1) - 6*x**2/(x**2 - 1) + 3)/(x**2 - 1)"
      ]
     },
     "execution_count": 29,
     "metadata": {},
     "output_type": "execute_result"
    }
   ],
   "source": [
    "import sympy\n",
    "from sympy import diff\n",
    "x = sympy.Symbol(\"x\")\n",
    "f = (x**3)/(2*(x+5)**2)\n",
    "expr.diff(x,2)"
   ]
  },
  {
   "cell_type": "code",
   "execution_count": 9,
   "id": "31d8a7c8",
   "metadata": {},
   "outputs": [
    {
     "data": {
      "text/latex": [
       "$\\displaystyle \\left\\{0, - \\sqrt{3} i, \\sqrt{3} i\\right\\}$"
      ],
      "text/plain": [
       "{0, -sqrt(3)*I, sqrt(3)*I}"
      ]
     },
     "execution_count": 9,
     "metadata": {},
     "output_type": "execute_result"
    }
   ],
   "source": [
    "y = expr.diff(x,2)\n",
    "solveset(Eq(y, 0), x)"
   ]
  },
  {
   "cell_type": "markdown",
   "id": "fc9a293e",
   "metadata": {},
   "source": [
    "## Нахождение асимптот"
   ]
  },
  {
   "cell_type": "code",
   "execution_count": 9,
   "id": "9015fba6",
   "metadata": {},
   "outputs": [
    {
     "data": {
      "text/latex": [
       "$\\displaystyle \\infty$"
      ],
      "text/plain": [
       "oo"
      ]
     },
     "execution_count": 9,
     "metadata": {},
     "output_type": "execute_result"
    }
   ],
   "source": [
    "from sympy import Symbol, limit, oo\n",
    "x = Symbol(\"x\")\n",
    "f = (x**3)/(x**2-1)\n",
    "limit(f,x,oo)\n"
   ]
  },
  {
   "cell_type": "code",
   "execution_count": 10,
   "id": "ad626e7c",
   "metadata": {},
   "outputs": [
    {
     "data": {
      "text/latex": [
       "$\\displaystyle \\infty$"
      ],
      "text/plain": [
       "oo"
      ]
     },
     "execution_count": 10,
     "metadata": {},
     "output_type": "execute_result"
    }
   ],
   "source": [
    "from sympy import Symbol, limit, oo\n",
    "x = Symbol(\"x\")\n",
    "f = (x**3)/(x**2-1)\n",
    "limit(f,x,1)\n"
   ]
  },
  {
   "cell_type": "code",
   "execution_count": 11,
   "id": "13913fbf",
   "metadata": {},
   "outputs": [
    {
     "data": {
      "text/latex": [
       "$\\displaystyle \\infty$"
      ],
      "text/plain": [
       "oo"
      ]
     },
     "execution_count": 11,
     "metadata": {},
     "output_type": "execute_result"
    }
   ],
   "source": [
    "from sympy import Symbol, limit, oo\n",
    "x = Symbol(\"x\")\n",
    "f = (x**3)/(x**2-1)\n",
    "limit(f,x,-1)\n"
   ]
  },
  {
   "cell_type": "code",
   "execution_count": 12,
   "id": "dfb2adc9",
   "metadata": {},
   "outputs": [
    {
     "data": {
      "text/latex": [
       "$\\displaystyle 1$"
      ],
      "text/plain": [
       "1"
      ]
     },
     "execution_count": 12,
     "metadata": {},
     "output_type": "execute_result"
    }
   ],
   "source": [
    "from sympy import Symbol, limit, oo\n",
    "x = Symbol(\"x\")\n",
    "f = (x**3)/((x**2-1)*x)\n",
    "limit(f,x,oo)\n"
   ]
  },
  {
   "cell_type": "code",
   "execution_count": 13,
   "id": "1ed7d557",
   "metadata": {},
   "outputs": [
    {
     "data": {
      "text/latex": [
       "$\\displaystyle 0$"
      ],
      "text/plain": [
       "0"
      ]
     },
     "execution_count": 13,
     "metadata": {},
     "output_type": "execute_result"
    }
   ],
   "source": [
    "from sympy import Symbol, limit, oo\n",
    "x = Symbol(\"x\")\n",
    "f = (x**3)/((x**2-1)) - 1*x\n",
    "limit(f,x,oo)\n"
   ]
  },
  {
   "cell_type": "code",
   "execution_count": 30,
   "id": "23f4c70f",
   "metadata": {},
   "outputs": [],
   "source": [
    "import numpy as np\n",
    " \n",
    "def func_rosen(x):\n",
    "    r = np.sum(100*(x[1:]-x[:-1]**2)**2 + (1-x[:-1])**2, axis=0)\n",
    "    return r"
   ]
  },
  {
   "cell_type": "code",
   "execution_count": 33,
   "id": "f86761bb",
   "metadata": {},
   "outputs": [
    {
     "name": "stdout",
     "output_type": "stream",
     "text": [
      "[0.93865173 0.88210868 0.776457   0.60278764 0.36076162]\n"
     ]
    }
   ],
   "source": [
    "from scipy.optimize import least_squares\n",
    "x1 = np.array([2.4, 1.5, 2.1, 0.7, 1.1])\n",
    "result_point = least_squares(func_rosen, x1)\n",
    "print(result_point.x)"
   ]
  },
  {
   "cell_type": "code",
   "execution_count": 35,
   "id": "668049d5",
   "metadata": {},
   "outputs": [
    {
     "name": "stdout",
     "output_type": "stream",
     "text": [
      "Целевая функция для аргументов a и b :\n",
      " f =  3*a**2 + a + 5*b**2 + 4*b\n",
      "Функция ограничений:  a + b - 200 = 0\n",
      "Функция Лагранжа :\n",
      "  3*a**2 + a + 5*b**2 + 4*b + w*(a + b - 200)\n",
      "df/da = 6*a + w + 1 = 0\n",
      "df/db = 10*b + w + 4 = 0\n",
      "df/dw = a + b - 200 = 0\n",
      "Стационарная точка M(x,y):\n",
      " 125.1875 , 74.8125\n"
     ]
    }
   ],
   "source": [
    "from sympy import *\n",
    "a,b,w=symbols(' a b w' )\n",
    "g = 3*a**2 + a + 4*b + 5*b**2\n",
    "print('Целевая функция для аргументов a и b :\\n f = ', g)\n",
    "q = a + b - 200\n",
    "print('Функция ограничений: ', q,'= 0')\n",
    "f = 3*a**2 + a + 4*b + 5*b**2 + w*(a + b - 200)\n",
    "print('Функция Лагранжа :\\n ',f)\n",
    "fa = f.diff(a)\n",
    "print('df/da =',fa,'= 0')\n",
    "fb = f.diff(b)\n",
    "print('df/db =',fb,'= 0')\n",
    "fw = f.diff(w)\n",
    "print('df/dw =',fw,'= 0')\n",
    "sols = solve([fa,fb,fw],a,b,w)\n",
    "print('Стационарная точка M(x,y):\\n',float(sols[a]),',',float(sols[b]))\n",
    "\n"
   ]
  },
  {
   "attachments": {},
   "cell_type": "markdown",
   "id": "c2099898",
   "metadata": {},
   "source": [
    "5.3"
   ]
  },
  {
   "cell_type": "code",
   "execution_count": 37,
   "id": "0402decd",
   "metadata": {},
   "outputs": [
    {
     "data": {
      "text/plain": [
       "[(1.00000000000000, 0.0, 0.707106781186548)]"
      ]
     },
     "execution_count": 37,
     "metadata": {},
     "output_type": "execute_result"
    }
   ],
   "source": [
    "from sympy import *\n",
    "x,y,w=symbols(' x y w' )\n",
    "g = ((x-2)**2+(y-1)**2)**(0.5)\n",
    "q = x + y - 1\n",
    "f = ((x-2)**2+(y-1)**2)**(0.5) + w*(x + y - 1)\n",
    "fx = f.diff(x)\n",
    "fy = f.diff(y)\n",
    "fw = f.diff(w)\n",
    "sols = solve([fx,fy,fw],x,y,w)\n",
    "sols"
   ]
  },
  {
   "attachments": {},
   "cell_type": "markdown",
   "id": "6269c416",
   "metadata": {},
   "source": [
    "5.4"
   ]
  },
  {
   "cell_type": "code",
   "execution_count": 38,
   "id": "ec302096",
   "metadata": {},
   "outputs": [
    {
     "name": "stdout",
     "output_type": "stream",
     "text": [
      "(1, 1, 1, -4)\n"
     ]
    }
   ],
   "source": [
    "from sympy import *\n",
    "\n",
    "a,b,c,w=symbols('a b c w')\n",
    "g = 2*(a*b + a*c + b*c)\n",
    "\n",
    "L = 2*(a*b + a*c + b*c) + w*(a*b*c - 1)\n",
    "\n",
    "L_a = L.diff(a)\n",
    "L_b = L.diff(b)\n",
    "L_c = L.diff(c)\n",
    "L_w = L.diff(w)\n",
    "\n",
    "print(solve([L_a, L_b, L_c, L_w], a, b, c, w)[0])"
   ]
  },
  {
   "attachments": {},
   "cell_type": "markdown",
   "id": "e10f9d99",
   "metadata": {},
   "source": [
    "Длина забора — 20 метров. Какова максимальная площадь прямоугольного участка, который можно огородить? Хотя бы одна из сторон прямоугольника должна быть не меньше 6."
   ]
  },
  {
   "cell_type": "code",
   "execution_count": 39,
   "id": "4da4b559",
   "metadata": {},
   "outputs": [
    {
     "name": "stdout",
     "output_type": "stream",
     "text": [
      "[(6, 4, 0, 6, 2)]\n"
     ]
    }
   ],
   "source": [
    "# Импортируем все необходимые функции из библиотеки SymPy\n",
    "from sympy import init_printing, solve, symbols\n",
    "\n",
    "# Подключаем аккуратный вывод формул\n",
    "init_printing()\n",
    "\n",
    "# Создаём переменные\n",
    "x1, x2, x1_tilde, lambda1, lambda2 = symbols(\n",
    "    \"x_1 x_2 xtilde_2 \\lambda_1 \\lambda_2\", real=True\n",
    ")\n",
    "\n",
    "# Пишем систему уравнений для переменных\n",
    "dLdx1 = -x2 + lambda1 - lambda2\n",
    "dLdx2 = -x1 + lambda1\n",
    "dLdx1_tilde = 2 * lambda2 * x1_tilde\n",
    "dLdlambda1 = x1 + x2 - 10\n",
    "dLdlambda2 = -x1 + 6 + x1_tilde**2\n",
    "\n",
    "# Решаем систему уравнений с помощью функции solve\n",
    "solution = solve(\n",
    "    [dLdx1, dLdx2, dLdx1_tilde, dLdlambda1, dLdlambda2],\n",
    "    x1,\n",
    "    x2,\n",
    "    x1_tilde,\n",
    "    lambda1,\n",
    "    lambda2,\n",
    ")\n",
    "\n",
    "print(solution)"
   ]
  },
  {
   "cell_type": "code",
   "execution_count": 42,
   "id": "5ef627d2",
   "metadata": {},
   "outputs": [
    {
     "name": "stderr",
     "output_type": "stream",
     "text": [
      "/var/folders/t6/jc5fqrkn0gv95ps21cwdcp340000gn/T/ipykernel_17973/1166256466.py:1: DeprecationWarning: `np.float` is a deprecated alias for the builtin `float`. To silence this warning, use `float` by itself. Doing this will not modify any behavior and is safe. If you specifically wanted the numpy scalar type, use `np.float64` here.\n",
      "Deprecated in NumPy 1.20; for more details and guidance: https://numpy.org/devdocs/release/1.20.0-notes.html#deprecations\n",
      "  f = np.array([8, 2, 8, 3, 5, 6, 5, 15], dtype=np.float)\n"
     ]
    },
    {
     "data": {
      "text/plain": [
       "array([-0.85714286,  0.        ,  0.07142857, -0.21428571,  0.21428571,\n",
       "        0.        ,  0.64285714,  1.42857143])"
      ]
     },
     "execution_count": 42,
     "metadata": {},
     "output_type": "execute_result"
    }
   ],
   "source": [
    "f = np.array([8, 2, 8, 3, 5, 6, 5, 15], dtype=np.float)\n",
    " \n",
    "np.gradient(f,7)"
   ]
  }
 ],
 "metadata": {
  "kernelspec": {
   "display_name": "Python 3",
   "language": "python",
   "name": "python3"
  },
  "language_info": {
   "codemirror_mode": {
    "name": "ipython",
    "version": 3
   },
   "file_extension": ".py",
   "mimetype": "text/x-python",
   "name": "python",
   "nbconvert_exporter": "python",
   "pygments_lexer": "ipython3",
   "version": "3.8.2"
  },
  "vscode": {
   "interpreter": {
    "hash": "31f2aee4e71d21fbe5cf8b01ff0e069b9275f58929596ceb00d14d90e3e16cd6"
   }
  }
 },
 "nbformat": 4,
 "nbformat_minor": 5
}
